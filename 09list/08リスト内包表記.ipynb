{
 "cells": [
  {
   "cell_type": "markdown",
   "metadata": {
    "colab_type": "text",
    "id": "view-in-github"
   },
   "source": [
    "<a href=\"https://colab.research.google.com/github/YasuharuSuzuki/22-2nd_programing1/blob/main/12%E3%83%AA%E3%82%B9%E3%83%882/05%E3%83%AA%E3%82%B9%E3%83%88%E5%86%85%E5%8C%85%E8%A1%A8%E8%A8%98.ipynb\" target=\"_parent\"><img src=\"https://colab.research.google.com/assets/colab-badge.svg\" alt=\"Open In Colab\"/></a>"
   ]
  },
  {
   "cell_type": "markdown",
   "metadata": {},
   "source": [
    "# リスト内包表記(教科書P.173)"
   ]
  },
  {
   "cell_type": "markdown",
   "metadata": {},
   "source": [
    "## リスト 参考サイト\n",
    "## [参考サイト1【Python早見表】リスト](https://chokkan.github.io/python/06list.html)\n",
    "\n",
    "## [参考サイト2【Python入門】リスト](https://utokyo-ipp.github.io/2/2-2.html)\n",
    "\n",
    "## [参考サイト3【Python公式】リスト型(list)](https://docs.python.org/ja/3/library/stdtypes.html?highlight=list#lists)"
   ]
  },
  {
   "cell_type": "markdown",
   "metadata": {},
   "source": [
    "## リスト内包表記とは\n",
    "- listの中にfor inを書いて新しいリストを作る構文です\n",
    "- Pythonではよく使用されます。Pythonの代表的な構文の１つです。\n",
    "\n",
    "### 通常のfor文\n",
    "```python\n",
    "a1 = []\n",
    "for i in range(10):\n",
    "    a1.append(i)\n",
    "```\n",
    "\n",
    "### リスト内包表記を使うと...？\n",
    "```python\n",
    "a1 = [i for i in range(10)]\n",
    "```\n",
    "\n",
    "- このようにスッキリ書けます\n",
    "- ソースコードを左から\"list of i for all i in the range of ten\"のように英語読みをすると解釈しやすいです。なので日本語読みするときは右から読んだほうがわかりやすいかもしれませんね。\n",
    "\n",
    "### リスト内包表記の構文\n",
    "\n",
    "```python\n",
    "[式 for 変数 in イテラブル]\n",
    "```\n",
    "- 構文的には in の場所に「イテラブル」という、値を列挙可能なオブジェクトを定義することになっています。\n",
    "\n",
    "### イテラブル(iterable)とは？\n",
    "- Pythonのイテラブル(iterable)オブジェクトは、リストの他に、文字列、range()で作るシーケンス、辞書(dict)、tuple、setなどがあります。\n"
   ]
  },
  {
   "cell_type": "markdown",
   "metadata": {},
   "source": [
    "## サンプルプログラム10　リスト内包表記(教科書P.173)\n",
    "- リスト内包表記でrangeを使ってリストを作る\n",
    "- リスト内包表記でリストを加工して新たに作る\n",
    "- zipを使って2つのリストを使って加工したリストを新たに作る\n",
    "- リスト内包表記で文字列で単位を追加したリストを新たに作る"
   ]
  },
  {
   "cell_type": "code",
   "execution_count": 7,
   "metadata": {},
   "outputs": [
    {
     "name": "stdout",
     "output_type": "stream",
     "text": [
      "increments1 = [0, 1, 2, 3, 4, 5, 6, 7, 8, 9]\n",
      "increments5 = [0, 5, 10, 15, 20, 25, 30, 35, 40, 45]\n"
     ]
    }
   ],
   "source": [
    "# リストを作る\n",
    "increments1 = [i for i in range(10)] # iterableにrangeを使って0〜9までのリストを作る\n",
    "increments5 = [i*5 for i in increments1] # iterableにlistを使って5刻みの0〜45までのリストを作る\n",
    "print('increments1 =',increments1)\n",
    "print('increments5 =',increments5)"
   ]
  },
  {
   "cell_type": "markdown",
   "metadata": {},
   "source": [
    "- range を使用して簡単に1行でリストを作ることが出来ます。\n",
    "- listを使用して値を加工したリストを新たに作ることも出来ます。\n",
    "- 取り出した要素をprint文で出力しています"
   ]
  },
  {
   "cell_type": "code",
   "execution_count": 8,
   "metadata": {},
   "outputs": [
    {
     "name": "stdout",
     "output_type": "stream",
     "text": [
      "add_list = [0, 6, 12, 18, 24, 30, 36, 42, 48, 54]\n"
     ]
    }
   ],
   "source": [
    "# zipを使って2つのリストを足し合わせたリストを新たに作る\n",
    "add_list = [n1+n5 for n1,n5 in zip(increments1,increments5)]\n",
    "print('add_list =',add_list)"
   ]
  },
  {
   "cell_type": "code",
   "execution_count": 9,
   "metadata": {},
   "outputs": [
    {
     "name": "stdout",
     "output_type": "stream",
     "text": [
      "unit_cm = ['0cm', '5cm', '10cm', '15cm', '20cm', '25cm', '30cm', '35cm', '40cm', '45cm']\n"
     ]
    }
   ],
   "source": [
    "# 文字列で”cm”と単位をつけたリストを作る\n",
    "unit_cm =  [f\"{i}cm\" for i in increments5]\n",
    "print('unit_cm =',unit_cm)"
   ]
  },
  {
   "cell_type": "code",
   "execution_count": null,
   "metadata": {},
   "outputs": [],
   "source": []
  },
  {
   "cell_type": "markdown",
   "metadata": {},
   "source": [
    "## 練習プログラム10 (0.8点)\n",
    "- リスト内包表記でrangeを使ってリストを作る\n",
    "- リスト内包表記でリストを加工して新たに作る\n",
    "- zipを使って2つのリストを使って加工したリストを新たに作る\n",
    "- リスト内包表記で文字列で単位を追加したリストを新たに作る"
   ]
  },
  {
   "cell_type": "code",
   "execution_count": 2,
   "metadata": {},
   "outputs": [],
   "source": [
    "# 1. リスト内包表記でrangeを使ってリストを作ってみましょう\n",
    "# 入れる値は何でも良いですが、このNotebookのサンプルプログラムや教科書の値とは違う独自の値を入れましょう\n",
    "\n"
   ]
  },
  {
   "cell_type": "code",
   "execution_count": 3,
   "metadata": {},
   "outputs": [],
   "source": [
    "# 2. リスト内包表記でリストを加工して新たに作ってみましょう\n",
    "\n"
   ]
  },
  {
   "cell_type": "code",
   "execution_count": 4,
   "metadata": {},
   "outputs": [],
   "source": [
    "# 3. zipを使って2つのリストを使って加工したリストを新たに作ってみましょう\n",
    "\n"
   ]
  },
  {
   "cell_type": "code",
   "execution_count": 5,
   "metadata": {},
   "outputs": [],
   "source": [
    "# 4. リスト内包表記で文字列で単位を追加したリストを新たに作ってみましょう\n",
    "\n"
   ]
  },
  {
   "cell_type": "code",
   "execution_count": null,
   "metadata": {},
   "outputs": [],
   "source": []
  },
  {
   "cell_type": "markdown",
   "metadata": {},
   "source": [
    "## 条件付きリスト内包表記の構文\n",
    "リスト内包表記にifを使って条件式を追加することで、条件にみあったリストを作ることが出来ます\n",
    "```python\n",
    "[式 for 変数 in イテラブル if 条件式]\n",
    "```"
   ]
  },
  {
   "cell_type": "markdown",
   "metadata": {},
   "source": [
    "## サンプルプログラム11　条件付きのリスト内包表記(教科書P.175)\n",
    "- 条件付きリスト内包表記\n",
    "- 2つ以上の条件付きリスト内包表記"
   ]
  },
  {
   "cell_type": "code",
   "execution_count": 11,
   "metadata": {},
   "outputs": [
    {
     "name": "stdout",
     "output_type": "stream",
     "text": [
      "number2to4 = [2, 3, 4]\n"
     ]
    }
   ],
   "source": [
    "# 条件付きリスト内包表記：1〜9のリストから２〜４の値だけ取り出してリストを作る\n",
    "number2to4 = [num for num in increments1 if 2<=num<=4]\n",
    "print('number2to4 =',number2to4)"
   ]
  },
  {
   "cell_type": "code",
   "execution_count": 13,
   "metadata": {},
   "outputs": [
    {
     "name": "stdout",
     "output_type": "stream",
     "text": [
      "odd2to8 = [3, 5, 7]\n"
     ]
    }
   ],
   "source": [
    "# 2つ以上の条件付きリスト内包表記：２〜8の値で奇数だけ取り出してリストを作る\n",
    "odd2to8 = [num for num in increments1 if 2<=num<=8 if num%2==1]\n",
    "print('odd2to8 =',odd2to8)"
   ]
  },
  {
   "cell_type": "markdown",
   "metadata": {},
   "source": [
    "## 練習プログラム11 (0.4点)\n",
    "- 条件付きリスト内包表記を作る\n",
    "- 2つ以上の条件付きリスト内包表記を作る"
   ]
  },
  {
   "cell_type": "code",
   "execution_count": null,
   "metadata": {},
   "outputs": [],
   "source": [
    "# 1. 条件付きリスト内包表記を作ってみましょう\n",
    "\n"
   ]
  },
  {
   "cell_type": "code",
   "execution_count": null,
   "metadata": {},
   "outputs": [],
   "source": [
    "# 2. リ2つ以上の条件付きリスト内包表記を使用して、新たにリストを作ってみましょう\n",
    "\n"
   ]
  },
  {
   "cell_type": "code",
   "execution_count": null,
   "metadata": {},
   "outputs": [],
   "source": []
  },
  {
   "cell_type": "markdown",
   "metadata": {},
   "source": [
    "## for in を複数含める構文\n",
    "リスト内包表記にfor inを複数使うことで、ネスト構造のデータを取り出したり、作り出すことができます\n",
    "```python\n",
    "[式 for 変数1 in イテラブル1 for 変数2 in イテラブル2]\n",
    "```"
   ]
  },
  {
   "cell_type": "markdown",
   "metadata": {},
   "source": [
    "## サンプルプログラム12　for in を複数含めるリスト内包表記(教科書P.176) (※)\n",
    "- for in を２つ使ったリスト内包表記で2次元配列を作る\n",
    "- for in を２つ使ったリスト内包表記で2次元配列から1次元配列を作る"
   ]
  },
  {
   "cell_type": "code",
   "execution_count": 22,
   "metadata": {},
   "outputs": [
    {
     "data": {
      "text/plain": [
       "[['0.0cm', '0feet'],\n",
       " ['30.48cm', '1feet'],\n",
       " ['60.96cm', '2feet'],\n",
       " ['91.44cm', '3feet'],\n",
       " ['121.92cm', '4feet'],\n",
       " ['152.4cm', '5feet'],\n",
       " ['182.88cm', '6feet'],\n",
       " ['213.36cm', '7feet'],\n",
       " ['243.84cm', '8feet'],\n",
       " ['274.32cm', '9feet']]"
      ]
     },
     "execution_count": 22,
     "metadata": {},
     "output_type": "execute_result"
    }
   ],
   "source": [
    "# for in を２つ使って2次元配列を作る\n",
    "# 1feetをcmに直した値を入れる（1feet ≒ 30.48cm のため、cmのときは30.48倍した値を入れる）\n",
    "unit = [\"cm\", \"feet\"]\n",
    "unit_numbers1 =  [[f\"{num}feet\" if unit1=='feet' else f\"{num*30.48}cm\" for unit1 in unit] for num in increments1]\n",
    "unit_numbers1"
   ]
  },
  {
   "cell_type": "code",
   "execution_count": 25,
   "metadata": {},
   "outputs": [
    {
     "data": {
      "text/plain": [
       "['0.0cm',\n",
       " '0feet',\n",
       " '30.48cm',\n",
       " '1feet',\n",
       " '60.96cm',\n",
       " '2feet',\n",
       " '91.44cm',\n",
       " '3feet',\n",
       " '121.92cm',\n",
       " '4feet',\n",
       " '152.4cm',\n",
       " '5feet',\n",
       " '182.88cm',\n",
       " '6feet',\n",
       " '213.36cm',\n",
       " '7feet',\n",
       " '243.84cm',\n",
       " '8feet',\n",
       " '274.32cm',\n",
       " '9feet']"
      ]
     },
     "execution_count": 25,
     "metadata": {},
     "output_type": "execute_result"
    }
   ],
   "source": [
    "# for in を２つ使って2次元配列から1次元配列を作る\n",
    "unit_numbers2 = [unit_num3 for unit_num2 in unit_numbers1 for unit_num3 in unit_num2]\n",
    "unit_numbers2"
   ]
  },
  {
   "cell_type": "markdown",
   "metadata": {},
   "source": [
    "## 練習プログラム12 (0.4点)\n",
    "- for in を２つ使ったリスト内包表記で2次元配列を作ってみましょう\n",
    "- for in を２つ使ったリスト内包表記で2次元配列から1次元配列を作ってみましょう"
   ]
  },
  {
   "cell_type": "code",
   "execution_count": 28,
   "metadata": {},
   "outputs": [],
   "source": [
    "# 1. for in を２つ使ったリスト内包表記で2次元配列を作ってみましょう\n",
    "\n"
   ]
  },
  {
   "cell_type": "code",
   "execution_count": 27,
   "metadata": {},
   "outputs": [],
   "source": [
    "# 2. for in を２つ使ったリスト内包表記で2次元配列から1次元配列を作ってみましょう\n",
    "\n"
   ]
  },
  {
   "cell_type": "code",
   "execution_count": null,
   "metadata": {},
   "outputs": [],
   "source": []
  },
  {
   "cell_type": "code",
   "execution_count": null,
   "metadata": {},
   "outputs": [],
   "source": []
  },
  {
   "cell_type": "code",
   "execution_count": null,
   "metadata": {},
   "outputs": [],
   "source": []
  },
  {
   "cell_type": "code",
   "execution_count": null,
   "metadata": {},
   "outputs": [],
   "source": []
  }
 ],
 "metadata": {
  "colab": {
   "authorship_tag": "ABX9TyMOtB7OiTVLb+yu2KoVwjto",
   "include_colab_link": true,
   "provenance": []
  },
  "kernelspec": {
   "display_name": "Python 3 (ipykernel)",
   "language": "python",
   "name": "python3"
  },
  "language_info": {
   "codemirror_mode": {
    "name": "ipython",
    "version": 3
   },
   "file_extension": ".py",
   "mimetype": "text/x-python",
   "name": "python",
   "nbconvert_exporter": "python",
   "pygments_lexer": "ipython3",
   "version": "3.10.12"
  }
 },
 "nbformat": 4,
 "nbformat_minor": 1
}
