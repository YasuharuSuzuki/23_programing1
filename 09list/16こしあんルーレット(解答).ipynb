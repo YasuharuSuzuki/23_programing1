{
 "cells": [
  {
   "cell_type": "markdown",
   "id": "86348526",
   "metadata": {
    "colab_type": "text",
    "id": "view-in-github"
   },
   "source": [
    "<a href=\"https://colab.research.google.com/github/YasuharuSuzuki/23_programing1/blob/main/\" target=\"_parent\"><img src=\"https://colab.research.google.com/assets/colab-badge.svg\" alt=\"Open In Colab\"/></a>"
   ]
  },
  {
   "cell_type": "markdown",
   "id": "35e45d77",
   "metadata": {},
   "source": [
    "#### 練習プログラム16\n",
    "# こしあんルーレット (1点)\n",
    "- ゆるるくんは文化祭の出し物で「こしあんルーレット」を出すことにしました。\n",
    "- 見た目は普通のおまんじゅうが５つ出されますが、１つだけわさび入りのおまんじゅうが混ざっています。\n",
    "<br>  \n",
    "<br>  \n",
    "- おまんじゅうの組み合わせは文字列Sで与えられ、'K'はこしあん、'W'はわさびが入っていることとします。\n",
    "- チャレンジする人が選んだおまんじゅうの位置がPで与えられ、右からP番目のおまんじゅうを食べることとします。\n",
    "<br>  \n",
    "<br>  \n",
    "- 食べたおまんじゅうがこしあんだった場合は\"あま〜い！\"、わさびの場合は\"わさび！\"と出力するプログラムを作成してください。"
   ]
  },
  {
   "cell_type": "markdown",
   "id": "53301ec3",
   "metadata": {},
   "source": [
    "### 制約\n",
    "$ 1 \\leq　P \\leq　5 $   <br>\n",
    "$ P $ は整数 <br>\n",
    "文字列Sは\"K\"か\"W\"いずれかからなる文字列長5の文字列"
   ]
  },
  {
   "cell_type": "markdown",
   "id": "bf96b02c",
   "metadata": {},
   "source": [
    "### 入力\n",
    "入力は以下の形式で標準入力から与えられます\n",
    "\n",
    "---\n",
    "$ P $  <br>\n",
    "$ S $\n",
    "\n",
    "---\n",
    "\n",
    "おまんじゅうの位置をPで、組み合わせをSで受け取ります"
   ]
  },
  {
   "cell_type": "markdown",
   "id": "f0cc4d69",
   "metadata": {},
   "source": [
    "### 出力\n",
    "\n",
    "\"あま〜い！\" または \"わさび！\" のいずれかを出力せよ。"
   ]
  },
  {
   "cell_type": "markdown",
   "id": "96302135",
   "metadata": {},
   "source": [
    "### 入力例1\n",
    "```python\n",
    "2\n",
    "KKKWK\n",
    "```\n",
    "\n",
    "### 出力例1\n",
    "```python\n",
    "わさび！\n",
    "```\n",
    "- 右から2番めのおまんじゅうはわさびのため、\"わさび！\"と出力します。"
   ]
  },
  {
   "cell_type": "markdown",
   "id": "625575af",
   "metadata": {},
   "source": [
    "### 入力例2\n",
    "```python\n",
    "4\n",
    "KKKKW\n",
    "```\n",
    "\n",
    "### 出力例2\n",
    "```python\n",
    "あま〜い！\n",
    "```\n",
    "- 右から4番めのおまんじゅうはこしあんのため、\"あま〜い！\"と出力します。"
   ]
  },
  {
   "cell_type": "markdown",
   "id": "1afe18ca",
   "metadata": {},
   "source": [
    "---"
   ]
  },
  {
   "cell_type": "markdown",
   "id": "d031ad46",
   "metadata": {},
   "source": [
    "### ここ↓にPythonコードを記述してください"
   ]
  },
  {
   "cell_type": "code",
   "execution_count": 3,
   "id": "b51d976d",
   "metadata": {},
   "outputs": [
    {
     "name": "stdout",
     "output_type": "stream",
     "text": [
      "4\n",
      "KKKW\n",
      "あま〜い！\n"
     ]
    }
   ],
   "source": [
    "p = int(input())\n",
    "s = input()\n",
    "print('わさび！' if s[-p] == 'W' else 'あま〜い！')"
   ]
  },
  {
   "cell_type": "code",
   "execution_count": null,
   "id": "67e68f5b",
   "metadata": {},
   "outputs": [],
   "source": []
  },
  {
   "cell_type": "code",
   "execution_count": null,
   "id": "275ab9f4",
   "metadata": {},
   "outputs": [],
   "source": []
  },
  {
   "cell_type": "code",
   "execution_count": null,
   "id": "c7cff764",
   "metadata": {},
   "outputs": [],
   "source": []
  }
 ],
 "metadata": {
  "kernelspec": {
   "display_name": "Python 3 (ipykernel)",
   "language": "python",
   "name": "python3"
  },
  "language_info": {
   "codemirror_mode": {
    "name": "ipython",
    "version": 3
   },
   "file_extension": ".py",
   "mimetype": "text/x-python",
   "name": "python",
   "nbconvert_exporter": "python",
   "pygments_lexer": "ipython3",
   "version": "3.10.12"
  }
 },
 "nbformat": 4,
 "nbformat_minor": 5
}
