{
 "cells": [
  {
   "cell_type": "markdown",
   "metadata": {
    "colab_type": "text",
    "id": "view-in-github"
   },
   "source": [
    "<a href=\"https://colab.research.google.com/github/YasuharuSuzuki/23_programing1/blob/main/\" target=\"_parent\"><img src=\"https://colab.research.google.com/assets/colab-badge.svg\" alt=\"Open In Colab\"/></a>"
   ]
  },
  {
   "cell_type": "markdown",
   "metadata": {},
   "source": [
    "# 日暮し (0.5点)\n",
    "- ゆるるくんは名作の名言を真似できるプログラムを作成中です。\n",
    "- その時の気分 $ S $ を入力したら、 $ S $ なるままに、日暮し... という名作と同じ文章を出力するプログラムを作成してください。\n",
    "- input()で文字列を受け取り、printで出力しましょう。"
   ]
  },
  {
   "cell_type": "markdown",
   "metadata": {},
   "source": [
    "### 制約\n",
    "$$\n",
    "Sは40文字以下の文字列\n",
    "$$"
   ]
  },
  {
   "cell_type": "markdown",
   "metadata": {},
   "source": [
    "### 入力\n",
    "入力は以下の形式で標準入力から与えられます\n",
    "\n",
    "---\n",
    "$ S $\n",
    "\n",
    "---\n",
    "\n",
    "※input()１つで取得可能"
   ]
  },
  {
   "cell_type": "markdown",
   "metadata": {},
   "source": [
    "### 出力\n",
    "\n",
    "---\n",
    "$ S $ なるままに  \n",
    "日暮らし硯に向かひて、  \n",
    "心にうつりゆくよしなしごとを、  \n",
    "そこはかとなく書きつくれば、  \n",
    "あやしうこそものぐるほしけれ。  \n",
    "\n",
    "---\n",
    "\n",
    "名作の冒頭を変えて出力してください。"
   ]
  },
  {
   "cell_type": "markdown",
   "metadata": {},
   "source": [
    "### 入力例 1\n",
    "\n",
    "| 入力 | ねぇねぇ今どんな気持ち？ |\n",
    "| :--- | :--- |\n",
    "| 出力 | ねぇねぇ今どんな気持ち？なるままに<br>日暮らし硯に向かひて、<br>心にうつりゆくよしなしごとを、<br>そこはかとなく書きつくれば、<br>あやしうこそものぐるほしけれ。 |"
   ]
  },
  {
   "cell_type": "markdown",
   "metadata": {},
   "source": [
    "- 硯に向かいて思った文字列を出力してください。"
   ]
  },
  {
   "cell_type": "markdown",
   "metadata": {},
   "source": [
    "### 入力例 2\n",
    "\n",
    "| 入力 | 特にやることがないのでTwitterのタイムラインを眺め |\n",
    "| :--- | :--- |\n",
    "| 出力 | 特にやることがないのでTwitterのタイムラインを眺めなるままに<br>日暮らし硯に向かひて、<br>心にうつりゆくよしなしごとを、<br>そこはかとなく書きつくれば、<br>あやしうこそものぐるほしけれ。 |"
   ]
  },
  {
   "cell_type": "markdown",
   "metadata": {},
   "source": [
    "- 長い思いを入力されても、そのまま硯に向かいて思った文字列を出力してください。"
   ]
  },
  {
   "cell_type": "markdown",
   "metadata": {},
   "source": [
    "### ここ↓にPythonコードを記述してください"
   ]
  },
  {
   "cell_type": "code",
   "execution_count": 3,
   "metadata": {},
   "outputs": [
    {
     "name": "stdout",
     "output_type": "stream",
     "text": [
      "特にやることがないのでTwitterのタイムラインを眺め\n",
      "特にやることがないのでTwitterのタイムラインを眺めなるままに\n",
      "日暮らし硯に向かひて、\n",
      "心にうつりゆくよしなしごとを、\n",
      "そこはかとなく書きつくれば、\n",
      "あやしうこそものぐるほしけれ。\n"
     ]
    }
   ],
   "source": []
  },
  {
   "cell_type": "code",
   "execution_count": null,
   "metadata": {},
   "outputs": [],
   "source": []
  }
 ],
 "metadata": {
  "colab": {
   "authorship_tag": "ABX9TyMOtB7OiTVLb+yu2KoVwjto",
   "include_colab_link": true,
   "provenance": []
  },
  "kernelspec": {
   "display_name": "Python 3 (ipykernel)",
   "language": "python",
   "name": "python3"
  },
  "language_info": {
   "codemirror_mode": {
    "name": "ipython",
    "version": 3
   },
   "file_extension": ".py",
   "mimetype": "text/x-python",
   "name": "python",
   "nbconvert_exporter": "python",
   "pygments_lexer": "ipython3",
   "version": "3.10.12"
  }
 },
 "nbformat": 4,
 "nbformat_minor": 1
}
