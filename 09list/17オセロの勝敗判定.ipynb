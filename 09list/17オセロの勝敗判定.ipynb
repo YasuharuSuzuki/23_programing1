{
 "cells": [
  {
   "cell_type": "markdown",
   "id": "86348526",
   "metadata": {
    "colab_type": "text",
    "id": "view-in-github"
   },
   "source": [
    "<a href=\"https://colab.research.google.com/github/YasuharuSuzuki/22-2nd_programing1/blob/main/12%E3%83%AA%E3%82%B9%E3%83%882/09%E3%82%AA%E3%82%BB%E3%83%AD%E3%81%AE%E5%8B%9D%E6%95%97%E5%88%A4%E5%AE%9A.ipynb\" target=\"_parent\"><img src=\"https://colab.research.google.com/assets/colab-badge.svg\" alt=\"Open In Colab\"/></a>"
   ]
  },
  {
   "cell_type": "markdown",
   "id": "35e45d77",
   "metadata": {},
   "source": [
    "#### 練習プログラム17\n",
    "# オセロの勝敗判定 (1.5点)\n",
    "- ゆるるくんはオセロのゲームで遊んでいます\n",
    "- オセロ盤は８ｘ８の64マスで構成されています。\n",
    "- ゆるるくんはオセロの勝敗判定を自動化することにしました。\n",
    "<br>  \n",
    "<br>  \n",
    "- 置かれているマス目の情報は文字列長8の文字列が8つ分で与えられ、以下の3種の文字で構成されています。\n",
    "  - \"W\" = 白の石\n",
    "  - \"B\" = 黒の石\n",
    "  - \"_\" = 何も置かれていない\n",
    "<br>  \n",
    "<br>  \n",
    "- オセロ盤の状況はお互いがすべての石を打ち合っており、これ以上状況が変わらないものとします。\n",
    "- ゆるるくんは白の石を使っているとし、勝利した場合は\"YOU WIN\"、敗北した場合は\"YOU LOST\"、引き分けの場合は\"EVEN\"と出力するプログラムを作成してください。"
   ]
  },
  {
   "cell_type": "markdown",
   "id": "53301ec3",
   "metadata": {},
   "source": [
    "### 制約\n",
    "$ | S_i | = 8 $   \n",
    "文字列$S_i$は\"W\"か\"B\"か\"_\"のいずれかからなる文字列長8の文字列"
   ]
  },
  {
   "cell_type": "markdown",
   "id": "bf96b02c",
   "metadata": {},
   "source": [
    "### 入力\n",
    "入力は以下の形式で標準入力から与えられます\n",
    "\n",
    "---\n",
    "$ S_1 $  \n",
    "$ S_2 $  \n",
    " :  \n",
    "$ S_8 $  \n",
    "\n",
    "---\n",
    "\n",
    "オセロ盤の状況を $ S_1 $  〜  $ S_8 $ で受け取ります。"
   ]
  },
  {
   "cell_type": "markdown",
   "id": "f0cc4d69",
   "metadata": {},
   "source": [
    "### 出力\n",
    "\n",
    "\"YOU WIN\" または \"YOU LOST\" または \"EVEN\" を出力せよ"
   ]
  },
  {
   "cell_type": "markdown",
   "id": "96302135",
   "metadata": {},
   "source": [
    "### 入力例 1\n",
    "\n",
    "| 入力例1 | WWWWWWWW <br> WWWWWWWW <br> WWWWWWWW <br> WWWWWWWW <br> WWWWWWWW <br> WWWWWWWW <br> WWWWWWWW <br> WWWWWWWW <br>  |\n",
    "| :--- | :--- |\n",
    "| 出力例1 | YOU WIN |\n",
    "\n",
    "全て白の石で埋め尽くされており、ゆるるくんの勝ちのため\"YOU WIN\"と出力します。"
   ]
  },
  {
   "cell_type": "markdown",
   "id": "625575af",
   "metadata": {},
   "source": [
    "### 入力例 2\n",
    "\n",
    "| 入力例2 | WWW_BBBB <br> WWWW_BBB <br> WWWWBBBB <br> WWWWBBBB <br> WWWWBBBB <br> WWWWBBBB <br> WWW_BBBB <br> WWWW_BBB |\n",
    "| :--- | :--- |\n",
    "| 出力例2 | EVEN |\n",
    "\n",
    "白と黒の石が同数のため\"EVEN\"と出力します。"
   ]
  },
  {
   "cell_type": "markdown",
   "id": "5038527a",
   "metadata": {},
   "source": [
    "### 入力例 3\n",
    "\n",
    "| 入力例3 | BBB_BBBB <br> BBBW_BBB <br> WW_WBBBB <br> W_WWBBBB <br> WWWWBBBB <br> W_WWBBBB <br> WWW_BBBB <br> WWWW_BBB |\n",
    "| :--- | :--- |\n",
    "| 出力例2 | YOU LOST |\n",
    "\n",
    "黒の石の方が多いため、ゆるるくんの負けとなり、\"YOU LOST\"と出力します。"
   ]
  },
  {
   "cell_type": "markdown",
   "id": "d031ad46",
   "metadata": {},
   "source": [
    "### ここ↓にPythonコードを記述してください"
   ]
  },
  {
   "cell_type": "code",
   "execution_count": 5,
   "id": "b51d976d",
   "metadata": {},
   "outputs": [
    {
     "name": "stdout",
     "output_type": "stream",
     "text": [
      "BBB_BBBB\n",
      "BBBW_BBB\n",
      "WW_WBBBB\n",
      "W_WWBBBB\n",
      "WWWWBBBB\n",
      "W_WWBBBB\n",
      "WWW_BBBB\n",
      "WWWW_BBB\n",
      "YOU LOST\n"
     ]
    }
   ],
   "source": [
    "\n",
    "\n",
    "\n",
    "\n",
    "\n"
   ]
  },
  {
   "cell_type": "code",
   "execution_count": null,
   "id": "67e68f5b",
   "metadata": {},
   "outputs": [],
   "source": []
  },
  {
   "cell_type": "code",
   "execution_count": null,
   "id": "275ab9f4",
   "metadata": {},
   "outputs": [],
   "source": []
  },
  {
   "cell_type": "code",
   "execution_count": null,
   "id": "c7cff764",
   "metadata": {},
   "outputs": [],
   "source": []
  }
 ],
 "metadata": {
  "kernelspec": {
   "display_name": "Python 3 (ipykernel)",
   "language": "python",
   "name": "python3"
  },
  "language_info": {
   "codemirror_mode": {
    "name": "ipython",
    "version": 3
   },
   "file_extension": ".py",
   "mimetype": "text/x-python",
   "name": "python",
   "nbconvert_exporter": "python",
   "pygments_lexer": "ipython3",
   "version": "3.10.12"
  }
 },
 "nbformat": 4,
 "nbformat_minor": 5
}
