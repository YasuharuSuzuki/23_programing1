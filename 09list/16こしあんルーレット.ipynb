{
 "cells": [
  {
   "cell_type": "markdown",
   "id": "86348526",
   "metadata": {
    "colab_type": "text",
    "id": "view-in-github"
   },
   "source": [
    "<a href=\"https://colab.research.google.com/github/YasuharuSuzuki/22-2nd_programing1/blob/main/12%E3%83%AA%E3%82%B9%E3%83%882/08%E3%81%93%E3%81%97%E3%81%82%E3%82%93%E3%83%AB%E3%83%BC%E3%83%AC%E3%83%83%E3%83%88.ipynb\" target=\"_parent\"><img src=\"https://colab.research.google.com/assets/colab-badge.svg\" alt=\"Open In Colab\"/></a>"
   ]
  },
  {
   "cell_type": "markdown",
   "id": "35e45d77",
   "metadata": {},
   "source": [
    "#### 練習プログラム16\n",
    "# こしあんルーレット (1点)\n",
    "- ゆるるくんは文化祭の出し物で「こしあんルーレット」を出すことにしました。\n",
    "- 見た目は普通のおまんじゅうが５つ出されますが、１つだけわさび入りのおまんじゅうが混ざっています。\n",
    "<br>  \n",
    "<br>  \n",
    "- おまんじゅうの組み合わせは文字列Sで与えられ、'K'はこしあん、'W'はわさびが入っていることとします。\n",
    "- チャレンジする人が選んだおまんじゅうの位置がPで与えられ、右からP番目のおまんじゅうを食べることとします。\n",
    "<br>  \n",
    "<br>  \n",
    "- 食べたおまんじゅうがこしあんだった場合は\"あま〜い！\"、わさびの場合は\"わさび！\"と出力するプログラムを作成してください。"
   ]
  },
  {
   "cell_type": "markdown",
   "id": "53301ec3",
   "metadata": {},
   "source": [
    "### 制約\n",
    "$ 1 \\leq　P \\leq　5 $   \n",
    "$ P $ は整数\n",
    "文字列Sは\"K\"か\"W\"いずれかからなる文字列長5の文字列"
   ]
  },
  {
   "cell_type": "markdown",
   "id": "bf96b02c",
   "metadata": {},
   "source": [
    "### 入力\n",
    "入力は以下の形式で標準入力から与えられます\n",
    "\n",
    "---\n",
    "$ P $\n",
    "$ S $\n",
    "\n",
    "---\n",
    "\n",
    "通信を開始してからの経過秒数をNで受け取ります。"
   ]
  },
  {
   "cell_type": "markdown",
   "id": "f0cc4d69",
   "metadata": {},
   "source": [
    "### 出力\n",
    "\n",
    "\"あま〜い！\" または \"わさび！\" のいずれかを出力せよ。"
   ]
  },
  {
   "cell_type": "markdown",
   "id": "96302135",
   "metadata": {},
   "source": [
    "### 入力例 1\n",
    "\n",
    "| 入力例1 | 2 <br> KKKWK |\n",
    "| :--- | :--- |\n",
    "| 出力例1 | わさび！ |\n",
    "\n",
    "右から2番めのおまんじゅうはわさびのため、\"わさび！\"と出力します。"
   ]
  },
  {
   "cell_type": "markdown",
   "id": "625575af",
   "metadata": {},
   "source": [
    "### 入力例 2\n",
    "\n",
    "| 入力例2 | 4 <br> KKKKW |\n",
    "| :--- | :--- |\n",
    "| 出力例2 | あま〜い！ |\n",
    "\n",
    "右から4番めのおまんじゅうはこしあんのため、\"あま〜い！\"と出力します。"
   ]
  },
  {
   "cell_type": "markdown",
   "id": "d031ad46",
   "metadata": {},
   "source": [
    "### ここ↓にPythonコードを記述してください"
   ]
  },
  {
   "cell_type": "code",
   "execution_count": 3,
   "id": "b51d976d",
   "metadata": {},
   "outputs": [
    {
     "name": "stdout",
     "output_type": "stream",
     "text": [
      "4\n",
      "KKKW\n",
      "あま〜い！\n"
     ]
    }
   ],
   "source": [
    "\n",
    "\n"
   ]
  },
  {
   "cell_type": "code",
   "execution_count": null,
   "id": "67e68f5b",
   "metadata": {},
   "outputs": [],
   "source": []
  },
  {
   "cell_type": "code",
   "execution_count": null,
   "id": "275ab9f4",
   "metadata": {},
   "outputs": [],
   "source": []
  },
  {
   "cell_type": "code",
   "execution_count": null,
   "id": "c7cff764",
   "metadata": {},
   "outputs": [],
   "source": []
  }
 ],
 "metadata": {
  "kernelspec": {
   "display_name": "Python 3 (ipykernel)",
   "language": "python",
   "name": "python3"
  },
  "language_info": {
   "codemirror_mode": {
    "name": "ipython",
    "version": 3
   },
   "file_extension": ".py",
   "mimetype": "text/x-python",
   "name": "python",
   "nbconvert_exporter": "python",
   "pygments_lexer": "ipython3",
   "version": "3.9.15"
  }
 },
 "nbformat": 4,
 "nbformat_minor": 5
}
