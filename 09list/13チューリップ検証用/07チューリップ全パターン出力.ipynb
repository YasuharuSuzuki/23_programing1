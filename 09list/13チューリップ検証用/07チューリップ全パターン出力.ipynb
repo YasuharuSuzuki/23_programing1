{
 "cells": [
  {
   "cell_type": "markdown",
   "id": "e0f811d1",
   "metadata": {},
   "source": [
    "# 全パターンを出力する"
   ]
  },
  {
   "cell_type": "code",
   "execution_count": 1,
   "id": "b34f8bc4",
   "metadata": {},
   "outputs": [],
   "source": [
    "def output_all(in_file_name, out_file_name):\n",
    "    output_index = 0\n",
    "    colors = \"赤白黄\"\n",
    "    for a in colors:\n",
    "        for b in colors:\n",
    "            for c in colors:\n",
    "                input_list = []\n",
    "                output_list = []\n",
    "                input_list.append(f\"{a} {b} {c}\")\n",
    "                if a == b == c:\n",
    "                    output_list.append(f\"全部{a}！\")\n",
    "                elif a != \"白\" and b != \"白\" and c != \"白\":\n",
    "                    output_list.append(\"白が欲しいなぁ～\")\n",
    "                elif a != \"赤\" and b != \"赤\" and c != \"赤\":\n",
    "                    output_list.append(\"赤が欲しいなぁ～\")\n",
    "                elif a != \"黄\" and b != \"黄\" and c != \"黄\":\n",
    "                    output_list.append(\"黄が欲しいなぁ～\")\n",
    "                else:\n",
    "                    output_list.append(\"キレイだなぁ～\")\n",
    "\n",
    "                # ファイル出力\n",
    "                output_index+=1\n",
    "                with open(in_file_name.format(output_index),\"w\") as f_in:\n",
    "                    f_in.writelines(input_list)\n",
    "                with open(out_file_name.format(output_index),\"w\") as f_out:\n",
    "                    f_out.writelines(output_list)"
   ]
  },
  {
   "cell_type": "code",
   "execution_count": 2,
   "id": "0262501a",
   "metadata": {},
   "outputs": [],
   "source": [
    "output_all(\"data/in{:02}.txt\", \"data/out{:02}.txt\")"
   ]
  },
  {
   "cell_type": "code",
   "execution_count": null,
   "id": "e62e7ce6",
   "metadata": {},
   "outputs": [],
   "source": []
  }
 ],
 "metadata": {
  "kernelspec": {
   "display_name": "Python 3 (ipykernel)",
   "language": "python",
   "name": "python3"
  },
  "language_info": {
   "codemirror_mode": {
    "name": "ipython",
    "version": 3
   },
   "file_extension": ".py",
   "mimetype": "text/x-python",
   "name": "python",
   "nbconvert_exporter": "python",
   "pygments_lexer": "ipython3",
   "version": "3.10.13"
  }
 },
 "nbformat": 4,
 "nbformat_minor": 5
}
