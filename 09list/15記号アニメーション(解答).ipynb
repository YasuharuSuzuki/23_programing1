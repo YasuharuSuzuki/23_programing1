{
 "cells": [
  {
   "cell_type": "markdown",
   "id": "679cc453",
   "metadata": {
    "colab_type": "text",
    "id": "view-in-github"
   },
   "source": [
    "<a href=\"https://colab.research.google.com/github/YasuharuSuzuki/23_programing1/blob/main/\" target=\"_parent\"><img src=\"https://colab.research.google.com/assets/colab-badge.svg\" alt=\"Open In Colab\"/></a>"
   ]
  },
  {
   "cell_type": "markdown",
   "id": "15e23b40",
   "metadata": {},
   "source": [
    "#### 練習プログラム15\n",
    "# 記号アニメーション (1点)\n",
    "- ゆるるくんは通信プログラムを作成しています。\n",
    "- 通信中の間、利用者を待たせることになるため、3種類の記号を1文字だけ表示させてアニメーションさせることにしました。\n",
    "- 記号は以下の3種を1秒ごとに使用します。\n",
    "  - 記号1 = '!'\n",
    "  - 記号2 = '#'\n",
    "  - 記号3 = '+'\n",
    "- 一番最初は記号1、次は記号2、その次は記号3、その次は記号1を使用し、表示順は必ずこの順番で変わることとします。\n",
    "- 通信を開始してから N 秒後に表示する記号を出力してください。"
   ]
  },
  {
   "cell_type": "markdown",
   "id": "30b60804",
   "metadata": {},
   "source": [
    "### 制約\n",
    "$ 0 \\leq　N \\leq　180 $   \n",
    "$ N $ は整数"
   ]
  },
  {
   "cell_type": "markdown",
   "id": "4d2efd7d",
   "metadata": {},
   "source": [
    "### 入力\n",
    "入力は以下の形式で標準入力から与えられます\n",
    "\n",
    "---\n",
    "$ N $\n",
    "\n",
    "---\n",
    "\n",
    "通信を開始してからの経過秒数をNで受け取ります。"
   ]
  },
  {
   "cell_type": "markdown",
   "id": "4bba6482",
   "metadata": {},
   "source": [
    "### 出力\n",
    "\n",
    "'!' または '#' または '+' のいずれかを出力せよ。"
   ]
  },
  {
   "cell_type": "markdown",
   "id": "0d10a1b5",
   "metadata": {},
   "source": [
    "### 入力例1\n",
    "```python\n",
    "0\n",
    "```\n",
    "\n",
    "### 出力例1\n",
    "```python\n",
    "!\n",
    "```\n",
    "- 最初の記号'!'を出力します。"
   ]
  },
  {
   "cell_type": "markdown",
   "id": "2344041a",
   "metadata": {},
   "source": [
    "### 入力例2\n",
    "```python\n",
    "4\n",
    "```\n",
    "\n",
    "### 出力例2\n",
    "```python\n",
    "#\n",
    "```\n",
    "- 1度最後まで出力した後、2番目の記号となる'#'を出力します。"
   ]
  },
  {
   "cell_type": "markdown",
   "id": "e96b9be0",
   "metadata": {},
   "source": [
    "---"
   ]
  },
  {
   "cell_type": "markdown",
   "id": "e38639d9",
   "metadata": {},
   "source": [
    "### ここ↓にPythonコードを記述してください"
   ]
  },
  {
   "cell_type": "code",
   "execution_count": 3,
   "id": "af06ec33",
   "metadata": {},
   "outputs": [
    {
     "name": "stdout",
     "output_type": "stream",
     "text": [
      "4\n",
      "#\n"
     ]
    }
   ],
   "source": [
    "n = int(input())\n",
    "print(\"!#+\"[n%3])"
   ]
  },
  {
   "cell_type": "markdown",
   "id": "41cebf10",
   "metadata": {},
   "source": [
    "# 解説\n",
    "- まず、入力値の受け取り方を思い出しましょう\n",
    "  - 組み込み関数input()を使うと、文字列入力を受け取れます。(教科書P.77)\n",
    "  - 今回はアニメーションの秒数を受け取るため、受け取った文字列をint()を使って整数値に変換します。\n",
    "    - 整数値の受け取り方を忘れてしまった方は、復習問題（第10回の授業）では「あわせると　いくつに　なるかな？ 」の問題で、整数値を受け取っていますので参考にされると良いでしょう。\n",
    "- 秒数 N を受け取ったら、何を表示するのかを計算します。\n",
    "  - ３種類の文字を順番に１文字だけ表示すればいいので N を3で割った余りで算出できます。\n",
    "    - 余り＝０のとき　→　! (記号1)\n",
    "    - 余り＝１のとき　→　# (記号2)\n",
    "    - 余り＝２のとき　→　+ (記号3)"
   ]
  },
  {
   "cell_type": "code",
   "execution_count": null,
   "id": "eb4f54ab",
   "metadata": {},
   "outputs": [],
   "source": []
  },
  {
   "cell_type": "code",
   "execution_count": null,
   "id": "eb08cac7",
   "metadata": {},
   "outputs": [],
   "source": []
  }
 ],
 "metadata": {
  "kernelspec": {
   "display_name": "Python 3 (ipykernel)",
   "language": "python",
   "name": "python3"
  },
  "language_info": {
   "codemirror_mode": {
    "name": "ipython",
    "version": 3
   },
   "file_extension": ".py",
   "mimetype": "text/x-python",
   "name": "python",
   "nbconvert_exporter": "python",
   "pygments_lexer": "ipython3",
   "version": "3.10.12"
  }
 },
 "nbformat": 4,
 "nbformat_minor": 5
}
