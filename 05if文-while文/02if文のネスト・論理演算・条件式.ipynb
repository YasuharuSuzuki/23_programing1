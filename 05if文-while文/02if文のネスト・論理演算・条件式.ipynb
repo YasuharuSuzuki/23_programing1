{
 "cells": [
  {
   "cell_type": "markdown",
   "metadata": {
    "colab_type": "text",
    "id": "view-in-github"
   },
   "source": [
    "<a href=\"https://colab.research.google.com/github/YasuharuSuzuki/23_programing1/blob/main/\" target=\"_parent\"><img src=\"https://colab.research.google.com/assets/colab-badge.svg\" alt=\"Open In Colab\"/></a>"
   ]
  },
  {
   "cell_type": "markdown",
   "metadata": {},
   "source": [
    "# if文のネスト(教科書P.103)"
   ]
  },
  {
   "cell_type": "markdown",
   "metadata": {},
   "source": [
    "## 5-1-4 if文のネスト\n",
    "- if文の中でif文を使うことで、より複雑な条件分岐ができます。（教科書と例題が違うので注意）"
   ]
  },
  {
   "cell_type": "markdown",
   "metadata": {},
   "source": [
    "### サンプルプログラム4\n",
    "- 出席日数、期末試験の点数、課題提出の点数をそれぞれinput()で受け取る\n",
    "- 出席日数が10日未満の場合は\"出席日数不足による不可\"と表示\n",
    "- 出席日数が10日以上の場合は 期末試験の点数*0.5+課題提出の点数*0.5を計算し、成績の点数とする\n",
    "- 成績点数は60点以上は”単位取得！”、60点未満は\"得点不足による不可\"と表示"
   ]
  },
  {
   "cell_type": "code",
   "execution_count": 5,
   "metadata": {},
   "outputs": [
    {
     "name": "stdout",
     "output_type": "stream",
     "text": [
      "11\n",
      "59\n",
      "61\n",
      "単位取得！\n"
     ]
    }
   ],
   "source": [
    "出席日数 = int(input())\n",
    "期末試験 = int(input())\n",
    "課題提出 = int(input())\n",
    "if 出席日数 < 10:\n",
    "    print(\"出席日数不足による不可\")\n",
    "else:\n",
    "    成績点数 = min(int(期末試験*0.5 + 課題提出*0.5),100)\n",
    "    if 成績点数 < 60:\n",
    "        print(\"得点不足による不可\")\n",
    "    else:\n",
    "        print(\"単位取得！\")"
   ]
  },
  {
   "cell_type": "markdown",
   "metadata": {},
   "source": [
    "### 練習プログラム7(0.5点)\n",
    "- サンプルプログラム4の出席日数を平均12日、標準偏差2日の正規分布で取得（最大値は16日)\n",
    "- 同様に期末試験と課題提出の点数を平均80点、標準偏差10点の正規分布で取得（最大値は100点)\n",
    "- 成績点数に応じて不可〜秀の成績と点数、出席日数を表示するように処理を追加しましょう"
   ]
  },
  {
   "cell_type": "code",
   "execution_count": 35,
   "metadata": {},
   "outputs": [
    {
     "name": "stdout",
     "output_type": "stream",
     "text": [
      "出席日数不足による不可\n",
      "点数＝75、成績＝不可、出席日数=9\n"
     ]
    }
   ],
   "source": [
    "import random\n",
    "\n",
    "出席日数 = min(int(random.gauss(12,2)),16)\n",
    "期末試験 = min(int(random.gauss(80,10)),100)\n",
    "課題提出 = min(int(random.gauss(80,10)),100)\n",
    "成績 = \"不可\"\n",
    "成績点数 = min(int(期末試験*0.5 + 課題提出*0.5),100)\n",
    "\n",
    "if 出席日数 < : # 条件文を完成させましょう\n",
    "    print(\"出席日数不足による不可\")\n",
    "else:\n",
    "    if 成績点数 >= : # 条件文を完成させましょう\n",
    "        成績 = \"秀\"\n",
    "    elif 成績点数 >= 80:\n",
    "        成績 = \"優\"\n",
    "    elif 成績点数 >= 70:\n",
    "        成績 = \"良\"\n",
    "    elif 成績点数 >= 60:\n",
    "        成績 = \"可\"\n",
    "    \n",
    "    if 成績点数 < 60:\n",
    "        print(\"得点不足による不可\")\n",
    "    else:\n",
    "        print(\"単位取得！\")\n",
    "print(f\"点数＝{成績点数}、成績＝{成績}、出席日数={出席日数}\")"
   ]
  },
  {
   "cell_type": "markdown",
   "metadata": {},
   "source": [
    "考察\n",
    "- if文だけならだいぶ実用的なプログラムになってきましたね"
   ]
  },
  {
   "cell_type": "markdown",
   "metadata": {},
   "source": [
    "## 5-1-5 論理演算andを使ったif文\n",
    "- ネストを使わずに論理演算andを使って分岐させることも可能です（教科書と例題が違うので注意）\n",
    "- コードが短くなるためどちらかというとこちらの方がベターですが、一概にandを使ったほうが良いとは言いにくいです。条件が複雑になりすぎる時はわかりやすくif文を書き換えた方が良い場合もあります"
   ]
  },
  {
   "cell_type": "markdown",
   "metadata": {},
   "source": [
    "### サンプルプログラム5\n",
    "- 出席日数、期末試験の点数、課題提出の点数を１つのinput()で受け取る（空白区切りで３つの入力値を受け取る）\n",
    "- 期末試験の点数*0.5+課題提出の点数*0.5を計算し、成績の点数とする\n",
    "- 出席日数が10日以上かつ成績点数60点以上の場合は”単位取得！”と表示する\n",
    "- 条件に満たない場合は\"不可\"と表示"
   ]
  },
  {
   "cell_type": "code",
   "execution_count": 40,
   "metadata": {},
   "outputs": [
    {
     "name": "stdout",
     "output_type": "stream",
     "text": [
      "10 59 60\n",
      "不可\n"
     ]
    }
   ],
   "source": [
    "出席日数, 期末試験, 課題提出 = map(int,input().split())  # 空白区切りで入力値を受け取るやり方\n",
    "成績点数 = min(int(期末試験*0.5 + 課題提出*0.5),100)\n",
    "if 出席日数 >= 10 and 成績点数 >= 60: # andを使って書いた場合。両方の条件がTrueのとき単位取得\n",
    "    print(\"単位取得！\")\n",
    "else:\n",
    "    print(\"不可\")"
   ]
  },
  {
   "cell_type": "markdown",
   "metadata": {},
   "source": [
    "### 練習プログラム8 (0.5点)\n",
    "- 期末試験と課題提出の点数を平均80点、標準偏差10点の正規分布で取得（最大値は100点)\n",
    "- 両方の得点が70点以上の時\"単位取得！\"、そうでない時”不可”と表示する"
   ]
  },
  {
   "cell_type": "code",
   "execution_count": 52,
   "metadata": {},
   "outputs": [
    {
     "name": "stdout",
     "output_type": "stream",
     "text": [
      "期末試験＝75、課題提出＝57\n",
      "不可\n"
     ]
    }
   ],
   "source": [
    "期末試験 = min(int(random.gauss(80,10)),100)\n",
    "課題提出 = min(int(random.gauss(80,10)),100)\n",
    "print(f\"期末試験＝{期末試験}、課題提出＝{課題提出}\")\n",
    "if : # andを使って条件文を完成させましょう\n",
    "    print(\"単位取得！\")\n",
    "else:\n",
    "    print(\"不可\")"
   ]
  },
  {
   "cell_type": "markdown",
   "metadata": {},
   "source": [
    "## 5-1-6 論理演算orを使ったif文\n",
    "- 論理演算orを使って分岐させることも可能です（教科書と例題が違うので注意）"
   ]
  },
  {
   "cell_type": "markdown",
   "metadata": {},
   "source": [
    "### サンプルプログラム6\n",
    "- 出席日数、期末試験の点数、課題提出の点数を１つのinput()で受け取る（空白区切りで３つの入力値を受け取る）\n",
    "- 期末試験の点数*0.5+課題提出の点数*0.5を計算し、成績の点数とする\n",
    "- 出席日数が10日未満または成績点数60点未満の場合は\"不可”と表示する\n",
    "- どちらの条件にも適合しない場合は\"単位取得！\"と表示"
   ]
  },
  {
   "cell_type": "code",
   "execution_count": 55,
   "metadata": {},
   "outputs": [
    {
     "name": "stdout",
     "output_type": "stream",
     "text": [
      "11 58 59\n",
      "不可\n"
     ]
    }
   ],
   "source": [
    "出席日数, 期末試験, 課題提出 = map(int,input().split())  # 空白区切りで入力値を受け取るやり方\n",
    "成績点数 = min(int(期末試験*0.5 + 課題提出*0.5),100)\n",
    "if 出席日数 < 10 or 成績点数 < 60: # orを使って書いた場合。どちらかの条件がTrueのとき不可\n",
    "    print(\"不可\")\n",
    "else:\n",
    "    print(\"単位取得！\")"
   ]
  },
  {
   "cell_type": "markdown",
   "metadata": {},
   "source": [
    "### 練習プログラム9 (0.5点)\n",
    "- 期末試験と課題提出の点数を平均80点、標準偏差10点の正規分布で取得（最大値は100点)\n",
    "- どちらか一方の得点が70点未満の時\"不可\"、そうでない時”単位取得！”と表示する"
   ]
  },
  {
   "cell_type": "code",
   "execution_count": 88,
   "metadata": {},
   "outputs": [
    {
     "name": "stdout",
     "output_type": "stream",
     "text": [
      "期末試験＝88、課題提出＝66\n",
      "不可\n"
     ]
    }
   ],
   "source": [
    "期末試験 = min(int(random.gauss(80,10)),100)\n",
    "課題提出 = min(int(random.gauss(80,10)),100)\n",
    "print(f\"期末試験＝{期末試験}、課題提出＝{課題提出}\")\n",
    "if : # orを使って条件文を完成させましょう\n",
    "    print(\"不可\")\n",
    "else:\n",
    "    print(\"単位取得！\")"
   ]
  },
  {
   "cell_type": "markdown",
   "metadata": {},
   "source": [
    "## 5-1-7 範囲で記述するif文\n",
    "- Pythonでは A<= B <= C といった記述の仕方ができます（教科書と例題が違うので注意）\n",
    "- 論理演算では not を複合的に使用したりできます"
   ]
  },
  {
   "cell_type": "markdown",
   "metadata": {},
   "source": [
    "### サンプルプログラム7\n",
    "- 期末試験の点数を平均80点、標準偏差10点の正規分布で取得（最大値は100点)\n",
    "- 75点以上、85点以下の点数の場合は\"平均的な点数です\"と表示\n",
    "- 65点以下、95点以上の点数の場合は\"非常に珍しい点数です\"と表示"
   ]
  },
  {
   "cell_type": "code",
   "execution_count": 101,
   "metadata": {},
   "outputs": [
    {
     "name": "stdout",
     "output_type": "stream",
     "text": [
      "期末試験＝96\n",
      "非常に珍しい点数です\n"
     ]
    }
   ],
   "source": [
    "期末試験 = min(int(random.gauss(80,10)),100)\n",
    "print(f\"期末試験＝{期末試験}\")\n",
    "if 75<= 期末試験 < 85: # 範囲で指定\n",
    "    print(\"平均的な点数です\")\n",
    "elif not (65< 期末試験 < 95): # notで否定も可能\n",
    "    print(\"非常に珍しい点数です\")"
   ]
  },
  {
   "cell_type": "markdown",
   "metadata": {},
   "source": [
    "### 練習プログラム10 (1.0点)\n",
    "- 期末試験の点数を平均80点、標準偏差10点の正規分布で取得（最大値は100点)\n",
    "- 65点以上、75点未満の点数の場合は\"平均よりやや低めの点数です。しっかり予習復習しましょう\"と表示"
   ]
  },
  {
   "cell_type": "code",
   "execution_count": 111,
   "metadata": {},
   "outputs": [
    {
     "name": "stdout",
     "output_type": "stream",
     "text": [
      "期末試験＝72\n",
      "平均よりやや低めの点数です。しっかり予習復習しましょう\n"
     ]
    }
   ],
   "source": [
    "期末試験 = min(int(random.gauss(80,10)),100)\n",
    "print(f\"期末試験＝{期末試験}\")\n",
    "if : # 範囲指定を使って条件文を完成させましょう\n",
    "    print(\"平均よりやや低めの点数です。しっかり予習復習しましょう\")"
   ]
  },
  {
   "cell_type": "markdown",
   "metadata": {},
   "source": [
    "## 5-1-8 三項演算子のif文\n",
    "- Pythonでは A if B else C といった記述の仕方ができます（教科書と例題が違うので注意）\n",
    "- 教科書ではあまり推められないとの記載がありますが、オープンソースではよく使われている構文ですのでしっかり覚えましょう"
   ]
  },
  {
   "cell_type": "markdown",
   "metadata": {},
   "source": [
    "### 普通のif文\n",
    "A, B の成績の良い方を取得する処理をif文を使うと以下のようになります（普段はmax()使いましょうね）"
   ]
  },
  {
   "cell_type": "code",
   "execution_count": 114,
   "metadata": {},
   "outputs": [],
   "source": [
    "成績A = min(int(random.gauss(80,10)),100)\n",
    "成績B = min(int(random.gauss(80,10)),100)"
   ]
  },
  {
   "cell_type": "code",
   "execution_count": 115,
   "metadata": {},
   "outputs": [
    {
     "name": "stdout",
     "output_type": "stream",
     "text": [
      "87と80では、87が大きい\n"
     ]
    }
   ],
   "source": [
    "if 成績A > 成績B:\n",
    "    bigger = 成績A\n",
    "else :\n",
    "    bigger = 成績B\n",
    "    \n",
    "print(f\"{成績A}と{成績B}では、{bigger}が大きい\")"
   ]
  },
  {
   "cell_type": "markdown",
   "metadata": {},
   "source": [
    "### サンプルプログラム8    三項演算子のif文\n",
    "全く同じ処理を三項演算子を使うと以下のように書けます"
   ]
  },
  {
   "cell_type": "code",
   "execution_count": 116,
   "metadata": {},
   "outputs": [
    {
     "name": "stdout",
     "output_type": "stream",
     "text": [
      "87と80では、87が大きい\n"
     ]
    }
   ],
   "source": [
    "bigger = 成績A if 成績A > 成績B else 成績B # ←これが三項演算子\n",
    "   \n",
    "print(f\"{成績A}と{成績B}では、{bigger}が大きい\")"
   ]
  },
  {
   "cell_type": "markdown",
   "metadata": {},
   "source": [
    "### 練習プログラム11  (1.0点)\n",
    "- 出席日数を平均12日、標準偏差2日の正規分布で取得（最大値は16日)\n",
    "- 期末試験と課題提出の点数を平均80点、標準偏差10点の正規分布で取得（最大値は100点)\n",
    "- どちらか一方の得点が90点以上の時は\"特別優遇処置！\"と表示して出席日数を+2する（三項演算子を使うこと）\n",
    "- 成績点数に応じて不可〜秀の評価と各点数、出席日数を表示する"
   ]
  },
  {
   "cell_type": "code",
   "execution_count": 170,
   "metadata": {},
   "outputs": [
    {
     "name": "stdout",
     "output_type": "stream",
     "text": [
      "特別優遇処置！\n",
      "単位取得！\n",
      "課題=67点、期末=100点、成績＝83点、評価＝優、出席日数=10\n"
     ]
    }
   ],
   "source": [
    "出席日数 = min(int(random.gauss(12,2)),16)\n",
    "期末試験 = min(int(random.gauss(80,10)),100)\n",
    "課題提出 = min(int(random.gauss(80,10)),100)\n",
    "成績 = \"不可\"\n",
    "成績点数 = min(int(期末試験*0.5 + 課題提出*0.5),100)\n",
    "\n",
    "if :   # 三項演算子を使って条件文を完成させましょう\n",
    "    print(\"特別優遇処置！\")\n",
    "    出席日数 += 2\n",
    "\n",
    "出席日数 = min(出席日数,16)\n",
    "if 出席日数 < 10:\n",
    "    print(\"出席日数不足による不可\")\n",
    "else:\n",
    "    if 成績点数 >= 90:\n",
    "        成績 = \"秀\"\n",
    "    elif 成績点数 >= 80:\n",
    "        成績 = \"優\"\n",
    "    elif 成績点数 >= 70:\n",
    "        成績 = \"良\"\n",
    "    elif 成績点数 >= 60:\n",
    "        成績 = \"可\"\n",
    "    \n",
    "    if 成績点数 < 60:\n",
    "        print(\"得点不足による不可\")\n",
    "    else:\n",
    "        print(\"単位取得！\")\n",
    "print(f\"課題={課題提出}点、期末={期末試験}点、成績＝{成績点数}点、評価＝{成績}、出席日数={出席日数}\")"
   ]
  },
  {
   "cell_type": "code",
   "execution_count": null,
   "metadata": {},
   "outputs": [],
   "source": []
  }
 ],
 "metadata": {
  "colab": {
   "authorship_tag": "ABX9TyMOtB7OiTVLb+yu2KoVwjto",
   "include_colab_link": true,
   "provenance": []
  },
  "kernelspec": {
   "display_name": "Python 3 (ipykernel)",
   "language": "python",
   "name": "python3"
  },
  "language_info": {
   "codemirror_mode": {
    "name": "ipython",
    "version": 3
   },
   "file_extension": ".py",
   "mimetype": "text/x-python",
   "name": "python",
   "nbconvert_exporter": "python",
   "pygments_lexer": "ipython3",
   "version": "3.10.12"
  }
 },
 "nbformat": 4,
 "nbformat_minor": 1
}
