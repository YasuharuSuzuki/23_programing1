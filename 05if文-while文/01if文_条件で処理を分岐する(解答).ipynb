{
 "cells": [
  {
   "cell_type": "markdown",
   "metadata": {
    "colab_type": "text",
    "id": "view-in-github"
   },
   "source": [
    "<a href=\"https://colab.research.google.com/github/YasuharuSuzuki/23_programing1/blob/main/\" target=\"_parent\"><img src=\"https://colab.research.google.com/assets/colab-badge.svg\" alt=\"Open In Colab\"/></a>"
   ]
  },
  {
   "cell_type": "markdown",
   "metadata": {},
   "source": [
    "# Section 5-1 if文_条件で処理を分岐する(教科書P.96)"
   ]
  },
  {
   "cell_type": "markdown",
   "metadata": {},
   "source": [
    "## if文 参考サイト\n",
    "## [参考サイト1 【Python早見表】 if文（条件分岐）](https://chokkan.github.io/python/03control.html#if)\n",
    "- 早見表の名の通り、if文、if-else文、if-elif-else文など直感的にわかりやすい説明が記載されています。Google Colaboでの実行を想定している点も良いです。\n",
    "- ちなみに東工大の教材です\n",
    "\n",
    "## [参考サイト2 【Python入門】 条件分岐](https://utokyo-ipp.github.io/2/2-3.html)\n",
    "- インデントから詳しく説明されており、if文のネストまでしっかり説明されています。練習問題もあり、こちらもGoogle Colaboでの実行が想定されています。\n",
    "- ちなみに東京大学の教材です\n",
    "\n",
    "## [参考サイト3 Pythonはインデント（スペース4文字）でブロックを表す](https://note.nkmk.me/python-indentation-usage/)\n",
    "- インデントはスペース４文字が標準です(PEP8)\n",
    "- コードブロックに応じてインデントを変更しても動作は正しいプログラムを書くことはできますが、見た目に統一感のないインデントは多くのエンジニアが「気持ち悪い」違和感を持ち、バグを生む不安が生じます。また、間違いなくコードレビューすると直される部分ですので、すべてのインデントは統一して行うようにしましょう"
   ]
  },
  {
   "cell_type": "markdown",
   "metadata": {},
   "source": [
    "## 5-1-1 if文\n",
    "- 条件に応じて処理を実行するにはif文を使います。（教科書と例題が違うので注意）"
   ]
  },
  {
   "cell_type": "code",
   "execution_count": 1,
   "metadata": {},
   "outputs": [
    {
     "name": "stdout",
     "output_type": "stream",
     "text": [
      "条件がTrueの時に実行する処理\n"
     ]
    }
   ],
   "source": [
    "条件 = True\n",
    "if 条件:\n",
    "    print(\"条件がTrueの時に実行する処理\")"
   ]
  },
  {
   "cell_type": "markdown",
   "metadata": {},
   "source": [
    "### サンプルプログラム1\n",
    "input()で点数を受け取り、60点未満の時は”不可”と表示するプログラム"
   ]
  },
  {
   "cell_type": "code",
   "execution_count": 2,
   "metadata": {},
   "outputs": [
    {
     "name": "stdout",
     "output_type": "stream",
     "text": [
      "50\n",
      "不可\n"
     ]
    }
   ],
   "source": [
    "exam_score1 = int(input()) # 入力した値をintに変換して取得\n",
    "if exam_score1 < 60: # 60点未満かどうかを比較。条件に適合する場合は、、、\n",
    "    print(\"不可\") # ”不可”と表示する"
   ]
  },
  {
   "cell_type": "markdown",
   "metadata": {},
   "source": [
    "### 練習プログラム1 (0.5点)\n",
    "input()で点数を受け取り、90点以上の時は”秀”と表示するプログラムを作成してみましょう"
   ]
  },
  {
   "cell_type": "code",
   "execution_count": 3,
   "metadata": {},
   "outputs": [
    {
     "name": "stdout",
     "output_type": "stream",
     "text": [
      "91\n",
      "秀\n"
     ]
    }
   ],
   "source": [
    "exam_score2 = int(input()) # 入力した値をintに変換して取得\n",
    "if exam_score2 >= 90:\n",
    "    print(\"秀\")"
   ]
  },
  {
   "cell_type": "markdown",
   "metadata": {},
   "source": [
    "考察\n",
    "- この場合、特定の条件の処理は記述できますが、例えば60点以上の人に「可」と表示したりすることができません\n",
    "- 条件と合わない場合の処理は else を使って実行することが出来ます"
   ]
  },
  {
   "cell_type": "markdown",
   "metadata": {},
   "source": [
    "## 5-1-2 if-else文\n",
    "- 条件に合わない場合の処理も行うはif-else文を使います。（教科書と例題が違うので注意）"
   ]
  },
  {
   "cell_type": "code",
   "execution_count": 4,
   "metadata": {},
   "outputs": [
    {
     "name": "stdout",
     "output_type": "stream",
     "text": [
      "条件がFalseの時に実行する処理\n"
     ]
    }
   ],
   "source": [
    "条件 = False\n",
    "if 条件:\n",
    "    print(\"条件がTrueの時に実行する処理\")\n",
    "else:\n",
    "    print(\"条件がFalseの時に実行する処理\")"
   ]
  },
  {
   "cell_type": "markdown",
   "metadata": {},
   "source": [
    "### サンプルプログラム2\n",
    "input()で点数を受け取り、60点未満の時は”不可”、60点以上の場合は\"可\"と表示するプログラム"
   ]
  },
  {
   "cell_type": "code",
   "execution_count": 5,
   "metadata": {},
   "outputs": [
    {
     "name": "stdout",
     "output_type": "stream",
     "text": [
      "61\n",
      "可\n"
     ]
    }
   ],
   "source": [
    "exam_score3 = int(input()) # 入力した値をintに変換して取得\n",
    "if exam_score3 < 60: # 60点未満かどうかを比較。条件に適合する場合は、\n",
    "    print(\"不可\") # ”不可”と表示する\n",
    "else: # 条件に適合しない場合は\n",
    "    print(\"可\") # ”可”と表示する"
   ]
  },
  {
   "cell_type": "markdown",
   "metadata": {},
   "source": [
    "### 練習プログラム2 (0.5点)\n",
    "input()で点数を受け取り、90点以上の時は”秀”、90点未満の場合は\"不可\"と表示するプログラムを作成してみましょう"
   ]
  },
  {
   "cell_type": "code",
   "execution_count": 6,
   "metadata": {},
   "outputs": [
    {
     "name": "stdout",
     "output_type": "stream",
     "text": [
      "89\n",
      "不可\n"
     ]
    }
   ],
   "source": [
    "exam_score4 = int(input())\n",
    "if exam_score4 >= 90:\n",
    "    print(\"秀\")\n",
    "else:\n",
    "    print(\"不可\")"
   ]
  },
  {
   "cell_type": "markdown",
   "metadata": {},
   "source": [
    "考察\n",
    "- この場合、特定の2通りの条件の処理は記述できますが、例えば60点未満を「不可」、70点未満を「可」と表示した上でさらに70点以上を「良」と表示することができません\n",
    "- 3つ以上の条件に応じて処理を実行したい場合は if-elif-else を使って実行することが出来ます"
   ]
  },
  {
   "cell_type": "markdown",
   "metadata": {},
   "source": [
    "## 5-1-3 if-elif-else文\n",
    "- 3つ以上条件に応じて処理を実行したい場合はif-elif-else文を使います。（教科書と例題が違うので注意）"
   ]
  },
  {
   "cell_type": "code",
   "execution_count": 7,
   "metadata": {},
   "outputs": [
    {
     "name": "stdout",
     "output_type": "stream",
     "text": [
      "条件が2の時に実行する処理\n"
     ]
    }
   ],
   "source": [
    "条件 = 2\n",
    "if 条件 == 1:\n",
    "    print(\"条件が1の時に実行する処理\")\n",
    "elif 条件 == 2:\n",
    "    print(\"条件が2の時に実行する処理\")\n",
    "else:\n",
    "    print(\"条件がその他の時に実行する処理\")"
   ]
  },
  {
   "cell_type": "markdown",
   "metadata": {},
   "source": [
    "### サンプルプログラム3\n",
    "input()で点数を受け取り、60点未満の時は”不可”、70点未満の時は”可”、70点以上の時は”良”と表示するプログラム"
   ]
  },
  {
   "cell_type": "code",
   "execution_count": 8,
   "metadata": {},
   "outputs": [
    {
     "name": "stdout",
     "output_type": "stream",
     "text": [
      "70\n",
      "良\n"
     ]
    }
   ],
   "source": [
    "exam_score5 = int(input()) # 入力した値をintに変換して取得\n",
    "if exam_score5 < 60: # 60点未満かどうかを比較。条件に適合する場合は、\n",
    "    print(\"不可\") # ”不可”と表示する\n",
    "elif exam_score5 < 70: # 70点未満の場合は\n",
    "    print(\"可\") # ”可”と表示する\n",
    "else: # 条件に適合しない場合は\n",
    "    print(\"良\") # ”良”と表示する"
   ]
  },
  {
   "cell_type": "markdown",
   "metadata": {},
   "source": [
    "### 練習プログラム3 (0.5点)\n",
    "input()で点数を受け取り、90点以上の時は”秀”、80点以上の場合は\"優\"、80点未満の場合は\"不可\"と表示するプログラムを作成してみましょう"
   ]
  },
  {
   "cell_type": "code",
   "execution_count": 9,
   "metadata": {},
   "outputs": [
    {
     "name": "stdout",
     "output_type": "stream",
     "text": [
      "85\n",
      "優\n"
     ]
    }
   ],
   "source": [
    "exam_score6 = int(input())\n",
    "if exam_score6 >= 90:\n",
    "    print(\"秀\")\n",
    "elif exam_score6 >= 80:\n",
    "    print(\"優\")\n",
    "else:\n",
    "    print(\"不可\")"
   ]
  },
  {
   "cell_type": "markdown",
   "metadata": {},
   "source": [
    "### 練習プログラム4 (0.5点)\n",
    "input()で点数を受け取り、90点以上の時は”秀”、80点以上の場合は\"優\"、70点以上の場合は\"良\"、60点以上の場合は\"可\"、60点未満の場合は\"不可\"と表示するプログラムを作成してみましょう"
   ]
  },
  {
   "cell_type": "code",
   "execution_count": 10,
   "metadata": {},
   "outputs": [
    {
     "name": "stdout",
     "output_type": "stream",
     "text": [
      "65\n",
      "可\n"
     ]
    }
   ],
   "source": [
    "exam_score7 = int(input())\n",
    "if exam_score7 >= 90:\n",
    "    print(\"秀\")\n",
    "elif exam_score7 >= 80:\n",
    "    print(\"優\")\n",
    "elif exam_score7 >= 70:\n",
    "    print(\"良\")\n",
    "elif exam_score7 >= 60:\n",
    "    print(\"可\")\n",
    "else:\n",
    "    print(\"不可\")"
   ]
  },
  {
   "cell_type": "markdown",
   "metadata": {},
   "source": [
    "### 練習プログラム5 (1.0点)\n",
    "- 練習プログラム4で作成したプログラムを、点数を0〜100の乱数から取得するように変えてみましょう。\n",
    "- また、乱数で取得した点数も一緒にprintしましょう。"
   ]
  },
  {
   "cell_type": "code",
   "execution_count": 11,
   "metadata": {},
   "outputs": [
    {
     "name": "stdout",
     "output_type": "stream",
     "text": [
      "点数＝97、成績＝秀\n"
     ]
    }
   ],
   "source": [
    "import random\n",
    "exam_score8 = random.randint(0,100)\n",
    "grade1 = \"不可\"\n",
    "if exam_score8 >= 90:\n",
    "    grade1 = \"秀\"\n",
    "elif exam_score8 >= 80:\n",
    "    grade1 = \"優\"\n",
    "elif exam_score8 >= 70:\n",
    "    grade1 = \"良\"\n",
    "elif exam_score8 >= 60:\n",
    "    grade1 = \"可\"\n",
    "print(f\"点数＝{exam_score8}、成績＝{grade1}\")"
   ]
  },
  {
   "cell_type": "markdown",
   "metadata": {},
   "source": [
    "考察\n",
    "- 0〜100で一様分布で乱数を発生させると60点以下が多くなってしまうので、平均80点、標準偏差10点の正規分布で取得してみましょう\n",
    "- 正規分布はrandomモジュールのgauss関数で実行できます（random.gauss(mu, std)）"
   ]
  },
  {
   "cell_type": "markdown",
   "metadata": {},
   "source": [
    "### 練習プログラム6 (1.0点)\n",
    "- 練習プログラム5で作成したプログラムを、平均80点、標準偏差10点の正規分布で取得するように変えてみましょう。\n",
    "- intへの型変換と、最大スコアが100点になるように気をつけましょう"
   ]
  },
  {
   "cell_type": "code",
   "execution_count": 12,
   "metadata": {},
   "outputs": [
    {
     "name": "stdout",
     "output_type": "stream",
     "text": [
      "点数＝96、成績＝秀\n"
     ]
    }
   ],
   "source": [
    "import random\n",
    "exam_score9 = min(int(random.gauss(80,10)),100)\n",
    "grade2 = \"不可\"\n",
    "if exam_score9 >= 90:\n",
    "    grade2 = \"秀\"\n",
    "elif exam_score9 >= 80:\n",
    "    grade2 = \"優\"\n",
    "elif exam_score9 >= 70:\n",
    "    grade2 = \"良\"\n",
    "elif exam_score9 >= 60:\n",
    "    grade2 = \"可\"\n",
    "print(f\"点数＝{exam_score9}、成績＝{grade2}\")"
   ]
  },
  {
   "cell_type": "markdown",
   "metadata": {},
   "source": [
    "考察\n",
    "- 良〜優が多くなりましたね。可や秀も時々出ますが、不可は殆ど出なくなりました。"
   ]
  },
  {
   "cell_type": "code",
   "execution_count": null,
   "metadata": {},
   "outputs": [],
   "source": []
  }
 ],
 "metadata": {
  "colab": {
   "authorship_tag": "ABX9TyMOtB7OiTVLb+yu2KoVwjto",
   "include_colab_link": true,
   "provenance": []
  },
  "kernelspec": {
   "display_name": "Python 3 (ipykernel)",
   "language": "python",
   "name": "python3"
  },
  "language_info": {
   "codemirror_mode": {
    "name": "ipython",
    "version": 3
   },
   "file_extension": ".py",
   "mimetype": "text/x-python",
   "name": "python",
   "nbconvert_exporter": "python",
   "pygments_lexer": "ipython3",
   "version": "3.10.13"
  }
 },
 "nbformat": 4,
 "nbformat_minor": 1
}
