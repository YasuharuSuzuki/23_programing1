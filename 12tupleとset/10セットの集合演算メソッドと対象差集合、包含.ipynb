{
 "cells": [
  {
   "cell_type": "markdown",
   "metadata": {
    "colab_type": "text",
    "id": "view-in-github"
   },
   "source": [
    "<a href=\"https://colab.research.google.com/github/YasuharuSuzuki/23_programing1/blob/main/\" target=\"_parent\"><img src=\"https://colab.research.google.com/assets/colab-badge.svg\" alt=\"Open In Colab\"/></a>"
   ]
  },
  {
   "cell_type": "markdown",
   "metadata": {},
   "source": [
    "# セットの集合演算メソッドと対象差集合、包含\n",
    "- 教科書で扱われているものの、使用頻度が低い機能や難しい内容をこちらに書いています。\n",
    "- 自習用として配布します。授業では扱いません。解かなくてもOKです。\n",
    "- ある程度プログラムに自信がある方は、知識として知っておくと幅が広がるので取り組まれると良いでしょう。\n",
    "- 課題提出頂いた場合は成績に加点します。"
   ]
  },
  {
   "cell_type": "markdown",
   "metadata": {},
   "source": [
    "## サンプルプログラム10　和集合・積集合・差集合のメソッド\n",
    "- 和集合をメソッドで求めるにはunion()を使用します。\n",
    "- 積集合をメソッドで求めるにはintersection()を使用します。\n",
    "- 差集合をメソッドで求めるにはdifference()を使用します。"
   ]
  },
  {
   "cell_type": "code",
   "execution_count": 1,
   "metadata": {},
   "outputs": [
    {
     "data": {
      "text/plain": [
       "frozenset({'白', '赤'})"
      ]
     },
     "execution_count": 1,
     "metadata": {},
     "output_type": "execute_result"
    }
   ],
   "source": [
    "# setの作成\n",
    "all_color_type = frozenset([\"赤\",\"白\",\"黄\"])\n",
    "input_color_type1 = frozenset([\"赤\",\"赤\",\"赤\"])\n",
    "input_color_type2 = frozenset([\"白\",\"白\",\"白\"])\n",
    "input_color_type3 = frozenset([\"赤\",\"白\",\"白\"])\n",
    "input_color_type4 = frozenset([\"白\",\"白\",\"黄\"])\n",
    "\n",
    "# 和集合をメソッドで求めるにはunion()を使用します。\n",
    "union_color_type = input_color_type1.union(input_color_type2)\n",
    "union_color_type"
   ]
  },
  {
   "cell_type": "markdown",
   "metadata": {},
   "source": [
    "- 全て赤の`input_color_type1`と全て白の`input_color_type2`の和集合を計算して、`白`と`赤`が出力されました。"
   ]
  },
  {
   "cell_type": "code",
   "execution_count": 2,
   "metadata": {},
   "outputs": [
    {
     "data": {
      "text/plain": [
       "frozenset({'白', '赤'})"
      ]
     },
     "execution_count": 2,
     "metadata": {},
     "output_type": "execute_result"
    }
   ],
   "source": [
    "# 積集合をメソッドで求めるにはintersection()を使用します。\n",
    "intersection_color_type = all_color_type.intersection(input_color_type3)\n",
    "intersection_color_type"
   ]
  },
  {
   "cell_type": "markdown",
   "metadata": {},
   "source": [
    "- ３色すべてが含まれている `all_color_type`と赤白のみの`input_color_type3`の積集合を計算して、`白`と`赤`が出力されました。"
   ]
  },
  {
   "cell_type": "code",
   "execution_count": 3,
   "metadata": {},
   "outputs": [
    {
     "data": {
      "text/plain": [
       "frozenset({'黄'})"
      ]
     },
     "execution_count": 3,
     "metadata": {},
     "output_type": "execute_result"
    }
   ],
   "source": [
    "# 積差集合をメソッドで求めるにはdifference()を使用します。\n",
    "difference_color_type = all_color_type.difference(input_color_type3)\n",
    "difference_color_type"
   ]
  },
  {
   "cell_type": "markdown",
   "metadata": {},
   "source": [
    "- ３色すべてが含まれている `all_color_type`と赤白のみの`input_color_type3`の積集合を計算して、`黄`が出力されました。"
   ]
  },
  {
   "cell_type": "markdown",
   "metadata": {},
   "source": [
    "## 練習プログラム10 (0.9点)\n",
    "- オリジナルのsetを作成してみましょう。\n",
    "- オリジナルのsetを使用して和集合をメソッドで求めてみましょう。\n",
    "- オリジナルのsetを使用して積集合をメソッドで求めてみましょう。\n",
    "- オリジナルのsetを使用して差集合をメソッドで求めてみましょう。"
   ]
  },
  {
   "cell_type": "code",
   "execution_count": 4,
   "metadata": {},
   "outputs": [],
   "source": [
    "# 1. オリジナルのsetを作成してみましょう\n",
    "# 入れる値は何でも良いですが、このNotebookのサンプルプログラムや教科書の値とは違う独自の値を入れましょう\n",
    "# 変数名も独自のものに変えましょう\n",
    "\n",
    "\n",
    "# ここにPythonプログラムを記述してください"
   ]
  },
  {
   "cell_type": "code",
   "execution_count": 5,
   "metadata": {},
   "outputs": [],
   "source": [
    "# 2. オリジナルのsetを使用して和集合を求めてみましょう。\n",
    "\n",
    "\n",
    "# ここにPythonプログラムを記述してください"
   ]
  },
  {
   "cell_type": "code",
   "execution_count": 6,
   "metadata": {},
   "outputs": [],
   "source": [
    "# 3. オリジナルのsetを使用して積集合を求めてみましょう。\n",
    "\n",
    "\n",
    "# ここにPythonプログラムを記述してください"
   ]
  },
  {
   "cell_type": "code",
   "execution_count": 7,
   "metadata": {},
   "outputs": [],
   "source": [
    "# 4. オリジナルのsetを使用して差集合を求めてみましょう。\n",
    "\n",
    "\n",
    "# ここにPythonプログラムを記述してください"
   ]
  },
  {
   "cell_type": "markdown",
   "metadata": {},
   "source": [
    "## サンプルプログラム11　対象差集合\n",
    "- 対象差集合を求めるには演算子 ^ を使用します。\n",
    "- 対象差集合をメソッドで求めるには symmetric_difference() を使用します。"
   ]
  },
  {
   "cell_type": "code",
   "execution_count": 8,
   "metadata": {},
   "outputs": [
    {
     "data": {
      "text/plain": [
       "frozenset({'赤', '黄'})"
      ]
     },
     "execution_count": 8,
     "metadata": {},
     "output_type": "execute_result"
    }
   ],
   "source": [
    "input_color_type3 ^ input_color_type4"
   ]
  },
  {
   "cell_type": "markdown",
   "metadata": {},
   "source": [
    "- 赤白のみの `input_color_type3`と白黃のみの`input_color_type4`の対象差集合を計算して、`赤`と`黄`が出力されました。"
   ]
  },
  {
   "cell_type": "code",
   "execution_count": 9,
   "metadata": {},
   "outputs": [
    {
     "data": {
      "text/plain": [
       "frozenset({'赤', '黄'})"
      ]
     },
     "execution_count": 9,
     "metadata": {},
     "output_type": "execute_result"
    }
   ],
   "source": [
    "input_color_type3.symmetric_difference(input_color_type4)"
   ]
  },
  {
   "cell_type": "markdown",
   "metadata": {},
   "source": [
    "- メソッドで求めても同じ結果となります。"
   ]
  },
  {
   "cell_type": "markdown",
   "metadata": {},
   "source": [
    "## 練習プログラム11 (0.2点)\n",
    "- 練習プログラム10で作成したオリジナルのsetを使用して対象差集合を求めてみましょう。(演算子でもメソッドでもどちらでも良いです）"
   ]
  },
  {
   "cell_type": "code",
   "execution_count": 10,
   "metadata": {},
   "outputs": [],
   "source": [
    "# 1. オリジナルのsetを使用して対象差集合を求めてみましょう。\n",
    "\n",
    "\n",
    "# ここにPythonプログラムを記述してください"
   ]
  },
  {
   "cell_type": "markdown",
   "metadata": {},
   "source": [
    "## サンプルプログラム12　集合演算結果でセットの内容を更新する\n",
    "- 和集合で更新（演算子 |= または update()メソッド）\n",
    "- 積集合で更新（演算子 &= または intersection_update()メソッド）\n",
    "- 差集合で更新（演算子 -= または difference_update()メソッド）\n",
    "- 対象差集合で更新（演算子 ^= または symmetric_difference_update()メソッド）"
   ]
  },
  {
   "cell_type": "code",
   "execution_count": 11,
   "metadata": {},
   "outputs": [
    {
     "data": {
      "text/plain": [
       "{'白', '赤'}"
      ]
     },
     "execution_count": 11,
     "metadata": {},
     "output_type": "execute_result"
    }
   ],
   "source": [
    "# 和集合で更新（演算子 |=）\n",
    "temp1 = set(input_color_type1.copy())\n",
    "temp1 |= input_color_type2\n",
    "temp1"
   ]
  },
  {
   "cell_type": "code",
   "execution_count": 12,
   "metadata": {},
   "outputs": [
    {
     "data": {
      "text/plain": [
       "{'白', '赤'}"
      ]
     },
     "execution_count": 12,
     "metadata": {},
     "output_type": "execute_result"
    }
   ],
   "source": [
    "# 和集合で更新（update()メソッド）\n",
    "temp2 = set(input_color_type1.copy())\n",
    "temp2.update(input_color_type2)\n",
    "temp2"
   ]
  },
  {
   "cell_type": "code",
   "execution_count": 13,
   "metadata": {},
   "outputs": [
    {
     "data": {
      "text/plain": [
       "{'白', '赤'}"
      ]
     },
     "execution_count": 13,
     "metadata": {},
     "output_type": "execute_result"
    }
   ],
   "source": [
    "# 積集合で更新（演算子 &=）\n",
    "temp3 = set(all_color_type.copy())\n",
    "temp3 &= input_color_type3\n",
    "temp3"
   ]
  },
  {
   "cell_type": "code",
   "execution_count": 14,
   "metadata": {},
   "outputs": [
    {
     "data": {
      "text/plain": [
       "{'白', '赤'}"
      ]
     },
     "execution_count": 14,
     "metadata": {},
     "output_type": "execute_result"
    }
   ],
   "source": [
    "# 積集合で更新（intersection_update()メソッド）\n",
    "temp4 = set(all_color_type.copy())\n",
    "temp4.intersection_update(input_color_type3)\n",
    "temp4"
   ]
  },
  {
   "cell_type": "code",
   "execution_count": 15,
   "metadata": {},
   "outputs": [
    {
     "data": {
      "text/plain": [
       "{'黄'}"
      ]
     },
     "execution_count": 15,
     "metadata": {},
     "output_type": "execute_result"
    }
   ],
   "source": [
    "# 差集合で更新（演算子 -=）\n",
    "temp5 = set(all_color_type.copy())\n",
    "temp5 -= input_color_type3\n",
    "temp5"
   ]
  },
  {
   "cell_type": "code",
   "execution_count": 16,
   "metadata": {},
   "outputs": [
    {
     "data": {
      "text/plain": [
       "{'黄'}"
      ]
     },
     "execution_count": 16,
     "metadata": {},
     "output_type": "execute_result"
    }
   ],
   "source": [
    "# 差集合で更新（difference_update()メソッド)\n",
    "temp6 = set(all_color_type.copy())\n",
    "temp6.difference_update(input_color_type3)\n",
    "temp6"
   ]
  },
  {
   "cell_type": "code",
   "execution_count": 17,
   "metadata": {},
   "outputs": [
    {
     "data": {
      "text/plain": [
       "{'赤', '黄'}"
      ]
     },
     "execution_count": 17,
     "metadata": {},
     "output_type": "execute_result"
    }
   ],
   "source": [
    "# 対象差集合で更新（演算子 ^=）\n",
    "temp7 = set(input_color_type3.copy())\n",
    "temp7 ^= input_color_type4\n",
    "temp7"
   ]
  },
  {
   "cell_type": "code",
   "execution_count": 18,
   "metadata": {},
   "outputs": [
    {
     "data": {
      "text/plain": [
       "{'赤', '黄'}"
      ]
     },
     "execution_count": 18,
     "metadata": {},
     "output_type": "execute_result"
    }
   ],
   "source": [
    "# 対象差集合で更新（symmetric_difference_update()メソッド）\n",
    "temp8 = set(input_color_type3.copy())\n",
    "temp8.symmetric_difference_update(input_color_type4)\n",
    "temp8"
   ]
  },
  {
   "cell_type": "markdown",
   "metadata": {},
   "source": [
    "## 練習プログラム12 (0.8点)\n",
    "- 和集合で更新するプログラムを書いてみましょう。(演算子でもメソッドでもどちらでも良いです）\n",
    "- 積集合で更新するプログラムを書いてみましょう。(演算子でもメソッドでもどちらでも良いです）\n",
    "- 差集合で更新するプログラムを書いてみましょう。(演算子でもメソッドでもどちらでも良いです）\n",
    "- 対象差集合で更新するプログラムを書いてみましょう。(演算子でもメソッドでもどちらでも良いです）"
   ]
  },
  {
   "cell_type": "code",
   "execution_count": 19,
   "metadata": {},
   "outputs": [],
   "source": [
    "# 1. オリジナルのsetを使用して和集合で更新するプログラムを書いてみましょう。(演算子でもメソッドでもどちらでも良いです）\n",
    "\n",
    "\n",
    "# ここにPythonプログラムを記述してください"
   ]
  },
  {
   "cell_type": "code",
   "execution_count": 20,
   "metadata": {},
   "outputs": [],
   "source": [
    "# 2. オリジナルのsetを使用して積集合で更新するプログラムを書いてみましょう。(演算子でもメソッドでもどちらでも良いです）\n",
    "\n",
    "\n",
    "# ここにPythonプログラムを記述してください"
   ]
  },
  {
   "cell_type": "code",
   "execution_count": 21,
   "metadata": {},
   "outputs": [],
   "source": [
    "# 3. オリジナルのsetを使用して差集合で更新するプログラムを書いてみましょう。(演算子でもメソッドでもどちらでも良いです）\n",
    "\n",
    "\n",
    "# ここにPythonプログラムを記述してください"
   ]
  },
  {
   "cell_type": "code",
   "execution_count": 22,
   "metadata": {},
   "outputs": [],
   "source": [
    "# 4. オリジナルのsetを使用して対象差集合で更新するプログラムを書いてみましょう。(演算子でもメソッドでもどちらでも良いです）\n",
    "\n",
    "\n",
    "# ここにPythonプログラムを記述してください"
   ]
  },
  {
   "cell_type": "markdown",
   "metadata": {},
   "source": [
    "## サンプルプログラム13　要素の比較\n",
    "- 演算子 == での比較（完全に等しい集合のとき、Trueを返す）\n",
    "- 演算子 != での比較(少しでも違う集合同士のとき、Trueを返す)\n",
    "- isdisjoint() での比較(共通要素が無い時にTrueを返す)\n",
    "- 部分集合(サブセット)の判定（演算子 <= での判定、issubset()メソッドでの判定)\n",
    "- 上位集合(スーパーセット)の判定（演算子 >= での判定、issuperset()メソッドでの判定)"
   ]
  },
  {
   "cell_type": "markdown",
   "metadata": {},
   "source": [
    "####  == での比較\n",
    "- 完全に等しい集合のとき、Trueを返します。"
   ]
  },
  {
   "cell_type": "code",
   "execution_count": 23,
   "metadata": {},
   "outputs": [
    {
     "name": "stdout",
     "output_type": "stream",
     "text": [
      "all_color_type == (input_color_type1 | input_color_type4) = True\n",
      "all_color_type == (input_color_type2 | input_color_type4) = False\n",
      "all_color_type == (input_color_type3 | input_color_type4) = True\n"
     ]
    }
   ],
   "source": [
    "# input_color_type4 と input_color_type1〜3の和集合と、 all_color_typeを比較してみます\n",
    "print(\"all_color_type == (input_color_type1 | input_color_type4) =\",(all_color_type == (input_color_type1 | input_color_type4)))\n",
    "print(\"all_color_type == (input_color_type2 | input_color_type4) =\",(all_color_type == (input_color_type2 | input_color_type4)))\n",
    "print(\"all_color_type == (input_color_type3 | input_color_type4) =\",(all_color_type == (input_color_type3 | input_color_type4)))"
   ]
  },
  {
   "cell_type": "markdown",
   "metadata": {},
   "source": [
    "- `(input_color_type2 | input_color_type4)` だけがFalseとなりました。\n",
    "- 中身を確認してみましょう"
   ]
  },
  {
   "cell_type": "code",
   "execution_count": 24,
   "metadata": {},
   "outputs": [
    {
     "name": "stdout",
     "output_type": "stream",
     "text": [
      "all_color_type = frozenset({'赤', '白', '黄'})\n",
      "(input_color_type1 | input_color_type4) = frozenset({'赤', '白', '黄'})\n",
      "(input_color_type2 | input_color_type4) = frozenset({'白', '黄'})\n",
      "(input_color_type3 | input_color_type4) = frozenset({'赤', '白', '黄'})\n"
     ]
    }
   ],
   "source": [
    "print(\"all_color_type =\", all_color_type)\n",
    "print(\"(input_color_type1 | input_color_type4) =\",(input_color_type1 | input_color_type4))\n",
    "print(\"(input_color_type2 | input_color_type4) =\",(input_color_type2 | input_color_type4))\n",
    "print(\"(input_color_type3 | input_color_type4) =\",(input_color_type3 | input_color_type4))"
   ]
  },
  {
   "cell_type": "markdown",
   "metadata": {},
   "source": [
    "- `(input_color_type2 | input_color_type4)` に赤が無いためにFalseとなっています。\n",
    "  - このように一部分だけが一致していても、１つでも違いがあればFalseを返します。"
   ]
  },
  {
   "cell_type": "markdown",
   "metadata": {},
   "source": [
    "####  != での比較\n",
    "- 少しでも違う集合同士のとき、Trueを返します。"
   ]
  },
  {
   "cell_type": "code",
   "execution_count": 25,
   "metadata": {},
   "outputs": [
    {
     "name": "stdout",
     "output_type": "stream",
     "text": [
      "all_color_type != (input_color_type1 | input_color_type4) = False\n",
      "all_color_type != (input_color_type2 | input_color_type4) = True\n",
      "all_color_type != (input_color_type3 | input_color_type4) = False\n"
     ]
    }
   ],
   "source": [
    "# input_color_type4 と input_color_type1〜3の和集合と、 all_color_typeを比較してみます\n",
    "print(\"all_color_type != (input_color_type1 | input_color_type4) =\",(all_color_type != (input_color_type1 | input_color_type4)))\n",
    "print(\"all_color_type != (input_color_type2 | input_color_type4) =\",(all_color_type != (input_color_type2 | input_color_type4)))\n",
    "print(\"all_color_type != (input_color_type3 | input_color_type4) =\",(all_color_type != (input_color_type3 | input_color_type4)))"
   ]
  },
  {
   "cell_type": "markdown",
   "metadata": {},
   "source": [
    "- == のときと反対で `(input_color_type2 | input_color_type4)` だけがTrueとなりました。"
   ]
  },
  {
   "cell_type": "markdown",
   "metadata": {},
   "source": [
    "#### isdisjoint() での比較\n",
    "- 共通要素が無い時にTrueを返す"
   ]
  },
  {
   "cell_type": "code",
   "execution_count": 26,
   "metadata": {},
   "outputs": [
    {
     "name": "stdout",
     "output_type": "stream",
     "text": [
      "input_color_type1.isdisjoint(input_color_type2) = True\n",
      "input_color_type1.isdisjoint(input_color_type3) = False\n",
      "input_color_type1.isdisjoint(input_color_type4) = True\n"
     ]
    }
   ],
   "source": [
    "print(\"input_color_type1.isdisjoint(input_color_type2) =\", input_color_type1.isdisjoint(input_color_type2))\n",
    "print(\"input_color_type1.isdisjoint(input_color_type3) =\", input_color_type1.isdisjoint(input_color_type3))\n",
    "print(\"input_color_type1.isdisjoint(input_color_type4) =\", input_color_type1.isdisjoint(input_color_type4))"
   ]
  },
  {
   "cell_type": "markdown",
   "metadata": {},
   "source": [
    "- input_color_type1.isdisjoint(input_color_type3) だけがFalseとなりました。\n",
    "- 中身を確認してみましょう"
   ]
  },
  {
   "cell_type": "code",
   "execution_count": 28,
   "metadata": {},
   "outputs": [
    {
     "name": "stdout",
     "output_type": "stream",
     "text": [
      "input_color_type1 = frozenset({'赤'})\n",
      "input_color_type2 = frozenset({'白'})\n",
      "input_color_type3 = frozenset({'赤', '白'})\n",
      "input_color_type4 = frozenset({'白', '黄'})\n"
     ]
    }
   ],
   "source": [
    "print(\"input_color_type1 =\", input_color_type1)\n",
    "print(\"input_color_type2 =\", input_color_type2)\n",
    "print(\"input_color_type3 =\", input_color_type3)\n",
    "print(\"input_color_type4 =\", input_color_type4)"
   ]
  },
  {
   "cell_type": "markdown",
   "metadata": {},
   "source": [
    "#### 部分集合（サブセット）の判定\n",
    "- ２つの集合A,Bを比較した時、Aの要素をBがすべて含んでいるとき、AはBの部分集合（サブセット）と言います。\n",
    "- 部分集合の判定は演算子`<=`か、`issubset()`メソッドで判定できます。"
   ]
  },
  {
   "cell_type": "code",
   "execution_count": 31,
   "metadata": {},
   "outputs": [
    {
     "name": "stdout",
     "output_type": "stream",
     "text": [
      "input_color_type1 <= input_color_type2 = False\n",
      "input_color_type1 <= input_color_type3 = True\n",
      "input_color_type3 <= input_color_type1 = False\n",
      "all_color_type <= (input_color_type1 | input_color_type4) = True\n"
     ]
    }
   ],
   "source": [
    "# 演算子<= を使った部分集合（サブセット）の判定\n",
    "print(\"input_color_type1 <= input_color_type2 =\", input_color_type1 <= input_color_type2)\n",
    "print(\"input_color_type1 <= input_color_type3 =\", input_color_type1 <= input_color_type3)\n",
    "print(\"input_color_type3 <= input_color_type1 =\", input_color_type3 <= input_color_type1)\n",
    "print(\"all_color_type <= (input_color_type1 | input_color_type4) =\",(all_color_type <= (input_color_type1 | input_color_type4)))"
   ]
  },
  {
   "cell_type": "markdown",
   "metadata": {},
   "source": [
    "- `(input_color_type1 <= input_color_type2)` はそれぞれ赤のみ、白のみの集合ですのでFalseとなります。\n",
    "- `(input_color_type1 <= input_color_type3)` は赤のみと赤白の集合ですので、input_color_type1が部分集合となりTrueを返しています。\n",
    "- 左右入れ替えて `(input_color_type3 <= input_color_type1)` とすると、input_color_type3は部分集合とならずにFalseを返しています。\n",
    "- `all_color_type <= (input_color_type1 | input_color_type4)` は同一要素で構成された等しい集合ですが、部分集合とみなすことも出来るためTrueを返しています"
   ]
  },
  {
   "cell_type": "code",
   "execution_count": 32,
   "metadata": {},
   "outputs": [
    {
     "name": "stdout",
     "output_type": "stream",
     "text": [
      "input_color_type1.issubset(input_color_type2) = False\n",
      "input_color_type1.issubset(input_color_type3) = True\n",
      "input_color_type3.issubset(input_color_type1) = False\n",
      "all_color_type.issubset(input_color_type1 | input_color_type4) = True\n"
     ]
    }
   ],
   "source": [
    "# issubset() メソッドを使った部分集合（サブセット）の判定\n",
    "print(\"input_color_type1.issubset(input_color_type2) =\", input_color_type1.issubset(input_color_type2))\n",
    "print(\"input_color_type1.issubset(input_color_type3) =\", input_color_type1.issubset(input_color_type3))\n",
    "print(\"input_color_type3.issubset(input_color_type1) =\", input_color_type3.issubset(input_color_type1))\n",
    "print(\"all_color_type.issubset(input_color_type1 | input_color_type4) =\", all_color_type.issubset(input_color_type1 | input_color_type4))"
   ]
  },
  {
   "cell_type": "markdown",
   "metadata": {},
   "source": [
    "- issubset()メソッドでも部分集合を判定できますが、結果は同じです"
   ]
  },
  {
   "cell_type": "markdown",
   "metadata": {},
   "source": [
    "#### 上位集合（スーパーセット）の判定\n",
    "- ２つの集合A,Bを比較した時、Aの要素をBがすべて含んでいるとき、BはAの上位集合（スーパーセット）と言います。\n",
    "- 上位集合の判定は演算子`>=`か、`issuperset()`メソッドで判定できます。"
   ]
  },
  {
   "cell_type": "code",
   "execution_count": 34,
   "metadata": {},
   "outputs": [
    {
     "name": "stdout",
     "output_type": "stream",
     "text": [
      "input_color_type1 <= input_color_type2 = False\n",
      "input_color_type1 <= input_color_type3 = False\n",
      "input_color_type3 <= input_color_type1 = True\n",
      "all_color_type <= (input_color_type1 | input_color_type4) = True\n"
     ]
    }
   ],
   "source": [
    "# 演算子<= を使った部分集合（サブセット）の判定\n",
    "print(\"input_color_type1 >= input_color_type2 =\", input_color_type1 >= input_color_type2)\n",
    "print(\"input_color_type1 >= input_color_type3 =\", input_color_type1 >= input_color_type3)\n",
    "print(\"input_color_type3 >= input_color_type1 =\", input_color_type3 >= input_color_type1)\n",
    "print(\"all_color_type >= (input_color_type1 | input_color_type4) =\",(all_color_type >= (input_color_type1 | input_color_type4)))"
   ]
  },
  {
   "cell_type": "markdown",
   "metadata": {},
   "source": [
    "- `(input_color_type1 >= input_color_type2)` はそれぞれ赤のみ、白のみの集合ですのでFalseとなります。\n",
    "- `(input_color_type1 >= input_color_type3)` は赤のみと赤白の集合ですので、input_color_type1が部分集合となりFalseを返しています。\n",
    "- 左右入れ替えて `(input_color_type3 >= input_color_type1)` とすると、input_color_type3は上位集合となりTrueを返しています。\n",
    "- `all_color_type >= (input_color_type1 | input_color_type4)` は同一要素で構成された等しい集合ですが、上位集合とみなすことも出来るためTrueを返しています"
   ]
  },
  {
   "cell_type": "markdown",
   "metadata": {},
   "source": [
    "## 練習プログラム13 (1.0点)\n",
    "- 演算子 == を使って、完全に等しい集合かどうかを比較してみましょう\n",
    "- 演算子 != を使って、違う集合同士かどうかを比較してみましょう\n",
    "- isdisjoint() を使用して、共通要素が無い集合同士かどうかを判定しましょう\n",
    "- 部分集合(サブセット)を判定しましょう（演算子 <= もしくはissubset()メソッドでの判定)\n",
    "- 上位集合(スーパーセット)を判定しましょう（演算子 >= もしくはissuperset()メソッドでの判定)"
   ]
  },
  {
   "cell_type": "code",
   "execution_count": null,
   "metadata": {},
   "outputs": [],
   "source": [
    "# 1. オリジナルのsetを使用して演算子 == を使って、完全に等しい集合かどうかを比較してみましょう\n",
    "\n",
    "\n",
    "# ここにPythonプログラムを記述してください"
   ]
  },
  {
   "cell_type": "code",
   "execution_count": null,
   "metadata": {},
   "outputs": [],
   "source": [
    "# 2. オリジナルのsetを使用して演算子 != を使って、違う集合同士かどうかを比較してみましょう\n",
    "\n",
    "\n",
    "# ここにPythonプログラムを記述してください"
   ]
  },
  {
   "cell_type": "code",
   "execution_count": null,
   "metadata": {},
   "outputs": [],
   "source": [
    "# 3. オリジナルのsetを使用してisdisjoint() を使用して、共通要素が無い集合同士かどうかを判定しましょう\n",
    "\n",
    "\n",
    "# ここにPythonプログラムを記述してください"
   ]
  },
  {
   "cell_type": "code",
   "execution_count": null,
   "metadata": {},
   "outputs": [],
   "source": [
    "# 4. 部分集合(サブセット)を判定しましょう（演算子 <= での判定もしくはissubset()メソッドでの判定)\n",
    "\n",
    "\n",
    "# ここにPythonプログラムを記述してください"
   ]
  },
  {
   "cell_type": "code",
   "execution_count": null,
   "metadata": {},
   "outputs": [],
   "source": [
    "# 5. 上位集合(スーパーセット)を判定しましょう（演算子 >= もしくはissuperset()メソッドでの判定)\n",
    "\n",
    "\n",
    "# ここにPythonプログラムを記述してください"
   ]
  }
 ],
 "metadata": {
  "colab": {
   "authorship_tag": "ABX9TyMOtB7OiTVLb+yu2KoVwjto",
   "include_colab_link": true,
   "provenance": []
  },
  "kernelspec": {
   "display_name": "Python 3 (ipykernel)",
   "language": "python",
   "name": "python3"
  },
  "language_info": {
   "codemirror_mode": {
    "name": "ipython",
    "version": 3
   },
   "file_extension": ".py",
   "mimetype": "text/x-python",
   "name": "python",
   "nbconvert_exporter": "python",
   "pygments_lexer": "ipython3",
   "version": "3.10.13"
  }
 },
 "nbformat": 4,
 "nbformat_minor": 1
}
