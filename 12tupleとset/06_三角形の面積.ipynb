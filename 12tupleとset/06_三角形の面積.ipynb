{
 "cells": [
  {
   "cell_type": "markdown",
   "metadata": {},
   "source": [
    "<a href=\"https://colab.research.google.com/github/YasuharuSuzuki/23_programing1/blob/main/\" target=\"_parent\"><img src=\"https://colab.research.google.com/assets/colab-badge.svg\" alt=\"Open In Colab\"/></a>"
   ]
  },
  {
   "cell_type": "markdown",
   "metadata": {},
   "source": [
    "# 三角形の面積 (1.0点)"
   ]
  },
  {
   "cell_type": "markdown",
   "metadata": {},
   "source": [
    "- ゆるるくんは小学生向けの問題を作成しています。\n",
    "- 三角形の面積を自動的に求めるプログラムを作成し、小学生に見せたいと思っています。\n",
    "- 三角形の面積は底辺ｘ高さ÷２で求まります。\n",
    "- 底辺の値を$B$cm、高さの値を$H$cm、求まった面積を$R$cm^2とした場合、\n",
    "- 「BxH÷2=R」「こたえは R cm^2です」と２行で表示してください。"
   ]
  },
  {
   "cell_type": "markdown",
   "metadata": {},
   "source": [
    "### 制約\n",
    "$\n",
    "1 <= B <= 9 (Bは整数) \\\\\n",
    "1 <= H <= 9 (Hは整数) \\\\\n",
    "Rは正の実数（小数部は小数点第一位までとし、第二位以下は切り捨てとする） \\\\\n",
    "$"
   ]
  },
  {
   "cell_type": "markdown",
   "metadata": {},
   "source": [
    "### 入力\n",
    "入力は以下の形式で標準入力から与えられます\n",
    "\n",
    "---\n",
    "$\n",
    "B \\quad H  \\\\\n",
    "$\n",
    "\n",
    "---\n",
    "\n",
    "底辺、高さの値を受け取ります"
   ]
  },
  {
   "cell_type": "markdown",
   "metadata": {},
   "source": [
    "### 出力\n",
    "\n",
    "---\n",
    "$\n",
    "B x H ÷ 2 = R  \\\\\n",
    "こたえは R cm^2です  \\\\\n",
    "$\n",
    "\n",
    "---\n",
    "計算式と求めた面積を出力してください。"
   ]
  },
  {
   "cell_type": "markdown",
   "metadata": {},
   "source": [
    "---"
   ]
  },
  {
   "cell_type": "markdown",
   "metadata": {},
   "source": [
    "### 入力例1\n",
    "```python\n",
    "2 4\n",
    "```\n",
    "\n",
    "### 出力例1\n",
    "```python\n",
    "2 x 4 ÷ 2 = 4.0\n",
    "こたえは 4.0 cm^2です\n",
    "```"
   ]
  },
  {
   "cell_type": "markdown",
   "metadata": {},
   "source": [
    "---"
   ]
  },
  {
   "cell_type": "markdown",
   "metadata": {},
   "source": [
    "### 入力例2\n",
    "```python\n",
    "9 5\n",
    "```\n",
    "\n",
    "### 出力例2\n",
    "```python\n",
    "9 x 5 ÷ 2 = 22.5\n",
    "こたえは 22.5 cm^2です\n",
    "```"
   ]
  },
  {
   "cell_type": "markdown",
   "metadata": {},
   "source": [
    "---"
   ]
  },
  {
   "cell_type": "markdown",
   "metadata": {},
   "source": [
    "### ここ↓にPythonコードを記述してください"
   ]
  },
  {
   "cell_type": "code",
   "execution_count": 2,
   "metadata": {},
   "outputs": [
    {
     "name": "stdout",
     "output_type": "stream",
     "text": [
      "9 5\n",
      "9 x 5 ÷ 2 = 22.5\n",
      "こたえは22.5cm^2です\n"
     ]
    }
   ],
   "source": [
    "# ここ↓にPythonコードを記述してください\n",
    "\n",
    "\n",
    "\n"
   ]
  }
 ],
 "metadata": {
  "colab": {
   "authorship_tag": "ABX9TyMOtB7OiTVLb+yu2KoVwjto",
   "include_colab_link": true,
   "provenance": []
  },
  "kernelspec": {
   "display_name": "Python 3 (ipykernel)",
   "language": "python",
   "name": "python3"
  },
  "language_info": {
   "codemirror_mode": {
    "name": "ipython",
    "version": 3
   },
   "file_extension": ".py",
   "mimetype": "text/x-python",
   "name": "python",
   "nbconvert_exporter": "python",
   "pygments_lexer": "ipython3",
   "version": "3.10.13"
  }
 },
 "nbformat": 4,
 "nbformat_minor": 1
}
