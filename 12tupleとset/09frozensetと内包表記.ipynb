{
 "cells": [
  {
   "cell_type": "markdown",
   "metadata": {
    "colab_type": "text",
    "id": "view-in-github"
   },
   "source": [
    "<a href=\"https://colab.research.google.com/github/YasuharuSuzuki/23_programing1/blob/main/\" target=\"_parent\"><img src=\"https://colab.research.google.com/assets/colab-badge.svg\" alt=\"Open In Colab\"/></a>"
   ]
  },
  {
   "cell_type": "markdown",
   "metadata": {},
   "source": [
    "# frozensetと内包表記\n",
    "- 教科書で扱われているものの、使用頻度が低い機能や難しい内容をこちらに書いています。\n",
    "- 自習用として配布します。授業では扱いません。解かなくてもOKです。\n",
    "- ある程度プログラムに自信がある方は、知識として知っておくと幅が広がるので取り組まれると良いでしょう。\n",
    "- 課題提出頂いた場合は成績に加点します。"
   ]
  },
  {
   "cell_type": "markdown",
   "metadata": {},
   "source": [
    "# サンプルプログラム8　frozenset型\n",
    "- frozenset型というイミュータブルなセット型もあります\n",
    "- frozenset型ではadd(), remove(), discard()などオブジェクトを操作するメソッドは全て使えません\n",
    "- 要素を変更されては困る時に使いましょう"
   ]
  },
  {
   "cell_type": "code",
   "execution_count": 1,
   "metadata": {},
   "outputs": [
    {
     "data": {
      "text/plain": [
       "frozenset({'白', '赤', '黄'})"
      ]
     },
     "execution_count": 1,
     "metadata": {},
     "output_type": "execute_result"
    }
   ],
   "source": [
    "frozen_color_type = frozenset([\"赤\",\"白\",\"黄\"])\n",
    "frozen_color_type"
   ]
  },
  {
   "cell_type": "code",
   "execution_count": 2,
   "metadata": {},
   "outputs": [
    {
     "ename": "AttributeError",
     "evalue": "'frozenset' object has no attribute 'add'",
     "output_type": "error",
     "traceback": [
      "\u001b[0;31m---------------------------------------------------------------------------\u001b[0m",
      "\u001b[0;31mAttributeError\u001b[0m                            Traceback (most recent call last)",
      "Cell \u001b[0;32mIn [2], line 2\u001b[0m\n\u001b[1;32m      1\u001b[0m \u001b[38;5;66;03m# add(), remove(), discard() などオブジェクトを操作するメソッドは全て使えません\u001b[39;00m\n\u001b[0;32m----> 2\u001b[0m frozen_color_type\u001b[38;5;241m.\u001b[39madd(\u001b[38;5;124m'\u001b[39m\u001b[38;5;124m赤\u001b[39m\u001b[38;5;124m'\u001b[39m)\n",
      "\u001b[0;31mAttributeError\u001b[0m: 'frozenset' object has no attribute 'add'"
     ]
    }
   ],
   "source": [
    "# add(), remove(), discard() などオブジェクトを操作するメソッドは全て使えません\n",
    "frozen_color_type.add('赤')"
   ]
  },
  {
   "cell_type": "markdown",
   "metadata": {},
   "source": [
    "## 練習プログラム8 (0.4点)\n",
    "- frozensetを１つ作成してみましょう\n",
    "- オブジェクトを操作するメソッドを呼び出して、変更できないことを確認しましょう"
   ]
  },
  {
   "cell_type": "code",
   "execution_count": 3,
   "metadata": {},
   "outputs": [],
   "source": [
    "# 1. frozensetを１つ作成してみましょう\n",
    "# 入れる値は何でも良いですが、このNotebookのサンプルプログラムや教科書の値とは違う独自の値を入れましょう\n",
    "# 変数名も独自のものに変えましょう\n",
    "\n",
    "\n",
    "# ここにPythonプログラムを記述してください"
   ]
  },
  {
   "cell_type": "code",
   "execution_count": 4,
   "metadata": {},
   "outputs": [],
   "source": [
    "# 2. オブジェクトを操作するメソッドを呼び出して、変更できないことを確認しましょう\n",
    "\n",
    "\n",
    "# ここにPythonプログラムを記述してください"
   ]
  },
  {
   "cell_type": "markdown",
   "metadata": {},
   "source": [
    "# サンプルプログラム9　set内包表記\n",
    "- list内包表記と同様に、setでも内包表記が使えます"
   ]
  },
  {
   "cell_type": "code",
   "execution_count": 5,
   "metadata": {},
   "outputs": [
    {
     "name": "stdout",
     "output_type": "stream",
     "text": [
      "alphabets =  {'i', 'p', 'q', 'k', 'n', 'd', 'g', 'y', 'f', 'u', 'e', 'm', 'z', 'o', 's', 'a', 'c', 'l', 'x', 'b', 'h', 't', 'j', 'r', 'v', 'w'}\n"
     ]
    }
   ],
   "source": [
    "# 'a'〜'z' の集合を作成\n",
    "alphabets = {chr(char1) for char1 in range(ord('a'),ord('z')+1)}\n",
    "print(\"alphabets = \", alphabets)"
   ]
  },
  {
   "cell_type": "markdown",
   "metadata": {},
   "source": [
    "- setの内包表記も条件づけが可能です"
   ]
  },
  {
   "cell_type": "code",
   "execution_count": 6,
   "metadata": {},
   "outputs": [
    {
     "name": "stdout",
     "output_type": "stream",
     "text": [
      "alphabets =  {'p', 'q', 'k', 'n', 'd', 'g', 'y', 'f', 'm', 'z', 's', 'c', 'l', 'x', 'b', 'h', 't', 'j', 'r', 'v', 'w'}\n"
     ]
    }
   ],
   "source": [
    "# 'a'〜'z' の集合を作成、ただし母音を除く（a,i,u,e,o)\n",
    "alphabets = {chr(char1) for char1 in range(ord('a'),ord('z')+1) if chr(char1) not in 'aiueo'}\n",
    "print(\"alphabets = \", alphabets)"
   ]
  },
  {
   "cell_type": "markdown",
   "metadata": {},
   "source": [
    "## 練習プログラム9 (0.4点)\n",
    "- set内包表記を使用して、setを１つ作成してみましょう\n",
    "- 条件付のあるset内包表記を使用して、setを１つ作成してみましょう"
   ]
  },
  {
   "cell_type": "code",
   "execution_count": 7,
   "metadata": {},
   "outputs": [],
   "source": [
    "# 1. set内包表記を使用して、setを１つ作成してみましょう\n",
    "# 入れる値は何でも良いですが、このNotebookのサンプルプログラムや教科書の値とは違う独自の値を入れましょう\n",
    "# 変数名も独自のものに変えましょう\n",
    "\n",
    "\n",
    "# ここにPythonプログラムを記述してください"
   ]
  },
  {
   "cell_type": "code",
   "execution_count": 8,
   "metadata": {},
   "outputs": [],
   "source": [
    "# 2. 条件付のあるset内包表記を使用して、setを１つ作成してみましょう\n",
    "\n",
    "\n",
    "# ここにPythonプログラムを記述してください"
   ]
  },
  {
   "cell_type": "code",
   "execution_count": null,
   "metadata": {},
   "outputs": [],
   "source": []
  },
  {
   "cell_type": "code",
   "execution_count": null,
   "metadata": {},
   "outputs": [],
   "source": []
  }
 ],
 "metadata": {
  "colab": {
   "authorship_tag": "ABX9TyMOtB7OiTVLb+yu2KoVwjto",
   "include_colab_link": true,
   "provenance": []
  },
  "kernelspec": {
   "display_name": "Python 3 (ipykernel)",
   "language": "python",
   "name": "python3"
  },
  "language_info": {
   "codemirror_mode": {
    "name": "ipython",
    "version": 3
   },
   "file_extension": ".py",
   "mimetype": "text/x-python",
   "name": "python",
   "nbconvert_exporter": "python",
   "pygments_lexer": "ipython3",
   "version": "3.10.13"
  }
 },
 "nbformat": 4,
 "nbformat_minor": 1
}
