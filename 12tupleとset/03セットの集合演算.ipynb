{
 "cells": [
  {
   "cell_type": "markdown",
   "metadata": {
    "colab_type": "text",
    "id": "view-in-github"
   },
   "source": [
    "<a href=\"https://colab.research.google.com/github/YasuharuSuzuki/23_programing1/blob/main/\" target=\"_parent\"><img src=\"https://colab.research.google.com/assets/colab-badge.svg\" alt=\"Open In Colab\"/></a>"
   ]
  },
  {
   "cell_type": "markdown",
   "metadata": {},
   "source": [
    "# Section 8-2 セットの集合演算(教科書P.202)\n",
    "- Pythonのセットには和集合、積集合、差集合など、集合演算を行う機能があります。\n",
    "- とても便利なのでぜひ覚えておきましょう。"
   ]
  },
  {
   "cell_type": "markdown",
   "metadata": {},
   "source": [
    "## セット 参考サイト\n",
    "## [参考サイト1【Python早見表】セット](https://chokkan.github.io/python/10set.html)\n",
    "\n",
    "## [参考サイト2【Python入門】セット](https://utokyo-ipp.github.io/appendix/2-set.html)"
   ]
  },
  {
   "cell_type": "markdown",
   "metadata": {},
   "source": [
    "## サンプルプログラム3　和集合・積集合・差集合\n",
    "- 和集合を求めるには、| 演算子を使用します。\n",
    "- 積集合を求めるには、& 演算子を使用します。\n",
    "- 差集合を求めるには、- 演算子を使用します。"
   ]
  },
  {
   "cell_type": "code",
   "execution_count": 2,
   "metadata": {},
   "outputs": [
    {
     "data": {
      "text/plain": [
       "{'白', '赤'}"
      ]
     },
     "execution_count": 2,
     "metadata": {},
     "output_type": "execute_result"
    }
   ],
   "source": [
    "# setの作成\n",
    "all_color_type = {\"赤\",\"白\",\"黄\"}\n",
    "input_color_type1 = {\"赤\",\"赤\",\"赤\"}\n",
    "input_color_type2 = {\"白\",\"白\",\"白\"}\n",
    "input_color_type3 = {\"赤\",\"白\",\"白\"}\n",
    "\n",
    "# 和集合を求めるには、| 演算子を使用します。\n",
    "union_color_type = input_color_type1 | input_color_type2\n",
    "union_color_type"
   ]
  },
  {
   "cell_type": "markdown",
   "metadata": {},
   "source": [
    "- 全て赤の`input_color_type1`と全て白の`input_color_type2`の和集合を計算して、`白`と`赤`が出力されました。"
   ]
  },
  {
   "cell_type": "code",
   "execution_count": 3,
   "metadata": {},
   "outputs": [
    {
     "data": {
      "text/plain": [
       "{'白', '赤'}"
      ]
     },
     "execution_count": 3,
     "metadata": {},
     "output_type": "execute_result"
    }
   ],
   "source": [
    "# 積集合を求めるには、& 演算子を使用します。\n",
    "intersection_color_type = all_color_type & input_color_type3\n",
    "intersection_color_type"
   ]
  },
  {
   "cell_type": "markdown",
   "metadata": {},
   "source": [
    "- ３色すべてが含まれている `all_color_type`と赤白のみの`input_color_type3`の積集合を計算して、`白`と`赤`が出力されました。"
   ]
  },
  {
   "cell_type": "code",
   "execution_count": 5,
   "metadata": {},
   "outputs": [
    {
     "data": {
      "text/plain": [
       "{'黄'}"
      ]
     },
     "execution_count": 5,
     "metadata": {},
     "output_type": "execute_result"
    }
   ],
   "source": [
    "# 積集合を求めるには、& 演算子を使用します。\n",
    "difference_color_type = all_color_type - input_color_type3\n",
    "difference_color_type"
   ]
  },
  {
   "cell_type": "markdown",
   "metadata": {},
   "source": [
    "- ３色すべてが含まれている `all_color_type`と赤白のみの`input_color_type3`の積集合を計算して、`黄`が出力されました。"
   ]
  },
  {
   "cell_type": "markdown",
   "metadata": {},
   "source": [
    "## 練習プログラム3 (0.8点)\n",
    "- オリジナルのsetを作成してみましょう。\n",
    "- オリジナルのsetを使用して和集合を求めてみましょう。\n",
    "- オリジナルのsetを使用して積集合を求めてみましょう。\n",
    "- オリジナルのsetを使用して差集合を求めてみましょう。"
   ]
  },
  {
   "cell_type": "code",
   "execution_count": 6,
   "metadata": {},
   "outputs": [],
   "source": [
    "# 1. オリジナルのsetを作成してみましょう\n",
    "# 入れる値は何でも良いですが、このNotebookのサンプルプログラムや教科書の値とは違う独自の値を入れましょう\n",
    "# 変数名も独自のものに変えましょう\n",
    "\n",
    "\n",
    "# ここにPythonプログラムを記述してください"
   ]
  },
  {
   "cell_type": "code",
   "execution_count": null,
   "metadata": {},
   "outputs": [],
   "source": [
    "# 2. オリジナルのsetを使用して和集合を求めてみましょう。\n",
    "\n",
    "\n",
    "# ここにPythonプログラムを記述してください"
   ]
  },
  {
   "cell_type": "code",
   "execution_count": null,
   "metadata": {},
   "outputs": [],
   "source": [
    "# 3. オリジナルのsetを使用して積集合を求めてみましょう。\n",
    "\n",
    "\n",
    "# ここにPythonプログラムを記述してください"
   ]
  },
  {
   "cell_type": "code",
   "execution_count": null,
   "metadata": {},
   "outputs": [],
   "source": [
    "# 4. オリジナルのsetを使用して差集合を求めてみましょう。\n",
    "\n",
    "\n",
    "# ここにPythonプログラムを記述してください"
   ]
  },
  {
   "cell_type": "code",
   "execution_count": null,
   "metadata": {},
   "outputs": [],
   "source": []
  },
  {
   "cell_type": "code",
   "execution_count": null,
   "metadata": {},
   "outputs": [],
   "source": []
  }
 ],
 "metadata": {
  "colab": {
   "authorship_tag": "ABX9TyMOtB7OiTVLb+yu2KoVwjto",
   "include_colab_link": true,
   "provenance": []
  },
  "kernelspec": {
   "display_name": "Python 3 (ipykernel)",
   "language": "python",
   "name": "python3"
  },
  "language_info": {
   "codemirror_mode": {
    "name": "ipython",
    "version": 3
   },
   "file_extension": ".py",
   "mimetype": "text/x-python",
   "name": "python",
   "nbconvert_exporter": "python",
   "pygments_lexer": "ipython3",
   "version": "3.10.13"
  }
 },
 "nbformat": 4,
 "nbformat_minor": 1
}
