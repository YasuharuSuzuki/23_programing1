{
 "cells": [
  {
   "cell_type": "markdown",
   "id": "e0f811d1",
   "metadata": {},
   "source": [
    "# 全パターンを出力する"
   ]
  },
  {
   "cell_type": "code",
   "execution_count": 7,
   "id": "b34f8bc4",
   "metadata": {},
   "outputs": [],
   "source": [
    "def output_all(in_file_name, out_file_name):\n",
    "    output_index = 0\n",
    "    colors = \"赤白黄紫\"\n",
    "    all_color = {'赤','白','黄','紫'}\n",
    "    for a in colors:\n",
    "        for b in colors:\n",
    "            for c in colors:\n",
    "                for d in colors:\n",
    "                    input_list = []\n",
    "                    output_list = []\n",
    "                    input_str = f\"{a} {b} {c} {d}\"\n",
    "                    input_list.append(input_str)\n",
    "\n",
    "                    input_set1 = set(input_str.split())\n",
    "                    if len(input_set1) == 1:\n",
    "                        output_list.append(f'全部{input_set1.pop()}！')\n",
    "                    elif len(input_set1) == 4:\n",
    "                        output_list.append('キレイだなぁ〜')\n",
    "                    else:\n",
    "                        output_list.append('{}が欲しいなぁ'.format(\"と\".join(list(all_color - input_set1))))\n",
    "\n",
    "                    # ファイル出力\n",
    "                    output_index+=1\n",
    "                    with open(in_file_name.format(output_index),\"w\") as f_in:\n",
    "                        f_in.writelines(input_list)\n",
    "                    with open(out_file_name.format(output_index),\"w\") as f_out:\n",
    "                        f_out.writelines(output_list)"
   ]
  },
  {
   "cell_type": "code",
   "execution_count": 8,
   "id": "0262501a",
   "metadata": {},
   "outputs": [],
   "source": [
    "output_all(\"data/in{:02}.txt\", \"data/out{:02}.txt\")"
   ]
  },
  {
   "cell_type": "code",
   "execution_count": 6,
   "id": "e62e7ce6",
   "metadata": {},
   "outputs": [
    {
     "data": {
      "text/plain": [
       "{'紫'}"
      ]
     },
     "execution_count": 6,
     "metadata": {},
     "output_type": "execute_result"
    }
   ],
   "source": [
    "all_color = {'赤','白','黄','紫'}\n",
    "input_set1={'白','黄','赤','黄'}\n",
    "\n",
    "all_color - input_set1"
   ]
  },
  {
   "cell_type": "code",
   "execution_count": null,
   "id": "4f8cc94d",
   "metadata": {},
   "outputs": [],
   "source": []
  }
 ],
 "metadata": {
  "kernelspec": {
   "display_name": "Python 3 (ipykernel)",
   "language": "python",
   "name": "python3"
  },
  "language_info": {
   "codemirror_mode": {
    "name": "ipython",
    "version": 3
   },
   "file_extension": ".py",
   "mimetype": "text/x-python",
   "name": "python",
   "nbconvert_exporter": "python",
   "pygments_lexer": "ipython3",
   "version": "3.10.13"
  }
 },
 "nbformat": 4,
 "nbformat_minor": 5
}
