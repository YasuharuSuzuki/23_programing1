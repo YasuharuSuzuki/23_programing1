{
 "cells": [
  {
   "cell_type": "markdown",
   "metadata": {
    "colab_type": "text",
    "id": "view-in-github"
   },
   "source": [
    "<a href=\"https://colab.research.google.com/github/YasuharuSuzuki/23_programing1/blob/main/\" target=\"_parent\"><img src=\"https://colab.research.google.com/assets/colab-badge.svg\" alt=\"Open In Colab\"/></a>"
   ]
  },
  {
   "cell_type": "markdown",
   "metadata": {},
   "source": [
    "# チューリップx4 (1点)\n",
    "- ゆるるくんは、花壇に４本のチューリップの球根を植えました。色は赤、白、黄、紫のいずれかです。\n",
    "- 球根の状態から購入したのですが、またもや何色かを気にせずに購入してしまったため、咲いてみるまで色がわかりません。\n",
    "- 実際に咲いたときの色に応じたゆるるくんの感想を出力してください。\n",
    "- 色の値が漢字で入力されます。入力は $ C_1 \\quad C_2 \\quad C_3 \\quad C_4 $ で与えられます。\n",
    "- 4本とも同じ色の場合は全部同じ色であることを出力してください。\n",
    "  - 例：全部赤の場合は「全部赤！」\n",
    "- すべての色が異なる場合は「キレイだなぁ〜」と出力してください。\n",
    "- 全て同じ色でもなく、かつ全て違う色でもない場合は、購入していない色を出力してください。\n",
    "  - 例：白と黄を購入していない場合は「白と黄が欲しいなぁ〜」\n",
    "- セットを使うと比較的簡単に解けます。セットを使って実装してみて下さい。"
   ]
  },
  {
   "cell_type": "markdown",
   "metadata": {},
   "source": [
    "### 制約\n",
    "$ Ci $は'赤','白','黄','紫'のいずれかからなる文字"
   ]
  },
  {
   "cell_type": "markdown",
   "metadata": {},
   "source": [
    "### 入力\n",
    "入力は以下の形式で標準入力から与えられます\n",
    "\n",
    "---\n",
    "$ C_1 \\quad C_2 \\quad C_3 \\quad C_4 $\n",
    "\n",
    "---\n",
    "\n",
    "チューリップの色 $ C_i $ を受け取ります"
   ]
  },
  {
   "cell_type": "markdown",
   "metadata": {},
   "source": [
    "### 出力\n",
    "\n",
    "全て同じ色のときは「全部$ C_i $！」と出力せよ。  \n",
    "全て違う色のときは「キレイだなぁ〜」と出力せよ。  \n",
    "全て同じ色でもなく、かつ全て違う色でもない場合\n",
    "- 購入していない色が1つの場合($ C_{n} $)は「$ C_{n} $が欲しいなぁ〜」と出力せよ。  \n",
    "- 購入していない色が2つの場合($ C_{n1}, C_{n2} $)は「$ C_{n1} $と$ C_{n2} $が欲しいなぁ〜」と出力せよ。  "
   ]
  },
  {
   "cell_type": "markdown",
   "metadata": {},
   "source": [
    "---"
   ]
  },
  {
   "cell_type": "markdown",
   "metadata": {},
   "source": [
    "### 入力例1\n",
    "```python\n",
    "赤 赤 赤 赤\n",
    "```\n",
    "\n",
    "### 出力例1\n",
    "```python\n",
    "全部赤！\n",
    "```\n",
    "※ 全て同じ色のため「全部赤！」と出力してください。"
   ]
  },
  {
   "cell_type": "markdown",
   "metadata": {},
   "source": [
    "---"
   ]
  },
  {
   "cell_type": "markdown",
   "metadata": {},
   "source": [
    "### 入力例2\n",
    "```python\n",
    "赤 白 黄 紫\n",
    "```\n",
    "\n",
    "### 出力例2\n",
    "```python\n",
    "キレイだなぁ〜\n",
    "```\n",
    "※ 全て違う色のため「キレイだなぁ〜」と出力してください。"
   ]
  },
  {
   "cell_type": "markdown",
   "metadata": {},
   "source": [
    "---"
   ]
  },
  {
   "cell_type": "markdown",
   "metadata": {},
   "source": [
    "### 入力例3\n",
    "```python\n",
    "紫 白 白 赤\n",
    "```\n",
    "\n",
    "### 出力例3\n",
    "```python\n",
    "黄が欲しいなぁ〜\n",
    "```\n",
    "※ 全て同じ色でもなく、かつ全て違う色でもないため、未購入の色（黄）を用いて「黄が欲しいなぁ〜」と出力してください。"
   ]
  },
  {
   "cell_type": "markdown",
   "metadata": {},
   "source": [
    "---"
   ]
  },
  {
   "cell_type": "markdown",
   "metadata": {},
   "source": [
    "### 入力例3\n",
    "```python\n",
    "赤 白 白 赤\n",
    "```\n",
    "\n",
    "### 出力例3\n",
    "```python\n",
    "黄と紫が欲しいなぁ〜\n",
    "```\n",
    "※ 全て同じ色でもなく、かつ全て違う色でもないため、未購入の色（黄、紫）を用いて「黄と紫が欲しいなぁ〜」と出力してください。"
   ]
  },
  {
   "cell_type": "markdown",
   "metadata": {},
   "source": [
    "### ここ↓にPythonコードを記述してください"
   ]
  },
  {
   "cell_type": "code",
   "execution_count": 1,
   "metadata": {},
   "outputs": [
    {
     "name": "stdout",
     "output_type": "stream",
     "text": [
      "赤 白 白 赤\n",
      "黃と紫が欲しいなぁ\n"
     ]
    }
   ],
   "source": [
    "all_color = {'赤','白','黃','紫'}\n",
    "input_set1 = set(input().split())\n",
    "if len(input_set1) == 1:\n",
    "    print(f'全部{input_set1.pop()}！')\n",
    "elif len(input_set1) == 4:\n",
    "    print('キレイだなぁ〜')\n",
    "else:\n",
    "    print('{}が欲しいなぁ'.format(\"と\".join(list(all_color - input_set1))))"
   ]
  },
  {
   "cell_type": "code",
   "execution_count": null,
   "metadata": {},
   "outputs": [],
   "source": []
  }
 ],
 "metadata": {
  "colab": {
   "authorship_tag": "ABX9TyMOtB7OiTVLb+yu2KoVwjto",
   "include_colab_link": true,
   "provenance": []
  },
  "kernelspec": {
   "display_name": "Python 3 (ipykernel)",
   "language": "python",
   "name": "python3"
  },
  "language_info": {
   "codemirror_mode": {
    "name": "ipython",
    "version": 3
   },
   "file_extension": ".py",
   "mimetype": "text/x-python",
   "name": "python",
   "nbconvert_exporter": "python",
   "pygments_lexer": "ipython3",
   "version": "3.10.13"
  }
 },
 "nbformat": 4,
 "nbformat_minor": 1
}
