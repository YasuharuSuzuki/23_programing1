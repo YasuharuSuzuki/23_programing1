{
 "cells": [
  {
   "cell_type": "markdown",
   "metadata": {
    "colab_type": "text",
    "id": "view-in-github"
   },
   "source": [
    "<a href=\"https://colab.research.google.com/github/YasuharuSuzuki/23_programing1/blob/main/\" target=\"_parent\"><img src=\"https://colab.research.google.com/assets/colab-badge.svg\" alt=\"Open In Colab\"/></a>"
   ]
  },
  {
   "cell_type": "markdown",
   "metadata": {},
   "source": [
    "### 問題5\n",
    "# 秀・良・不可 (1点)\n",
    "- ゆるるくんは”プログラミングX”の科目を受けています。\n",
    "- この科目では、課題の平均点数を $ E $ 、期末試験の点数$ F $ とすると、$ E*5 + F/2 $が成績の点数$ R $となります。\n",
    "- 成績の点数$ R $ ごとの成績は、90点以上の場合は\"秀\"、60点以上の場合は\"良\"、60点未満の場合は”不可”となります。\n",
    "- ゆるるくんの成績を文字列で出力してください。"
   ]
  },
  {
   "cell_type": "markdown",
   "metadata": {},
   "source": [
    "### 制約\n",
    "\n",
    "$\n",
    "0 \\leqq E \\leqq 10 \\qquad ※Eは浮動小数点数。有効桁数は小数点第２位までです \\\\\n",
    "0 \\leqq F \\leqq 100 \\qquad ※Fは整数 \\\\\n",
    "0 \\leqq R \\leqq 100 \\qquad ※Rは整数 \n",
    "$"
   ]
  },
  {
   "cell_type": "markdown",
   "metadata": {},
   "source": [
    "### 入力\n",
    "入力は以下の形式で標準入力から与えられます\n",
    "\n",
    "---\n",
    "$ E \\quad F $\n",
    "\n",
    "---\n",
    "\n",
    "※空白区切りです"
   ]
  },
  {
   "cell_type": "markdown",
   "metadata": {},
   "source": [
    "### 出力\n",
    "ゆるるくんの成績を”秀”、”優”、”良”、”不可”のいずれかで出力してください。"
   ]
  },
  {
   "cell_type": "markdown",
   "metadata": {},
   "source": [
    "----\n",
    "----\n",
    "\n",
    "### 入力例1\n",
    "```python\n",
    "8.68  55\n",
    "```\n",
    "\n",
    "\n",
    "### 出力例1\n",
    "```python\n",
    "良\n",
    "```\n",
    "- 8.68*5 + 55/2 を計算すると 70.9 となるため、”良”と出力します。"
   ]
  },
  {
   "cell_type": "markdown",
   "metadata": {},
   "source": [
    "----\n",
    "----\n",
    "\n",
    "### 入力例2\n",
    "```python\n",
    "9.88  85\n",
    "```\n",
    "\n",
    "\n",
    "### 出力例2\n",
    "```python\n",
    "秀\n",
    "```\n",
    "- 9.88*5 + 85/2 を計算すると 91.9 となるため、”秀”と出力します。"
   ]
  },
  {
   "cell_type": "markdown",
   "metadata": {},
   "source": [
    "----\n",
    "----\n",
    "\n",
    "### 入力例3\n",
    "```python\n",
    "5.32  62\n",
    "```\n",
    "\n",
    "\n",
    "### 出力例3\n",
    "```python\n",
    "不可\n",
    "```\n",
    "- 5.32*5 + 62/2 を計算すると 57.6 となるため、”不可”と出力します。"
   ]
  },
  {
   "cell_type": "markdown",
   "metadata": {},
   "source": [
    "----\n",
    "----\n",
    "\n",
    "### 入力例4\n",
    "```python\n",
    "9.45 75\n",
    "```\n",
    "\n",
    "\n",
    "### 出力例4\n",
    "```python\n",
    "良\n",
    "```\n",
    "- 9.45*5 + 75/2 を計算すると 84.75 となるため、”良”と出力します。"
   ]
  },
  {
   "cell_type": "markdown",
   "metadata": {},
   "source": [
    "----\n",
    "----\n",
    "### ここ↓にPythonコードを記述してください"
   ]
  },
  {
   "cell_type": "code",
   "execution_count": 1,
   "metadata": {
    "scrolled": true
   },
   "outputs": [
    {
     "name": "stdout",
     "output_type": "stream",
     "text": [
      "9.45 75\n",
      "良\n"
     ]
    }
   ],
   "source": [
    "E, F = map(float,input().split())\n",
    "R = E*5 + F/2\n",
    "# print(R)\n",
    "if R >= 90:\n",
    "    print(\"秀\")\n",
    "elif R >= 60:\n",
    "    print(\"良\")\n",
    "else:\n",
    "    print(\"不可\")"
   ]
  },
  {
   "cell_type": "markdown",
   "metadata": {},
   "source": [
    "----\n",
    "----\n",
    "----\n",
    "----\n",
    "----\n",
    "----\n",
    "----\n",
    "----"
   ]
  },
  {
   "cell_type": "markdown",
   "metadata": {},
   "source": [
    "### 問題6\n",
    "# うるう年 (1点)\n",
    "- うるう年は通常4年に一度訪れますが、100年に1度うるう年にならない年があり400年に1度うるう年になる年があります。\n",
    "- 西暦が $ Y $ で与えられた時、その年がうるう年かどうかを判定するプログラムを作成してください。\n",
    "- ただし西暦は1582年〜9999年で与えられることにします。\n",
    "- 補足：うるう年に関して\n",
    "   - 別の表現を用いると、平年では1年=365日ですが、400年間に（100回ではなく）97回の閏年を置いてその年を366日とすることにより、400年間における1年の平均日数を 365日 + (97/400)日 = 365.2425日としています。\n",
    "   - この平均日数365.2425日は、実際に観測で求められる平均太陽年の365.242189572日（2013年年央値）に比べて約26.821秒長いだけであり、100万年で1日しかずれない非常に精度の高い暦とするために用いられています。\n",
    "   - 西暦を400で割って余りが０の年はうるう年、西暦を100で割って余りが０の年はうるう年ではない、西暦を4で割って余りが０の年はうるう年、となります。"
   ]
  },
  {
   "cell_type": "markdown",
   "metadata": {},
   "source": [
    "### 制約\n",
    "\n",
    "$\n",
    "1582 \\leqq Y \\leqq 9999 \\qquad ※Yは整数 \n",
    "$"
   ]
  },
  {
   "cell_type": "markdown",
   "metadata": {},
   "source": [
    "### 入力\n",
    "入力は以下の形式で標準入力から与えられます\n",
    "\n",
    "---\n",
    "$ Y $\n",
    "\n",
    "---\n"
   ]
  },
  {
   "cell_type": "markdown",
   "metadata": {},
   "source": [
    "### 出力\n",
    "入力された西暦がうるう年の場合は `Yes` を、そうでない場合は `No` を出力せよ。"
   ]
  },
  {
   "cell_type": "markdown",
   "metadata": {},
   "source": [
    "----\n",
    "----\n",
    "\n",
    "### 入力例1\n",
    "```python\n",
    "1584\n",
    "```\n",
    "\n",
    "\n",
    "### 出力例1\n",
    "```python\n",
    "Yes\n",
    "```\n",
    "- ※西暦1584年は4で割り切れる数字のためうるう年となります。"
   ]
  },
  {
   "cell_type": "markdown",
   "metadata": {},
   "source": [
    "----\n",
    "----\n",
    "\n",
    "### 入力例2\n",
    "```python\n",
    "1900\n",
    "```\n",
    "\n",
    "\n",
    "### 出力例2\n",
    "```python\n",
    "No\n",
    "```\n",
    "- 西暦1900年は4で割り切れる数字ですが、100で割り切れる数字であるためうるう年ではありません。"
   ]
  },
  {
   "cell_type": "markdown",
   "metadata": {},
   "source": [
    "----\n",
    "----\n",
    "\n",
    "### 入力例3\n",
    "```python\n",
    "2000\n",
    "```\n",
    "\n",
    "\n",
    "### 出力例3\n",
    "```python\n",
    "No\n",
    "```\n",
    "- 西暦2000年は100で割り切れる数字ですが、400で割り切れる数字のためうるう年となります。"
   ]
  },
  {
   "cell_type": "markdown",
   "metadata": {},
   "source": [
    "----\n",
    "----\n",
    "\n",
    "### 入力例4\n",
    "```python\n",
    "2024\n",
    "```\n",
    "\n",
    "\n",
    "### 出力例4\n",
    "```python\n",
    "Yes\n",
    "```\n",
    "- 西暦2024年はうるう年となります。"
   ]
  },
  {
   "cell_type": "markdown",
   "metadata": {},
   "source": [
    "----\n",
    "----\n",
    "### ここ↓にPythonコードを記述してください"
   ]
  },
  {
   "cell_type": "code",
   "execution_count": 8,
   "metadata": {},
   "outputs": [
    {
     "name": "stdout",
     "output_type": "stream",
     "text": [
      "1900\n",
      "No\n"
     ]
    }
   ],
   "source": [
    "Y = int(input())\n",
    "if Y%400 == 0:\n",
    "    print('Yes')\n",
    "elif Y%100 == 0:\n",
    "    print('No')\n",
    "elif Y%4 == 0:\n",
    "    print('Yes')\n",
    "else:\n",
    "    print('No')"
   ]
  },
  {
   "cell_type": "markdown",
   "metadata": {},
   "source": [
    "----\n",
    "----\n",
    "----\n",
    "----\n",
    "----\n",
    "----\n",
    "----\n",
    "----"
   ]
  },
  {
   "cell_type": "markdown",
   "metadata": {},
   "source": [
    "### 問題7\n",
    "# こしあんルーレット (1点)\n",
    "- ゆるるくんは文化祭の出し物で「こしあんルーレット」を出すことにしました。\n",
    "- 見た目は普通のおまんじゅうが５つ出されますが、１つだけわさび入りのおまんじゅうが混ざっています。\n",
    "<br>  \n",
    "<br>  \n",
    "- おまんじゅうの組み合わせは文字列Sで与えられ、'K'はこしあん、'W'はわさびが入っていることとします。\n",
    "- チャレンジする人が選んだおまんじゅうの位置がPで与えられ、右からP番目のおまんじゅうを食べることとします。\n",
    "<br>  \n",
    "<br>  \n",
    "- 食べたおまんじゅうがこしあんだった場合は\"あま〜い！\"、わさびの場合は\"わさび！\"と出力するプログラムを作成してください。"
   ]
  },
  {
   "cell_type": "markdown",
   "metadata": {},
   "source": [
    "### 制約\n",
    "$ 1 \\leq　P \\leq　5 $   <br>\n",
    "$ P $ は整数 <br>\n",
    "文字列Sは\"K\"か\"W\"いずれかからなる文字列長5の文字列"
   ]
  },
  {
   "cell_type": "markdown",
   "metadata": {},
   "source": [
    "### 入力\n",
    "入力は以下の形式で標準入力から与えられます\n",
    "\n",
    "---\n",
    "$ P $  <br>\n",
    "$ S $\n",
    "\n",
    "---\n",
    "\n",
    "おまんじゅうの位置をPで、組み合わせをSで受け取ります"
   ]
  },
  {
   "cell_type": "markdown",
   "metadata": {},
   "source": [
    "### 出力\n",
    "\n",
    "\"あま〜い！\" または \"わさび！\" のいずれかを出力せよ。"
   ]
  },
  {
   "cell_type": "markdown",
   "metadata": {},
   "source": [
    "----\n",
    "----\n",
    "\n",
    "### 入力例1\n",
    "```python\n",
    "2\n",
    "KKKWK\n",
    "```\n",
    "\n",
    "### 出力例1\n",
    "```python\n",
    "わさび！\n",
    "```\n",
    "- 右から2番めのおまんじゅうはわさびのため、\"わさび！\"と出力します。"
   ]
  },
  {
   "cell_type": "markdown",
   "metadata": {},
   "source": [
    "----\n",
    "----\n",
    "\n",
    "### 入力例2\n",
    "```python\n",
    "4\n",
    "KKKKW\n",
    "```\n",
    "\n",
    "### 出力例2\n",
    "```python\n",
    "あま〜い！\n",
    "```\n",
    "- 右から4番めのおまんじゅうはこしあんのため、\"あま〜い！\"と出力します。"
   ]
  },
  {
   "cell_type": "markdown",
   "metadata": {},
   "source": [
    "----\n",
    "----\n",
    "### ここ↓にPythonコードを記述してください"
   ]
  },
  {
   "cell_type": "code",
   "execution_count": 11,
   "metadata": {},
   "outputs": [
    {
     "name": "stdout",
     "output_type": "stream",
     "text": [
      "2\n",
      "KKKWK\n",
      "わさび！\n"
     ]
    }
   ],
   "source": [
    "p = int(input())\n",
    "s = input()\n",
    "print('わさび！' if s[-p] == 'W' else 'あま〜い！')"
   ]
  },
  {
   "cell_type": "markdown",
   "metadata": {},
   "source": [
    "----\n",
    "----\n",
    "----\n",
    "----\n",
    "----\n",
    "----\n",
    "----\n",
    "----"
   ]
  },
  {
   "cell_type": "markdown",
   "metadata": {},
   "source": [
    "### 問題8\n",
    "# 月ごとの日数Neo (1点)"
   ]
  },
  {
   "cell_type": "markdown",
   "metadata": {},
   "source": [
    "- 2023年の各月の日数は、以下の通りになっています\n",
    "  - 31日の月＝1月、3月、5月、7月、8月、10月、12月\n",
    "  - 30日の月＝4月、6月、9月、11月\n",
    "  - 28日の月＝2月\n",
    "\n",
    "- うるう年を考慮すると2024年の2月の日数は29日になります。\n",
    "  - うるう年は通常4年に一度訪れます。（４で割って余りがゼロの年）\n",
    "  - 100年に1度うるう年にならない年があります。\n",
    "  - 400年に1度うるう年になる年があります。\n",
    "\n",
    "- うるう年も考慮した、各月の日数を出力するプログラムを作成してください"
   ]
  },
  {
   "cell_type": "markdown",
   "metadata": {},
   "source": [
    "### 制約\n",
    "\n",
    "$\n",
    "1582 \\leqq Y \\leqq 9999 \\qquad ※Yは整数   \\\\\n",
    "1 \\leqq M \\leqq 12 \\qquad ※Mは整数 \n",
    "$"
   ]
  },
  {
   "cell_type": "markdown",
   "metadata": {},
   "source": [
    "### 入力\n",
    "入力は以下の形式で標準入力から与えられます\n",
    "\n",
    "---\n",
    "$ Y \\quad M $\n",
    "\n",
    "---\n"
   ]
  },
  {
   "cell_type": "markdown",
   "metadata": {},
   "source": [
    "### 出力\n",
    "\n",
    "---\n",
    "日数\n",
    "\n",
    "---\n",
    "日数を出力してください。"
   ]
  },
  {
   "cell_type": "markdown",
   "metadata": {},
   "source": [
    "----\n",
    "----\n",
    "\n",
    "### 入力例1\n",
    "```python\n",
    "2023   12\n",
    "```\n",
    "\n",
    "\n",
    "### 出力例1\n",
    "```python\n",
    "31\n",
    "```\n",
    "- 12月は31日あるため`\"31\"`と出力します。"
   ]
  },
  {
   "cell_type": "markdown",
   "metadata": {},
   "source": [
    "----\n",
    "----\n",
    "\n",
    "### 入力例2\n",
    "```python\n",
    "2024   4\n",
    "```\n",
    "\n",
    "\n",
    "### 出力例2\n",
    "```python\n",
    "30\n",
    "```\n",
    "- 4月は30日あるため`\"30\"`と出力します。"
   ]
  },
  {
   "cell_type": "markdown",
   "metadata": {},
   "source": [
    "----\n",
    "----\n",
    "\n",
    "### 入力例3\n",
    "```python\n",
    "2024   2\n",
    "```\n",
    "\n",
    "\n",
    "### 出力例3\n",
    "```python\n",
    "29\n",
    "```\n",
    "- 2024年は4年に1度のうるう年のため`\"29\"`と出力します。"
   ]
  },
  {
   "cell_type": "markdown",
   "metadata": {},
   "source": [
    "----\n",
    "----\n",
    "\n",
    "### 入力例4\n",
    "```python\n",
    "1900   2\n",
    "```\n",
    "\n",
    "\n",
    "### 出力例4\n",
    "```python\n",
    "28\n",
    "```\n",
    "- 1900年は4で割り切れますが100年に1度のうるう年ではない年のため`\"28\"`と出力します。"
   ]
  },
  {
   "cell_type": "markdown",
   "metadata": {},
   "source": [
    "----\n",
    "----\n",
    "\n",
    "### 入力例5\n",
    "```python\n",
    "2000   2\n",
    "```\n",
    "\n",
    "\n",
    "### 出力例5\n",
    "```python\n",
    "29\n",
    "```\n",
    "- 2000年は100で割り切れますが、400年に1度のうるう年のため`\"29\"`と出力します。"
   ]
  },
  {
   "cell_type": "markdown",
   "metadata": {},
   "source": [
    "----\n",
    "----\n",
    "\n",
    "### ここ↓にPythonコードを記述してください"
   ]
  },
  {
   "cell_type": "code",
   "execution_count": 13,
   "metadata": {},
   "outputs": [
    {
     "name": "stdout",
     "output_type": "stream",
     "text": [
      "1900 2\n",
      "28\n"
     ]
    }
   ],
   "source": [
    "Y, M = map(int,input().split())\n",
    "if M==2:\n",
    "    if Y%400 == 0:\n",
    "        print(29)\n",
    "    elif Y%100 == 0:\n",
    "        print(28)\n",
    "    elif Y%4 == 0:\n",
    "        print(29)\n",
    "    else:\n",
    "        print(28)\n",
    "elif M in [4,6,9,11]:\n",
    "    print(30)\n",
    "else:\n",
    "    print(31)"
   ]
  },
  {
   "cell_type": "markdown",
   "metadata": {},
   "source": [
    "----\n",
    "----\n",
    "----\n",
    "----\n",
    "----\n",
    "----\n",
    "----\n",
    "----"
   ]
  },
  {
   "cell_type": "code",
   "execution_count": null,
   "metadata": {},
   "outputs": [],
   "source": []
  }
 ],
 "metadata": {
  "colab": {
   "authorship_tag": "ABX9TyMOtB7OiTVLb+yu2KoVwjto",
   "include_colab_link": true,
   "provenance": []
  },
  "kernelspec": {
   "display_name": "Python 3 (ipykernel)",
   "language": "python",
   "name": "python3"
  },
  "language_info": {
   "codemirror_mode": {
    "name": "ipython",
    "version": 3
   },
   "file_extension": ".py",
   "mimetype": "text/x-python",
   "name": "python",
   "nbconvert_exporter": "python",
   "pygments_lexer": "ipython3",
   "version": "3.10.13"
  }
 },
 "nbformat": 4,
 "nbformat_minor": 1
}
