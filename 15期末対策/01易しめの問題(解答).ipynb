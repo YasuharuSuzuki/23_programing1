{
 "cells": [
  {
   "cell_type": "markdown",
   "metadata": {
    "colab_type": "text",
    "id": "view-in-github"
   },
   "source": [
    "<a href=\"https://colab.research.google.com/github/YasuharuSuzuki/23_programing1/blob/main/\" target=\"_parent\"><img src=\"https://colab.research.google.com/assets/colab-badge.svg\" alt=\"Open In Colab\"/></a>"
   ]
  },
  {
   "cell_type": "markdown",
   "metadata": {},
   "source": [
    "### 問題1\n",
    "# ハローワールド！ (0.5点)\n",
    "- ゆるるくんはプログラミング初心者です。\n",
    "- プログラミング初心者は\"Hello World!\"から始めると、エラい人に聞きました。\n",
    "- ゆるるくんは、いつも Hello World! だと飽きるため、\"はるぉ〜わぁるど！\"と全角ひらがな混じりの文字列で出力することに決めました。\n",
    "- \"はるぉ〜わぁるど！\" と出力するプログラムを作成してください。"
   ]
  },
  {
   "cell_type": "markdown",
   "metadata": {},
   "source": [
    "### 入力\n",
    "なし"
   ]
  },
  {
   "cell_type": "markdown",
   "metadata": {},
   "source": [
    "### 出力\n",
    "\n",
    "---\n",
    "\n",
    "ハローワールド！\n",
    "\n",
    "---"
   ]
  },
  {
   "cell_type": "markdown",
   "metadata": {},
   "source": [
    "### ここ↓にPythonコードを記述してください"
   ]
  },
  {
   "cell_type": "code",
   "execution_count": 1,
   "metadata": {},
   "outputs": [
    {
     "name": "stdout",
     "output_type": "stream",
     "text": [
      "ハローワールド！\n"
     ]
    }
   ],
   "source": [
    "print(\"ハローワールド！\")"
   ]
  },
  {
   "cell_type": "markdown",
   "metadata": {},
   "source": [
    "----\n",
    "----\n",
    "----\n",
    "----\n",
    "----\n",
    "----\n",
    "----\n",
    "----"
   ]
  },
  {
   "cell_type": "markdown",
   "metadata": {},
   "source": [
    "### 問題2\n",
    "# 3をかけてください (0.5点)"
   ]
  },
  {
   "cell_type": "markdown",
   "metadata": {},
   "source": [
    "- 数値 N が与えられます。\n",
    "- 3倍した数 4*N を出力して下さい。"
   ]
  },
  {
   "cell_type": "markdown",
   "metadata": {},
   "source": [
    "### 制約\n",
    "$\n",
    "1 \\leq N \\leq 10^{10} (Nは整数) \\\\\n",
    "$"
   ]
  },
  {
   "cell_type": "markdown",
   "metadata": {},
   "source": [
    "### 入力\n",
    "入力は以下の形式で標準入力から与えられます\n",
    "\n",
    "---\n",
    "$\n",
    "N  \\\\\n",
    "$\n",
    "\n",
    "---"
   ]
  },
  {
   "cell_type": "markdown",
   "metadata": {},
   "source": [
    "### 出力\n",
    "\n",
    "---\n",
    "3倍した数\n",
    "\n",
    "---\n",
    "3倍した数を出力して下さい。"
   ]
  },
  {
   "cell_type": "markdown",
   "metadata": {},
   "source": [
    "----\n",
    "----\n",
    "\n",
    "### 入力例1\n",
    "```python\n",
    "123456789\n",
    "```\n",
    "\n",
    "### 出力例1\n",
    "```python\n",
    "370370367\n",
    "```\n",
    "※ 123456789の3倍の数として 370370367 を出力します"
   ]
  },
  {
   "cell_type": "markdown",
   "metadata": {},
   "source": [
    "----\n",
    "----\n",
    "\n",
    "### 入力例2\n",
    "```python\n",
    "5\n",
    "```\n",
    "\n",
    "### 出力例2\n",
    "```python\n",
    "15\n",
    "```\n",
    "※ 5の3倍の数は15ですので、 15 を出力します"
   ]
  },
  {
   "cell_type": "markdown",
   "metadata": {},
   "source": [
    "----\n",
    "----\n",
    "\n",
    "### 入力例3\n",
    "```python\n",
    "99999999\n",
    "```\n",
    "\n",
    "### 出力例3\n",
    "```python\n",
    "299999997\n",
    "```\n",
    "※ 99999999 の4倍の数は 299999997 のため、 299999997 を出力してください。"
   ]
  },
  {
   "cell_type": "markdown",
   "metadata": {},
   "source": [
    "----\n",
    "----\n",
    "### ここ↓にPythonコードを記述してください"
   ]
  },
  {
   "cell_type": "code",
   "execution_count": 3,
   "metadata": {},
   "outputs": [
    {
     "name": "stdout",
     "output_type": "stream",
     "text": [
      "99999999\n",
      "299999997\n"
     ]
    }
   ],
   "source": [
    "print(3*int(input()))"
   ]
  },
  {
   "cell_type": "markdown",
   "metadata": {},
   "source": [
    "----\n",
    "----\n",
    "----\n",
    "----\n",
    "----\n",
    "----\n",
    "----\n",
    "----"
   ]
  },
  {
   "cell_type": "markdown",
   "metadata": {},
   "source": [
    "### 問題3\n",
    "# たてｘよこ (0.5点)"
   ]
  },
  {
   "cell_type": "markdown",
   "metadata": {},
   "source": [
    "- ゆるるくんは小学生向けの問題を作成しています。\n",
    "- 長方形の面積を自動的に求めるプログラムを作成し、小学生に見せたいと思っています。\n",
    "- 長方形の面積はたてｘよこで求まります。\n",
    "- たての値を$Y$cm、よこの値を$X$cm、求まった面積を$R$cm^2とした 以下の２行の文字列で表示するプログラムを作成してください。\n",
    "  - $Y$ × $X$ = $R$\n",
    "  - 答えは $R$ cm^2 です"
   ]
  },
  {
   "cell_type": "markdown",
   "metadata": {},
   "source": [
    "### 制約\n",
    "$\n",
    "1 <= Y <= 9 (Yは整数) \\\\\n",
    "1 <= X <= 9 (Xは整数) \\\\\n",
    "Rは正の整数 \\\\\n",
    "$"
   ]
  },
  {
   "cell_type": "markdown",
   "metadata": {},
   "source": [
    "### 入力\n",
    "入力は以下の形式で標準入力から与えられます\n",
    "\n",
    "---\n",
    "$ Y \\quad X $\n",
    "\n",
    "---\n",
    "たて $ Y $、よこ $ X $ を空白区切りで受け取ります"
   ]
  },
  {
   "cell_type": "markdown",
   "metadata": {},
   "source": [
    "### 出力\n",
    "\n",
    "---\n",
    "$Y$ × $X$ = $R$   \n",
    "こたえは $R$ cm^2 です\n",
    "\n",
    "---\n",
    "式と答えの２行の文章に分けて出力してください。"
   ]
  },
  {
   "cell_type": "markdown",
   "metadata": {},
   "source": [
    "----\n",
    "----\n",
    "\n",
    "### 入力例1\n",
    "```python\n",
    "3  9\n",
    "```\n",
    "\n",
    "\n",
    "### 出力例1\n",
    "```python\n",
    "3 × 9 = 27   \n",
    "答えは 27 cm^2 です\n",
    "```\n",
    "- 式「3 × 9 = 27」と、答え「答えは 27 cm^2 です」の２行の文章に分けて出力します。"
   ]
  },
  {
   "cell_type": "markdown",
   "metadata": {},
   "source": [
    "----\n",
    "----\n",
    "\n",
    "### 入力例2\n",
    "```python\n",
    "9  5\n",
    "```\n",
    "\n",
    "\n",
    "### 出力例1\n",
    "```python\n",
    "9 × 5 = 45   \n",
    "答えは 45 cm^2 です\n",
    "```\n",
    "- 式「9 × 5 = 45」と、答え「答えは 45 cm^2 です」の２行の文章に分けて出力します。"
   ]
  },
  {
   "cell_type": "markdown",
   "metadata": {},
   "source": [
    "### ここ↓にPythonコードを記述してください"
   ]
  },
  {
   "cell_type": "code",
   "execution_count": 5,
   "metadata": {},
   "outputs": [
    {
     "name": "stdout",
     "output_type": "stream",
     "text": [
      "9 5\n",
      "9 × 5 = 45\n",
      "答えは45cm^2です\n"
     ]
    }
   ],
   "source": [
    "Y, X = map(int,input().split())\n",
    "R = Y * X\n",
    "\n",
    "print(f\"{Y} × {X} = {R}\")\n",
    "print(f\"答えは{R}cm^2です\")"
   ]
  },
  {
   "cell_type": "markdown",
   "metadata": {},
   "source": [
    "----\n",
    "----\n",
    "----\n",
    "----\n",
    "----\n",
    "----\n",
    "----\n",
    "----"
   ]
  },
  {
   "cell_type": "markdown",
   "metadata": {},
   "source": [
    "### 問題4\n",
    "# 駄菓子屋 (0.5点)\n",
    "- ゆるるくんは駄菓子屋へ行きました。\n",
    "- 雑多に置かれた駄菓子を $ N $ 個掴みましたが、そのうちの $ S $ 番目〜 $ E $ 番目までを買うことにしました。\n",
    "- 各駄菓子の値段が $ D_1 $ 〜 $ D_N $ で表される時、合計金額はいくらになりますか？"
   ]
  },
  {
   "cell_type": "markdown",
   "metadata": {},
   "source": [
    "### 制約\n",
    "$ 1 \\leq　N \\leq　10 $   \n",
    "$ 1 \\leq　S \\leq　N $   \n",
    "$ S \\leq　E \\leq　N $   \n",
    "$ 5 \\leq　D_i \\leq　100 $   \n",
    "$ N $、$ S $、$ E $ 、$ D_i $ はそれぞれ整数"
   ]
  },
  {
   "cell_type": "markdown",
   "metadata": {},
   "source": [
    "### 入力\n",
    "入力は以下の形式で標準入力から与えられます\n",
    "\n",
    "---\n",
    "$\n",
    "N \\quad S \\quad E \\\\\n",
    "D_1 \\quad D_2 \\quad ... \\quad D_N \\\\\n",
    "$\n",
    "\n",
    "---\n",
    "\n",
    "- 掴んだ駄菓子の個数$ N $、買うことにした範囲（ $ S $、 $ E $）、各駄菓子の値段 $ D_1 $ 〜 $ D_N $ を受け取ります。\n",
    "- 2行の文字列ですのでinput()2回で受け取りましょう"
   ]
  },
  {
   "cell_type": "markdown",
   "metadata": {},
   "source": [
    "### 出力\n",
    "\n",
    "---\n",
    "合計金額\n",
    "\n",
    "---\n",
    "\n",
    "合計金額を数値で出力してください。"
   ]
  },
  {
   "cell_type": "markdown",
   "metadata": {},
   "source": [
    "### 入力例1\n",
    "```python\n",
    "10 1 5\n",
    "5 10 15 20 25 30 35 40 45 50\n",
    "```\n",
    "\n",
    "### 出力例1\n",
    "```python\n",
    "75\n",
    "```\n",
    "※ 掴んだ駄菓子の合計金額を出力してください。  \n",
    "※上記の例では、$D_1$ 〜 $D_5$ がそれぞれ5,10,15,20,25のため、合計金額は75となります"
   ]
  },
  {
   "cell_type": "markdown",
   "metadata": {},
   "source": [
    "----\n",
    "----\n",
    "\n",
    "### 入力例2\n",
    "```python\n",
    "5 4 5\n",
    "60 70 80 90 100\n",
    "```\n",
    "\n",
    "### 出力例2\n",
    "```python\n",
    "190\n",
    "```\n",
    "※ 掴んだ駄菓子の合計金額を出力してください。  \n",
    "※上記の例では、$D_4$、$D_5$ がそれぞれ 90, 100 のため、合計金額は 190 となります"
   ]
  },
  {
   "cell_type": "markdown",
   "metadata": {},
   "source": [
    "---- \n",
    "----\n",
    "### ここ↓にPythonコードを記述してください"
   ]
  },
  {
   "cell_type": "code",
   "execution_count": 6,
   "metadata": {},
   "outputs": [
    {
     "name": "stdout",
     "output_type": "stream",
     "text": [
      "10 1 5\n",
      "5 10 15 20 25 30 35 40 45 50\n",
      "75\n"
     ]
    }
   ],
   "source": [
    "N, S, E = map(int,input().split())\n",
    "D = list(map(int,input().split()))\n",
    "print(sum(D[S-1:E]))"
   ]
  },
  {
   "cell_type": "markdown",
   "metadata": {},
   "source": [
    "----\n",
    "----\n",
    "----\n",
    "----\n",
    "----\n",
    "----\n",
    "----\n",
    "----"
   ]
  }
 ],
 "metadata": {
  "colab": {
   "authorship_tag": "ABX9TyMOtB7OiTVLb+yu2KoVwjto",
   "include_colab_link": true,
   "provenance": []
  },
  "kernelspec": {
   "display_name": "Python 3 (ipykernel)",
   "language": "python",
   "name": "python3"
  },
  "language_info": {
   "codemirror_mode": {
    "name": "ipython",
    "version": 3
   },
   "file_extension": ".py",
   "mimetype": "text/x-python",
   "name": "python",
   "nbconvert_exporter": "python",
   "pygments_lexer": "ipython3",
   "version": "3.10.13"
  }
 },
 "nbformat": 4,
 "nbformat_minor": 1
}
