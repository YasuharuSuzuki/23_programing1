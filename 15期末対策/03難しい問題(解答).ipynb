{
 "cells": [
  {
   "cell_type": "markdown",
   "metadata": {
    "colab_type": "text",
    "id": "view-in-github"
   },
   "source": [
    "<a href=\"https://colab.research.google.com/github/YasuharuSuzuki/23_programing1/blob/main/\" target=\"_parent\"><img src=\"https://colab.research.google.com/assets/colab-badge.svg\" alt=\"Open In Colab\"/></a>"
   ]
  },
  {
   "cell_type": "markdown",
   "metadata": {},
   "source": [
    "### 問題9\n",
    "# ハロワくんのRT (2点)\n",
    "- @yasubeitwi では、時々課題に関するつぶやきを行っています\n",
    "- ハローワールドについてつぶやいたところ、ハロワくん(@helloworld193)がRTを行いました。\n",
    "- @yasubeitwi がつぶやいた文字列がHello Worldであるかどうかを判定し、真の時には @yasubeitwi がつぶやいた文字列をそのまま出力してください。偽の時には\"No\"と出力してください。\n",
    "\n",
    "## 文字列の表記ゆれについて\n",
    "- Hello Worldの文字列には表記ゆれがあります。\n",
    "  - \"Hello World!\" → ハロワくんはRTします。\n",
    "  - \"hello world\" → ハロワくんはRTします。文字列が小文字の場合も、後ろのビックリマークがない場合もRTします。\n",
    "  - \"helo world\" → ハロワくんはRTしません。誤字についてはRTしないこととします。\n",
    "  - \"ハローワールド！\" → ハロワくんはRTします。全角カタカナ表記の場合もRTします。ただし、半角カタカナ表記は除外します。\n",
    "  - \"ハローWorld\" → ハロワくんはRTします。全角カタカナ表記、および英字表記が混在している場合もRTします。\n",
    "- 制約として、以下のケースについては考慮不要です\n",
    "  - \"ハローハロー、World！\" → HelloやWorldの文字が複数入っているケースは存在しないこととします。\n",
    "  - \"World Hello!\" → Hello や Worldの順番が入れ子になることはありません。考慮不要です。"
   ]
  },
  {
   "cell_type": "markdown",
   "metadata": {},
   "source": [
    "### 制約\n",
    "\n",
    "$\n",
    "T \\qquad ※T は文字列  \\\\\n",
    "$"
   ]
  },
  {
   "cell_type": "markdown",
   "metadata": {},
   "source": [
    "### 入力\n",
    "入力は以下の形式で標準入力から与えられます\n",
    "\n",
    "---\n",
    "$ T $\n",
    "\n",
    "---\n"
   ]
  },
  {
   "cell_type": "markdown",
   "metadata": {},
   "source": [
    "### 出力\n",
    "入力されたつぶやきがHello World (表記ゆれ含む) の場合はその文字列を、そうでない場合は `No` を出力せよ。  \n",
    "#### 表記ゆれについて\n",
    "- \"Hello\"部分、\"World\"部分それぞれで以下の表記ゆれを許容すること\n",
    "  - Hello\n",
    "    - Hello, hello, ハロー\n",
    "  - World\n",
    "    - World, world, ワールド"
   ]
  },
  {
   "cell_type": "markdown",
   "metadata": {},
   "source": [
    "----\n",
    "----\n",
    "\n",
    "### 入力例1\n",
    "```python\n",
    "Hello World!\n",
    "```\n",
    "\n",
    "\n",
    "### 出力例1\n",
    "```python\n",
    "Hello World!\n",
    "```\n",
    "- ハロワくんがRTするため、文字列をそのまま出力します。"
   ]
  },
  {
   "cell_type": "markdown",
   "metadata": {},
   "source": [
    "----\n",
    "----\n",
    "\n",
    "### 入力例2\n",
    "```python\n",
    "hello world\n",
    "```\n",
    "\n",
    "\n",
    "### 出力例2\n",
    "```python\n",
    "hello world\n",
    "```\n",
    "- このケースではハロワくんはRTします。\n",
    "- 文字列が小文字の場合も、後ろのビックリマークがない場合もRTします。"
   ]
  },
  {
   "cell_type": "markdown",
   "metadata": {},
   "source": [
    "----\n",
    "----\n",
    "\n",
    "### 入力例3\n",
    "```python\n",
    "helo world\n",
    "```\n",
    "\n",
    "\n",
    "### 出力例3\n",
    "```python\n",
    "No\n",
    "```\n",
    "- 上記のように誤記のケースではハロワくんはRTしません"
   ]
  },
  {
   "cell_type": "markdown",
   "metadata": {},
   "source": [
    "----\n",
    "----\n",
    "\n",
    "### 入力例4\n",
    "```python\n",
    "ハローワールド！\n",
    "```\n",
    "\n",
    "\n",
    "### 出力例4\n",
    "```python\n",
    "ハローワールド！\n",
    "```\n",
    "- ハロワくんはRTします。全角カタカナ表記の場合もRTします。"
   ]
  },
  {
   "cell_type": "markdown",
   "metadata": {},
   "source": [
    "----\n",
    "----\n",
    "\n",
    "### 入力例5\n",
    "```python\n",
    "ハローWorld！\n",
    "```\n",
    "\n",
    "\n",
    "### 出力例5\n",
    "```python\n",
    "ハローWorld！\n",
    "```\n",
    "- ハロワくんはRTします。全角カタカナ表記、および英字表記が混在している場合もRTします。"
   ]
  },
  {
   "cell_type": "markdown",
   "metadata": {},
   "source": [
    "----\n",
    "----\n",
    "### ここ↓にPythonコードを記述してください"
   ]
  },
  {
   "cell_type": "code",
   "execution_count": 2,
   "metadata": {},
   "outputs": [
    {
     "name": "stdout",
     "output_type": "stream",
     "text": [
      "helo world\n",
      "No\n"
     ]
    }
   ],
   "source": [
    "tweet = input()\n",
    "s = tweet.lower()\n",
    "is_hello = s.find('hello')>=0 or s.find('ハロー')>=0\n",
    "is_world = s.find('world')>=0 or s.find('ワールド')>=0\n",
    "\n",
    "if is_hello and is_world:\n",
    "    print(tweet)\n",
    "else:\n",
    "    print('No')"
   ]
  },
  {
   "cell_type": "markdown",
   "metadata": {},
   "source": [
    "----\n",
    "----\n",
    "----\n",
    "----\n",
    "----\n",
    "----\n",
    "----\n",
    "----"
   ]
  },
  {
   "cell_type": "markdown",
   "metadata": {},
   "source": [
    "### 問題10\n",
    "# オリンピックイヤー (2点)\n",
    "- 近代オリンピックは、1896年以降戦争による中止および新型コロナウイルスによる延期を除いて４年毎に実施されています。\n",
    "- 西暦が $ Y $ で与えられた時、その年がオリンピックイヤーかどうかを判定するプログラムを作成してください。\n",
    "\n",
    "#### 条件\n",
    "- 対象は夏季オリンピックのみとします。\n",
    "- 以下の年は世界大戦の影響で夏季オリンピック未開催です\n",
    "  - 第一次世界大戦 1916年\n",
    "  - 第二次世界大戦 1940年、1944年\n",
    "- また、以下の年は夏季オリンピックが翌年に延期されています\n",
    "  - 2020年　東京オリンピック\n",
    "\n",
    "- 西暦は1582年〜9999年で与えられることとします。\n",
    "- 未来の夏季オリンピックについては、未開催や延期はされない前提とします。"
   ]
  },
  {
   "cell_type": "markdown",
   "metadata": {},
   "source": [
    "### 制約\n",
    "\n",
    "$\n",
    "1582 \\leqq Y \\leqq 9999 \\qquad ※Yは整数 \n",
    "$"
   ]
  },
  {
   "cell_type": "markdown",
   "metadata": {},
   "source": [
    "### 入力\n",
    "入力は以下の形式で標準入力から与えられます\n",
    "\n",
    "---\n",
    "$ Y $\n",
    "\n",
    "---\n"
   ]
  },
  {
   "cell_type": "markdown",
   "metadata": {},
   "source": [
    "### 出力\n",
    "入力された西暦で夏季オリンピックが開催される場合は `Yes` を、そうでない場合は `No` を出力せよ。"
   ]
  },
  {
   "cell_type": "markdown",
   "metadata": {},
   "source": [
    "----\n",
    "----\n",
    "\n",
    "### 入力例1\n",
    "```python\n",
    "2000\n",
    "```\n",
    "\n",
    "\n",
    "### 出力例1\n",
    "```python\n",
    "Yes\n",
    "```\n",
    "- 2000年は夏季オリンピックが開催されています。"
   ]
  },
  {
   "cell_type": "markdown",
   "metadata": {},
   "source": [
    "----\n",
    "----\n",
    "\n",
    "### 入力例2\n",
    "```python\n",
    "1940\n",
    "```\n",
    "\n",
    "\n",
    "### 出力例2\n",
    "```python\n",
    "No\n",
    "```\n",
    "- 1940年は第二次世界大戦のため、夏季オリンピックは開催されておりません。"
   ]
  },
  {
   "cell_type": "markdown",
   "metadata": {},
   "source": [
    "----\n",
    "----\n",
    "\n",
    "### 入力例3\n",
    "```python\n",
    "2020\n",
    "```\n",
    "\n",
    "\n",
    "### 出力例3\n",
    "```python\n",
    "No\n",
    "```\n",
    "- 2020年は新型コロナウイルスにより、夏季オリンピックは開催されておりません。"
   ]
  },
  {
   "cell_type": "markdown",
   "metadata": {},
   "source": [
    "----\n",
    "----\n",
    "\n",
    "### 入力例4\n",
    "```python\n",
    "2021\n",
    "```\n",
    "\n",
    "\n",
    "### 出力例4\n",
    "```python\n",
    "Yes\n",
    "```\n",
    "- 2021年は、元々2020年に開催予定だった夏季オリンピックが新型コロナウイルスにより翌年延期されたため、開催されています。"
   ]
  },
  {
   "cell_type": "markdown",
   "metadata": {},
   "source": [
    "----\n",
    "----\n",
    "\n",
    "### 入力例5\n",
    "```python\n",
    "1882\n",
    "```\n",
    "\n",
    "\n",
    "### 出力例5\n",
    "```python\n",
    "No\n",
    "```\n",
    "- 1882は４の倍数ですが、近代オリンピック開催前のため、オリンピックは開催されておりません。"
   ]
  },
  {
   "cell_type": "markdown",
   "metadata": {},
   "source": [
    "----\n",
    "----\n",
    "\n",
    "### 入力例6\n",
    "```python\n",
    "8192\n",
    "```\n",
    "\n",
    "\n",
    "### 出力例6\n",
    "```python\n",
    "Yes\n",
    "```\n",
    "- 未来の夏季オリンピックについては未開催や延期はされない前提として判定します。\n",
    "- 8192年は4で割れるため、夏季オリンピックが開催されます。"
   ]
  },
  {
   "cell_type": "markdown",
   "metadata": {},
   "source": [
    "----\n",
    "----\n",
    "### ここ↓にPythonコードを記述してください"
   ]
  },
  {
   "cell_type": "code",
   "execution_count": 3,
   "metadata": {},
   "outputs": [
    {
     "name": "stdout",
     "output_type": "stream",
     "text": [
      "2020\n",
      "No\n"
     ]
    }
   ],
   "source": [
    "Y = int(input())\n",
    "if Y<1896: # 近代オリンピック開催前\n",
    "    print('No')\n",
    "elif Y%4 == 0: # 4の倍数の場合\n",
    "    if Y in [1916,1940,1944,2020]: # 戦争中とコロナによる延期は除く\n",
    "        print('No')\n",
    "    else:\n",
    "        print('Yes')\n",
    "elif Y in [2021]: # 4の倍数以外で唯一開催している年(コロナによる延期)\n",
    "    print('Yes')\n",
    "else: # それ以外は全てNo\n",
    "    print('No')"
   ]
  },
  {
   "cell_type": "markdown",
   "metadata": {},
   "source": [
    "----\n",
    "----\n",
    "----\n",
    "----\n",
    "----\n",
    "----\n",
    "----\n",
    "----"
   ]
  },
  {
   "cell_type": "markdown",
   "metadata": {},
   "source": [
    "### 問題11\n",
    "# 旗揚げゲーム (2点)\n",
    "- ゆるるくんは旗揚げゲームをすることにしました。  \n",
    "- 旗揚げゲームとは左右の手に赤い旗と白い旗をそれぞれ持ち、出される指示のとおりに旗を上げ下げするゲームです。  \n",
    "\n",
    "- 例えば以下のような指示と上げ下げの動作をします。\n",
    "  - 「赤上げて」で赤の旗を上げ、「白上げて」で白の旗を上げます。\n",
    "  - 「赤上げないで」で赤の旗を下げて、「白下げない」で白の旗を上げます。\n",
    "\n",
    "- 4回指示をすると一区切りとなり、次に4回指示を出すと終了となります。\n",
    "\n",
    "- 4回x2回指示が出された後に、上げている旗を空白区切りで出力してください。\n",
    "- ただし、赤白両方下げている時は\"どちらも上げない\"と出力してください。"
   ]
  },
  {
   "cell_type": "markdown",
   "metadata": {},
   "source": [
    "### 制約\n",
    "- 4回指示が2回繰り返されます。\n",
    "- 最初の4回分の指示は文字列で指定され、「、」（全角カンマ）で区切られています。\n",
    "- 1回の指示は以下の文字列で構成されています。  \n",
    "  -　1文字目は「赤」or「白」  \n",
    "  -　2文字目は「上」or「下」  \n",
    "  -　3文字目以降は「げて」or「げない」or「げないで」のいずれか  "
   ]
  },
  {
   "cell_type": "markdown",
   "metadata": {},
   "source": [
    "### 入力\n",
    "入力は以下の形式で標準入力から与えられます\n",
    "\n",
    "---\n",
    "$\n",
    "S_1  \\\\\n",
    "S_2  \n",
    "$\n",
    "\n",
    "---"
   ]
  },
  {
   "cell_type": "markdown",
   "metadata": {},
   "source": [
    "### 出力\n",
    "\n",
    "---\n",
    "\"赤\" or \"白\" or \"赤 白\" or \"どちらも上げない\"\n",
    "\n",
    "---\n",
    "上げている旗を出力して下さい。"
   ]
  },
  {
   "cell_type": "markdown",
   "metadata": {},
   "source": [
    "----\n",
    "----\n",
    "\n",
    "### 入力例1\n",
    "```python\n",
    "赤上げて、白上げて、赤下げないで、白下げて\n",
    "白上げない、赤下げて、赤下げないで、白上げて\n",
    "```\n",
    "\n",
    "\n",
    "### 出力例1\n",
    "```python\n",
    "赤 白\n",
    "```\n",
    "- 両方の旗を上げている状態のため、\"赤 白\"と出力します。"
   ]
  },
  {
   "cell_type": "markdown",
   "metadata": {},
   "source": [
    "----\n",
    "----\n",
    "\n",
    "### 入力例2\n",
    "```python\n",
    "赤下げて、白下げて、赤上げないで、白上げて\n",
    "白下げない、赤下げて、赤上げないで、白下げて\n",
    "```\n",
    "\n",
    "\n",
    "### 出力例2\n",
    "```python\n",
    "どちらも上げない\n",
    "```\n",
    "- 両方の旗を下げている状態のため、\"どちらも上げない\"と出力します。"
   ]
  },
  {
   "cell_type": "markdown",
   "metadata": {},
   "source": [
    "----\n",
    "----\n",
    "\n",
    "### 入力例3\n",
    "```python\n",
    "白下げない、赤下げて、赤上げないで、白下げて\n",
    "赤下げて、赤上げない、白上げないで、白上げて\n",
    "```\n",
    "\n",
    "\n",
    "### 出力例3\n",
    "```python\n",
    "白\n",
    "```\n",
    "- 白だけを上げている状態のため、\"白\"と出力します。"
   ]
  },
  {
   "cell_type": "markdown",
   "metadata": {},
   "source": [
    "----\n",
    "----\n",
    "### ここ↓にPythonコードを記述してください"
   ]
  },
  {
   "cell_type": "code",
   "execution_count": 5,
   "metadata": {},
   "outputs": [
    {
     "name": "stdout",
     "output_type": "stream",
     "text": [
      "赤上げて、白上げて、赤下げないで、白下げて\n",
      "白上げない、赤下げて、赤下げないで、白上げて\n",
      "赤 白\n"
     ]
    }
   ],
   "source": [
    "# 2行の文字列をsplitしながら受け取ります\n",
    "s = input().split('、') # 1行の文字列 → 4つの文字列のリストに変換\n",
    "s += input().split('、') # 1行の文字列 → 4つの文字列のリストに変換 → 前のリストに追加\n",
    "\n",
    "# 分解した８つの要素を、for文で回しながら解析していきます。\n",
    "red = False # 赤フラグ。Trueのときに赤を上げている状態として判定するための変数です\n",
    "white = False # 白フラグ。Trueのときに白を上げている状態として判定するための変数です\n",
    "for s1 in s: # 8つの要素を回すループ\n",
    "    if s1[1:].startswith('上げて') or s1[1:].startswith('下げない'): # 2文字目以降を抽出して '上げて' もしくは '下げない' を判定します。つまり上げている状態の判定ですね。startswith()を用いているのは'で'が後ろにつくケースを考慮しています\n",
    "        if s1[0] == '赤': # 1文字目が赤なら\n",
    "            red = True # 赤フラグを立てます。赤を上げている状態となります。\n",
    "        else: # 1文字目が赤以外なら白しかないので\n",
    "            white = True # 白フラグを立てます。白を上げている状態となります。\n",
    "    elif s1[1:].startswith('下げて') or s1[1:].startswith('上げない'): # 2文字目以降を抽出して '下げて' もしくは '上げない' を判定します。つまり下げている状態の判定ですね。startswith()を用いているのは'で'が後ろにつくケースを考慮しています\n",
    "        if s1[0] == '赤': # 1文字目が赤なら\n",
    "            red = False # 赤フラグをOFFにします。赤を下げている状態となります。\n",
    "        else: # 1文字目が赤以外なら白しかないので\n",
    "            white = False # 白フラグをOFFにします。白を下げている状態となります。\n",
    "#     print(red, white) # これは動作確認用のprint()文です。途中経過を見たい時にコメントアウトを外して、変数の内容を確認します。\n",
    "\n",
    "# 赤/白を上げた判定を元にprint文を書きます。「赤 白」「赤」「白」「どちらも上げない」の4パターンを出力します。\n",
    "if red and white:\n",
    "    print('赤 白')\n",
    "elif red:\n",
    "    print('赤')\n",
    "elif white:\n",
    "    print('白')\n",
    "else:\n",
    "    print('どちらも上げない')"
   ]
  },
  {
   "cell_type": "markdown",
   "metadata": {},
   "source": [
    "----\n",
    "----\n",
    "----\n",
    "----\n",
    "----\n",
    "----\n",
    "----\n",
    "----"
   ]
  },
  {
   "cell_type": "markdown",
   "metadata": {},
   "source": [
    "### 問題12\n",
    "# 特定年間の日数 (2点)\n",
    "- 通常、1年の日数は365日ですが、うるう年は366日となります。\n",
    "- うるう年は通常4年に一度訪れますが、100年に1度うるう年にならない年があり、400年に1度うるう年になる年があります。\n",
    "- 西暦の開始年を　$ Y_s $  終了年を $ Y_e $ で与えられる時、合計の日数を求めて出力してください。\n",
    "- ただし西暦は1582年〜9999年で与えられることとします。"
   ]
  },
  {
   "cell_type": "markdown",
   "metadata": {},
   "source": [
    "### 制約\n",
    "\n",
    "$\n",
    "1582 \\leqq Y_s \\leqq 9999 \\qquad ※Y_s は整数  \\\\\n",
    "1582 \\leqq Y_e \\leqq 9999 \\qquad ※Y_e は整数  \\\\\n",
    "Y_s < Y_e \\qquad ※Y_e は必ず Y_s より大きい  \\\\\n",
    "$"
   ]
  },
  {
   "cell_type": "markdown",
   "metadata": {},
   "source": [
    "### 入力\n",
    "入力は以下の形式で標準入力から与えられます\n",
    "\n",
    "---\n",
    "$ Y_s \\quad Y_e $\n",
    "\n",
    "---\n",
    "\n",
    "※空白区切りです"
   ]
  },
  {
   "cell_type": "markdown",
   "metadata": {},
   "source": [
    "### 出力\n",
    "合計の日数を求めて出力してください。"
   ]
  },
  {
   "cell_type": "markdown",
   "metadata": {},
   "source": [
    "----\n",
    "----\n",
    "\n",
    "### 入力例1\n",
    "```python\n",
    "2000 2001\n",
    "```\n",
    "\n",
    "\n",
    "### 出力例1\n",
    "```python\n",
    "731\n",
    "```\n",
    "- 2000年はうるう年のため731日となります"
   ]
  },
  {
   "cell_type": "markdown",
   "metadata": {},
   "source": [
    "----\n",
    "----\n",
    "\n",
    "### 入力例2\n",
    "```python\n",
    "1900 1901\n",
    "```\n",
    "\n",
    "\n",
    "### 出力例2\n",
    "```python\n",
    "730\n",
    "```\n",
    "- 1900年はうるう年のため730日となります"
   ]
  },
  {
   "cell_type": "markdown",
   "metadata": {},
   "source": [
    "----\n",
    "----\n",
    "\n",
    "### 入力例3\n",
    "```python\n",
    "1600 2000\n",
    "```\n",
    "\n",
    "\n",
    "### 出力例3\n",
    "```python\n",
    "146463\n",
    "```\n",
    "- 401年ｘ365日=146365日  \n",
    "- 401年間の間にうるう年は98回あるため 146365 + 98 = 146463日となります。  "
   ]
  },
  {
   "cell_type": "markdown",
   "metadata": {},
   "source": [
    "----\n",
    "----\n",
    "### ここ↓にPythonコードを記述してください"
   ]
  },
  {
   "cell_type": "code",
   "execution_count": 6,
   "metadata": {},
   "outputs": [
    {
     "name": "stdout",
     "output_type": "stream",
     "text": [
      "1600 2000\n",
      "146463\n"
     ]
    }
   ],
   "source": [
    "Y_s, Y_e = map(int,input().split())\n",
    "days = 0\n",
    "for y in range(Y_s,Y_e+1):\n",
    "    days_per_year = 365\n",
    "    if y%400 == 0:\n",
    "        days_per_year = 366\n",
    "    elif y%100 == 0:\n",
    "        days_per_year = 365\n",
    "    elif y%4 == 0:\n",
    "        days_per_year = 366\n",
    "    days += days_per_year\n",
    "\n",
    "print(days)"
   ]
  },
  {
   "cell_type": "markdown",
   "metadata": {},
   "source": [
    "----\n",
    "----\n",
    "----\n",
    "----\n",
    "----\n",
    "----\n",
    "----\n",
    "----"
   ]
  }
 ],
 "metadata": {
  "colab": {
   "authorship_tag": "ABX9TyMOtB7OiTVLb+yu2KoVwjto",
   "include_colab_link": true,
   "provenance": []
  },
  "kernelspec": {
   "display_name": "Python 3 (ipykernel)",
   "language": "python",
   "name": "python3"
  },
  "language_info": {
   "codemirror_mode": {
    "name": "ipython",
    "version": 3
   },
   "file_extension": ".py",
   "mimetype": "text/x-python",
   "name": "python",
   "nbconvert_exporter": "python",
   "pygments_lexer": "ipython3",
   "version": "3.10.13"
  }
 },
 "nbformat": 4,
 "nbformat_minor": 1
}
