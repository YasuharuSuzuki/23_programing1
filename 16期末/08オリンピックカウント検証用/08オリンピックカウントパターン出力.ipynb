{
 "cells": [
  {
   "cell_type": "markdown",
   "id": "e0f811d1",
   "metadata": {},
   "source": [
    "# 指定パターン数を出力する"
   ]
  },
  {
   "cell_type": "code",
   "execution_count": 1,
   "id": "fe146162",
   "metadata": {},
   "outputs": [],
   "source": [
    "import random\n",
    "import json\n",
    "import lzma\n",
    "\n",
    "GREGORIAN_START = 1582 # グレゴリオ暦の開始年\n",
    "GREGORIAN_END = 9999 # これは出題上の上限\n",
    "\n",
    "OLYMPIC_START = 1896 # 近代オリンピック開催年\n",
    "\n",
    "COLORS_COUNT_OF_SAMPLES = 999"
   ]
  },
  {
   "cell_type": "code",
   "execution_count": 28,
   "id": "bc212ada",
   "metadata": {},
   "outputs": [
    {
     "data": {
      "text/plain": [
       "(2031, 2115)"
      ]
     },
     "execution_count": 28,
     "metadata": {},
     "output_type": "execute_result"
    }
   ],
   "source": [
    "def get_random_years(not_list=[]):\n",
    "    \n",
    "    # 2000年を平均として、標準偏差50年で開始年を取得\n",
    "    while True:\n",
    "        year_start = max(min(int(random.gauss(2000,50)),GREGORIAN_END),GREGORIAN_START)\n",
    "        year_end = year_start + max(min(int(random.gauss(100,100)),200),1)\n",
    "        year_tuple = (year_start, year_end)\n",
    "        year_tuple_str = \" \".join(list(map(str,year_tuple)))\n",
    "        if year_tuple_str not in not_list:\n",
    "            return year_tuple\n",
    "    \n",
    "    raise ValueError('無限ループしたようです')\n",
    "    \n",
    "get_random_years()"
   ]
  },
  {
   "cell_type": "code",
   "execution_count": 29,
   "id": "ba123bf7",
   "metadata": {},
   "outputs": [
    {
     "data": {
      "text/plain": [
       "29"
      ]
     },
     "execution_count": 29,
     "metadata": {},
     "output_type": "execute_result"
    }
   ],
   "source": [
    "def olympic_count(year_start, year_end):\n",
    "    count = 0\n",
    "    for year in range(year_start, year_end+1):\n",
    "        if year<1896: # 近代オリンピック開催前\n",
    "            pass\n",
    "        elif year%4 == 0 and year not in [1916,1940,1944,2020]: # 4の倍数の場合 and 戦争中とコロナによる延期は除く\n",
    "            count += 1\n",
    "        elif year in [2021]: # 4の倍数以外で唯一開催している年(コロナによる延期)\n",
    "            count += 1\n",
    "    \n",
    "    return count\n",
    "\n",
    "olympic_count(1582, 2023)"
   ]
  },
  {
   "cell_type": "code",
   "execution_count": 30,
   "id": "428e0925",
   "metadata": {},
   "outputs": [],
   "source": [
    "def output_json_xz(xz_filename, json_data):\n",
    "    # JSONデータを整形して文字列として取得\n",
    "    # ensure_ascii=False すると日本語がエスケープされなくなるためjsonの可読性はあがりますが互換性は低くなります。注意。\n",
    "    json_str = json.dumps(json_data, indent=4, sort_keys=True, ensure_ascii=False)\n",
    "\n",
    "    # JSONファイルをXZ形式で圧縮する\n",
    "    with lzma.open(xz_filename, 'wb') as xz_out:\n",
    "        xz_out.write(json_str.encode('utf-8'))"
   ]
  },
  {
   "cell_type": "code",
   "execution_count": 31,
   "id": "b34f8bc4",
   "metadata": {},
   "outputs": [],
   "source": [
    "def output_all(out_xz_filename, pattern):\n",
    "    pattern_keta = len(str(pattern)) # 桁数を数える（文字列に変換後、文字列長で取得できる）\n",
    "    output_index = 0\n",
    "    all_inputs = []\n",
    "    json_data = {}\n",
    "\n",
    "    # ランダムで入れる\n",
    "    for answer_id in range(1, pattern+1):\n",
    "        input_list = []\n",
    "        output_list = []\n",
    "\n",
    "        # randomで入力文字列を取得する\n",
    "        input_years = get_random_years(all_inputs)\n",
    "        input_str = \" \".join(list(map(str,input_years)))\n",
    "        input_list.append(input_str)\n",
    "        all_inputs.append(input_str)\n",
    "\n",
    "        # オリンピックカウントの解答を求める\n",
    "        output_list.append(str(olympic_count(input_years[0],input_years[1])))\n",
    "\n",
    "        # 入力と出力をJSONに詰める\n",
    "        answer_key = f\"answer{answer_id:0{pattern_keta}}\"\n",
    "        json_data[answer_key] = [input_list, output_list]\n",
    "\n",
    "    # jsonファイルをxz出力する\n",
    "    output_json_xz(out_xz_filename, json_data)\n",
    "\n",
    "    # 重複がなければpatternと一致するはず\n",
    "    print('all_inputs count=',len(set(all_inputs)))"
   ]
  },
  {
   "cell_type": "code",
   "execution_count": 32,
   "id": "0262501a",
   "metadata": {},
   "outputs": [
    {
     "name": "stdout",
     "output_type": "stream",
     "text": [
      "all_inputs count= 999\n"
     ]
    }
   ],
   "source": [
    "output_all(\"data/answer.json.xz\", COLORS_COUNT_OF_SAMPLES)"
   ]
  },
  {
   "cell_type": "code",
   "execution_count": null,
   "id": "4f8cc94d",
   "metadata": {},
   "outputs": [],
   "source": []
  }
 ],
 "metadata": {
  "kernelspec": {
   "display_name": "Python 3 (ipykernel)",
   "language": "python",
   "name": "python3"
  },
  "language_info": {
   "codemirror_mode": {
    "name": "ipython",
    "version": 3
   },
   "file_extension": ".py",
   "mimetype": "text/x-python",
   "name": "python",
   "nbconvert_exporter": "python",
   "pygments_lexer": "ipython3",
   "version": "3.10.13"
  }
 },
 "nbformat": 4,
 "nbformat_minor": 5
}
