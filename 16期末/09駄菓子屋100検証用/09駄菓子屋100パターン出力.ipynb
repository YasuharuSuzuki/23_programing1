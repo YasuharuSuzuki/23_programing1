{
 "cells": [
  {
   "cell_type": "markdown",
   "id": "e0f811d1",
   "metadata": {},
   "source": [
    "# 指定パターン数を出力する"
   ]
  },
  {
   "cell_type": "code",
   "execution_count": 7,
   "id": "fe146162",
   "metadata": {},
   "outputs": [],
   "source": [
    "import random\n",
    "import json\n",
    "import lzma\n",
    "\n",
    "N_MIN = 2\n",
    "N_MAX = 10\n",
    "PRICE_MIN = 5\n",
    "PRICE_MAX = 100\n",
    "\n",
    "DAGASHIYA100_COUNT_OF_SAMPLES = 99"
   ]
  },
  {
   "cell_type": "code",
   "execution_count": 2,
   "id": "bc212ada",
   "metadata": {},
   "outputs": [
    {
     "data": {
      "text/plain": [
       "['4 3 4', '73 94 92 77']"
      ]
     },
     "execution_count": 2,
     "metadata": {},
     "output_type": "execute_result"
    }
   ],
   "source": [
    "def get_random_dagashi_inputs(not_list=[]):\n",
    "    while True:\n",
    "        okashi_n = random.randint(N_MIN,N_MAX)\n",
    "        start = random.randint(1,okashi_n-1)\n",
    "        end = random.randint(start+1,okashi_n)\n",
    "        dagashi = [str(random.randint(PRICE_MIN, PRICE_MAX)) for _ in range(okashi_n)]\n",
    "        inputs = [f\"{okashi_n} {start} {end}\", \" \".join(dagashi)]\n",
    "        if inputs not in not_list:\n",
    "            return inputs\n",
    "        else:\n",
    "            print(\"重複\", inputs)\n",
    "    \n",
    "    raise ValueError('無限ループしたようです')\n",
    "    \n",
    "get_random_dagashi_inputs()"
   ]
  },
  {
   "cell_type": "code",
   "execution_count": 11,
   "id": "ba123bf7",
   "metadata": {},
   "outputs": [
    {
     "name": "stdout",
     "output_type": "stream",
     "text": [
      "['5 3 4', '41 63 85 27 30']\n"
     ]
    },
    {
     "data": {
      "text/plain": [
       "['2 88']"
      ]
     },
     "execution_count": 11,
     "metadata": {},
     "output_type": "execute_result"
    }
   ],
   "source": [
    "def dagashiya100(input_list):\n",
    "    N, S, E = map(int,input_list[0].split())\n",
    "    D = list(map(int,input_list[1].split()))\n",
    "    D_sum = sum(D[S-1:E])\n",
    "    count100 = (D_sum//100)\n",
    "    if D_sum%100 > 0:\n",
    "        count100 += 1\n",
    "    remain = 100 * count100 - D_sum\n",
    "    return [f\"{count100} {remain}\"]\n",
    "\n",
    "inputs = get_random_dagashi_inputs()\n",
    "print(inputs)\n",
    "dagashiya100(inputs)"
   ]
  },
  {
   "cell_type": "code",
   "execution_count": 12,
   "id": "428e0925",
   "metadata": {},
   "outputs": [],
   "source": [
    "def output_json_xz(xz_filename, json_data):\n",
    "    # JSONデータを整形して文字列として取得\n",
    "    # ensure_ascii=False すると日本語がエスケープされなくなるためjsonの可読性はあがりますが互換性は低くなります。注意。\n",
    "    json_str = json.dumps(json_data, indent=4, sort_keys=True, ensure_ascii=False)\n",
    "\n",
    "    # JSONファイルをXZ形式で圧縮する\n",
    "    with lzma.open(xz_filename, 'wb') as xz_out:\n",
    "        xz_out.write(json_str.encode('utf-8'))"
   ]
  },
  {
   "cell_type": "code",
   "execution_count": 13,
   "id": "b34f8bc4",
   "metadata": {},
   "outputs": [],
   "source": [
    "def output_all(out_xz_filename, pattern):\n",
    "    pattern_keta = len(str(pattern)) # 桁数を数える（文字列に変換後、文字列長で取得できる）\n",
    "    output_index = 0\n",
    "    all_inputs = []\n",
    "    json_data = {}\n",
    "\n",
    "    # ランダムで入れる\n",
    "    for answer_id in range(1, pattern+1):\n",
    "        input_list = []\n",
    "        output_list = []\n",
    "\n",
    "        # randomで入力文字列を取得する\n",
    "        input_list = get_random_dagashi_inputs(all_inputs)\n",
    "        all_inputs.append(input_list)\n",
    "\n",
    "        # 駄菓子屋100の解答を求める\n",
    "        output_list = dagashiya100(input_list)\n",
    "\n",
    "        # 入力と出力をJSONに詰める\n",
    "        answer_key = f\"answer{answer_id:0{pattern_keta}}\"\n",
    "        json_data[answer_key] = [input_list, output_list]\n",
    "\n",
    "    # jsonファイルをxz出力する\n",
    "    output_json_xz(out_xz_filename, json_data)\n",
    "\n",
    "    # 重複がなければpatternと一致するはず\n",
    "    all_inputs2 = [\"\\n\".join(inputs1) for inputs1 in all_inputs]\n",
    "    print('all_inputs count=',len(set(all_inputs2)))"
   ]
  },
  {
   "cell_type": "code",
   "execution_count": 14,
   "id": "0262501a",
   "metadata": {},
   "outputs": [
    {
     "name": "stdout",
     "output_type": "stream",
     "text": [
      "all_inputs count= 99\n"
     ]
    }
   ],
   "source": [
    "output_all(\"data/answer.json.xz\", DAGASHIYA100_COUNT_OF_SAMPLES)"
   ]
  },
  {
   "cell_type": "code",
   "execution_count": null,
   "id": "4f8cc94d",
   "metadata": {},
   "outputs": [],
   "source": []
  }
 ],
 "metadata": {
  "kernelspec": {
   "display_name": "Python 3 (ipykernel)",
   "language": "python",
   "name": "python3"
  },
  "language_info": {
   "codemirror_mode": {
    "name": "ipython",
    "version": 3
   },
   "file_extension": ".py",
   "mimetype": "text/x-python",
   "name": "python",
   "nbconvert_exporter": "python",
   "pygments_lexer": "ipython3",
   "version": "3.10.13"
  }
 },
 "nbformat": 4,
 "nbformat_minor": 5
}
