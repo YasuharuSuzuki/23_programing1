{
 "cells": [
  {
   "cell_type": "markdown",
   "id": "e0f811d1",
   "metadata": {},
   "source": [
    "# ランダムで何パターンか出力する"
   ]
  },
  {
   "cell_type": "code",
   "execution_count": 15,
   "id": "9cf9f331",
   "metadata": {
    "scrolled": true
   },
   "outputs": [
    {
     "data": {
      "text/plain": [
       "'戌'"
      ]
     },
     "execution_count": 15,
     "metadata": {},
     "output_type": "execute_result"
    }
   ],
   "source": [
    "import random\n",
    "\n",
    "GREGORIAN_START = 1582 # グレゴリオ暦の開始年\n",
    "GREGORIAN_END = 9999 # これは出題上の上限\n",
    "ETO_TEXT = \"子丑寅卯辰巳午未申酉戌亥\"\n",
    "ETO_COUNT_OF_SAMPLES = 36\n",
    "\n",
    "random.choice(ETO_TEXT)"
   ]
  },
  {
   "cell_type": "code",
   "execution_count": 16,
   "id": "5a8590c9",
   "metadata": {},
   "outputs": [
    {
     "data": {
      "text/plain": [
       "'子'"
      ]
     },
     "execution_count": 16,
     "metadata": {},
     "output_type": "execute_result"
    }
   ],
   "source": [
    "def get_eto(year):\n",
    "    return ETO_TEXT[(year-(GREGORIAN_START-6))%12] # 1582年は午年なので6を引いて子年の開始年(1576)に合わせる\n",
    "\n",
    "#get_eto(1996)\n",
    "get_eto(1588)"
   ]
  },
  {
   "cell_type": "code",
   "execution_count": 17,
   "id": "1ab22cce",
   "metadata": {},
   "outputs": [
    {
     "data": {
      "text/plain": [
       "4616"
      ]
     },
     "execution_count": 17,
     "metadata": {},
     "output_type": "execute_result"
    }
   ],
   "source": [
    "def get_random_eto_year(eto_char, not_list=[]):\n",
    "    eto_pos = \"子丑寅卯辰巳午未申酉戌亥\".find(eto_char)\n",
    "    \n",
    "    start_year = (GREGORIAN_START-6)+eto_pos\n",
    "    if start_year<GREGORIAN_START:\n",
    "        start_year += 12\n",
    "        \n",
    "    enables = list(set(range(start_year,10000,12))-set(not_list))\n",
    "    return random.choice(enables)\n",
    "    \n",
    "get_random_eto_year(\"辰\")"
   ]
  },
  {
   "cell_type": "code",
   "execution_count": 33,
   "id": "b34f8bc4",
   "metadata": {},
   "outputs": [],
   "source": [
    "def output_all(in_file_name, out_file_name, pattern):\n",
    "    output_index = 0\n",
    "    eto_years = []\n",
    "    for eto_id in range(pattern):\n",
    "        eto_char = ETO_TEXT[eto_id%12]\n",
    "        year = get_random_eto_year(eto_char, eto_years)\n",
    "        eto_years.append(year)\n",
    "#         print(year, eto_char)\n",
    "    \n",
    "        input_list = []\n",
    "        output_list = []\n",
    "        input_list.append(str(year))\n",
    "        output_list.append(eto_char)\n",
    "\n",
    "        # ファイル出力\n",
    "        output_index+=1\n",
    "        with open(in_file_name.format(output_index),\"w\") as f_in:\n",
    "            f_in.writelines(input_list)\n",
    "        with open(out_file_name.format(output_index),\"w\") as f_out:\n",
    "            f_out.writelines(output_list)\n",
    "\n",
    "    print('eto_years count=',len(set(eto_years)))"
   ]
  },
  {
   "cell_type": "code",
   "execution_count": 34,
   "id": "0262501a",
   "metadata": {},
   "outputs": [
    {
     "name": "stdout",
     "output_type": "stream",
     "text": [
      "eto_years count= 36\n"
     ]
    }
   ],
   "source": [
    "output_all(\"data/in{:02}.txt\", \"data/out{:02}.txt\", ETO_COUNT_OF_SAMPLES)"
   ]
  },
  {
   "cell_type": "code",
   "execution_count": 6,
   "id": "e62e7ce6",
   "metadata": {},
   "outputs": [
    {
     "data": {
      "text/plain": [
       "{'紫'}"
      ]
     },
     "execution_count": 6,
     "metadata": {},
     "output_type": "execute_result"
    }
   ],
   "source": []
  },
  {
   "cell_type": "code",
   "execution_count": null,
   "id": "4f8cc94d",
   "metadata": {},
   "outputs": [],
   "source": []
  }
 ],
 "metadata": {
  "kernelspec": {
   "display_name": "Python 3 (ipykernel)",
   "language": "python",
   "name": "python3"
  },
  "language_info": {
   "codemirror_mode": {
    "name": "ipython",
    "version": 3
   },
   "file_extension": ".py",
   "mimetype": "text/x-python",
   "name": "python",
   "nbconvert_exporter": "python",
   "pygments_lexer": "ipython3",
   "version": "3.10.13"
  }
 },
 "nbformat": 4,
 "nbformat_minor": 5
}
