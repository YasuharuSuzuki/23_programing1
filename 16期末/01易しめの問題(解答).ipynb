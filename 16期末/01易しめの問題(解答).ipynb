{
 "cells": [
  {
   "cell_type": "markdown",
   "metadata": {
    "colab_type": "text",
    "id": "view-in-github"
   },
   "source": [
    "<a href=\"https://colab.research.google.com/github/YasuharuSuzuki/23_programing1/blob/main/\" target=\"_parent\"><img src=\"https://colab.research.google.com/assets/colab-badge.svg\" alt=\"Open In Colab\"/></a>"
   ]
  },
  {
   "cell_type": "markdown",
   "metadata": {},
   "source": [
    "### 問題1\n",
    "# はるぉ〜わぁるど！ (7点)\n",
    "- ゆるるくんはプログラミング初心者です。\n",
    "- プログラミング初心者は\"Hello World!\"から始めると、エラい人に聞きました。\n",
    "- ゆるるくんは、いつも Hello World! だと飽きるため、\"はるぉ〜わぁるど！\"と全角ひらがな混じりの文字列で出力することに決めました。\n",
    "- \"はるぉ〜わぁるど！\" と出力するプログラムを作成してください。"
   ]
  },
  {
   "cell_type": "markdown",
   "metadata": {},
   "source": [
    "### 入力\n",
    "なし"
   ]
  },
  {
   "cell_type": "markdown",
   "metadata": {},
   "source": [
    "### 出力\n",
    "\n",
    "---\n",
    "\n",
    "はるぉ〜わぁるど！\n",
    "\n",
    "---"
   ]
  },
  {
   "cell_type": "markdown",
   "metadata": {},
   "source": [
    "### ここ↓にPythonコードを記述してください"
   ]
  },
  {
   "cell_type": "code",
   "execution_count": 1,
   "metadata": {},
   "outputs": [
    {
     "name": "stdout",
     "output_type": "stream",
     "text": [
      "はるぉ〜わぁるど！\n"
     ]
    }
   ],
   "source": [
    "print(\"はるぉ〜わぁるど！\")"
   ]
  },
  {
   "cell_type": "markdown",
   "metadata": {},
   "source": [
    "----\n",
    "----\n",
    "----\n",
    "----\n",
    "----\n",
    "----\n",
    "----\n",
    "----"
   ]
  },
  {
   "cell_type": "markdown",
   "metadata": {},
   "source": [
    "### 問題2\n",
    "# 台形の面積 (7点)"
   ]
  },
  {
   "cell_type": "markdown",
   "metadata": {},
   "source": [
    "- ゆるるくんは小学生向けの問題を作成しています。\n",
    "- 台形の面積を自動的に求めるプログラムを作成し、小学生に見せたいと思っています。\n",
    "- 台形の面積は(上底＋下底)ｘ高さ÷２で求まります。\n",
    "- 上底の値を$U$cm、下底の値を$B$cm、高さの値を$H$cm、求まった面積を$R$cm^2とした 以下の２行の文字列で表示するプログラムを作成してください。\n",
    "  - ($U$ ＋ $B$) × $H$ ÷ 2 = $R$\n",
    "  - 答えは $R$ cm^2 です"
   ]
  },
  {
   "cell_type": "markdown",
   "metadata": {},
   "source": [
    "### 制約\n",
    "$\n",
    "1 <= U <= 9 (Yは整数) \\\\\n",
    "1 <= B <= 9 (Xは整数) \\\\\n",
    "1 <= H <= 9 (Xは整数) \\\\\n",
    "$\n",
    "$ R $ は正の実数。小数点第一位まで出力\n",
    "- 小数点第二位以下は丸めてください。\n",
    "- 小数点以下は適切な桁数で表示が丸まっていればOKとします。formatやfstring、roundなどの桁数指定のいずれかを使用してください。\n",
    "- 厳密な四捨五入かどうかは問わないこととします(Pythonで四捨五入するのは難しいため）"
   ]
  },
  {
   "cell_type": "markdown",
   "metadata": {},
   "source": [
    "### 入力\n",
    "入力は以下の形式で標準入力から与えられます\n",
    "\n",
    "---\n",
    "$ U \\quad B \\quad H $\n",
    "\n",
    "---\n",
    "上底 $ U $、下底 $ B $、高さ $ H $ を空白区切りで受け取ります"
   ]
  },
  {
   "cell_type": "markdown",
   "metadata": {},
   "source": [
    "### 出力\n",
    "\n",
    "---\n",
    "($U$ ＋ $B$) × $H$ ÷ 2 = $R$  \n",
    "答えは $R$ cm^2 です  \n",
    "\n",
    "---\n",
    "式と答えの２行の文章に分けて出力してください。"
   ]
  },
  {
   "cell_type": "markdown",
   "metadata": {},
   "source": [
    "----\n",
    "----\n",
    "\n",
    "### 入力例1\n",
    "```python\n",
    "4  9  7\n",
    "```\n",
    "\n",
    "\n",
    "### 出力例1\n",
    "```python\n",
    "(4 ＋ 9) × 7 ÷ 2 = 45.5  \n",
    "答えは45.5cm^2です  \n",
    "```\n",
    "- 式「(4 ＋ 9) × 7 ÷ 2 = 45.5」と、答え「答えは45.5cm^2です」の２行の文章に分けて出力します。"
   ]
  },
  {
   "cell_type": "markdown",
   "metadata": {},
   "source": [
    "----\n",
    "----\n",
    "\n",
    "### 入力例2\n",
    "```python\n",
    "8  4  6\n",
    "```\n",
    "\n",
    "\n",
    "### 出力例2\n",
    "```python\n",
    "(8 ＋ 4) × 6 ÷ 2 = 36.0  \n",
    "答えは36.0cm^2です\n",
    "```\n",
    "- 式「(8 ＋ 4) × 6 ÷ 2 = 36.0」と、答え「答えは36.0cm^2です」の２行の文章に分けて出力します。"
   ]
  },
  {
   "cell_type": "markdown",
   "metadata": {},
   "source": [
    "----\n",
    "----\n",
    "### ここ↓にPythonコードを記述してください"
   ]
  },
  {
   "cell_type": "code",
   "execution_count": 2,
   "metadata": {},
   "outputs": [
    {
     "name": "stdout",
     "output_type": "stream",
     "text": [
      "8 4 6\n",
      "(8 ＋ 4) × 6 ÷ 2 = 36.0  \n",
      "答えは36.0cm^2です\n"
     ]
    }
   ],
   "source": [
    "U, B, H = map(int,input().split())\n",
    "R = (U+B) * H / 2\n",
    "\n",
    "print(f\"({U} ＋ {B}) × {H} ÷ 2 = {R}  \")\n",
    "print(f\"答えは{R}cm^2です\")"
   ]
  },
  {
   "cell_type": "markdown",
   "metadata": {},
   "source": [
    "----\n",
    "----\n",
    "----\n",
    "----\n",
    "----\n",
    "----\n",
    "----\n",
    "----"
   ]
  },
  {
   "cell_type": "markdown",
   "metadata": {},
   "source": [
    "### 問題3\n",
    "# 4の付く日、24の付く日 (7点)"
   ]
  },
  {
   "cell_type": "markdown",
   "metadata": {},
   "source": [
    "- とあるスーパーでは、日付の1桁目が4の日は「ホームランデー」として10%割引きされます\n",
    "- またこのスーパーの店長は西さんという方で、毎月24日は「店長特別割引デー」として24%割引されます\n",
    "- ゆるるくんがスーパーに行った日の割引き率を出力してください\n",
    "- 日付が月と日で入力されます。入力は$ M \\quad D$ で与えられ、$M$が月、$D$が日になります。"
   ]
  },
  {
   "cell_type": "markdown",
   "metadata": {},
   "source": [
    "### 制約\n",
    "$\n",
    "1 \\leq M \\leq 12  \\\\\n",
    "1 \\leq D \\leq 31\n",
    "$"
   ]
  },
  {
   "cell_type": "markdown",
   "metadata": {},
   "source": [
    "### 入力\n",
    "入力は以下の形式で標準入力から与えられます\n",
    "\n",
    "---\n",
    "$ M \\quad D $\n",
    "\n",
    "---"
   ]
  },
  {
   "cell_type": "markdown",
   "metadata": {},
   "source": [
    "### 出力\n",
    "\n",
    "---\n",
    "割引率\n",
    "\n",
    "---\n",
    "割引率を％で出力してください。"
   ]
  },
  {
   "cell_type": "markdown",
   "metadata": {},
   "source": [
    "----\n",
    "----\n",
    "\n",
    "### 入力例1\n",
    "```python\n",
    "12  14\n",
    "```\n",
    "\n",
    "\n",
    "### 出力例1\n",
    "```python\n",
    "10\n",
    "```\n",
    "- 12月14日は日付の1桁目が4のため「ホームランデー」として10%割引きされます"
   ]
  },
  {
   "cell_type": "markdown",
   "metadata": {},
   "source": [
    "----\n",
    "----\n",
    "\n",
    "### 入力例2\n",
    "```python\n",
    "3  24\n",
    "```\n",
    "\n",
    "\n",
    "### 出力例2\n",
    "```python\n",
    "24\n",
    "```\n",
    "- 3月24日は日付が24のため「店長特別割引デー」として24%割引きされます"
   ]
  },
  {
   "cell_type": "markdown",
   "metadata": {},
   "source": [
    "----\n",
    "----\n",
    "\n",
    "### 入力例3\n",
    "```python\n",
    "7  30\n",
    "```\n",
    "\n",
    "\n",
    "### 出力例3\n",
    "```python\n",
    "0\n",
    "```\n",
    "- 7月30日は日付の1桁目が4でも24でもないため、割引率は0%です。"
   ]
  },
  {
   "cell_type": "markdown",
   "metadata": {},
   "source": [
    "### ここ↓にPythonコードを記述してください"
   ]
  },
  {
   "cell_type": "code",
   "execution_count": 4,
   "metadata": {},
   "outputs": [
    {
     "name": "stdout",
     "output_type": "stream",
     "text": [
      "3 24\n",
      "24\n"
     ]
    }
   ],
   "source": [
    "month, day = map(int,input().split())\n",
    "if day == 24:\n",
    "    print(24)\n",
    "elif day%10 == 4:\n",
    "    print(10)\n",
    "else:\n",
    "    print(0)"
   ]
  },
  {
   "cell_type": "markdown",
   "metadata": {},
   "source": [
    "----\n",
    "----\n",
    "----\n",
    "----\n",
    "----\n",
    "----\n",
    "----\n",
    "----"
   ]
  },
  {
   "cell_type": "markdown",
   "metadata": {},
   "source": [
    "### 問題4\n",
    "# バス or タクシー (7点)\n",
    "- ゆるるくんは友達と隣街にお出かけしようとしています。\n",
    "- 合計 $ N $ 名で移動しますが、タクシーですと $ C_{taxi} $ 円、バスですと一人あたり $ C_{bus} $ 円掛かります。\n",
    "- ゆるるくんはバスかタクシーのどちらの方が安上がりかを知りたいです。\n",
    "- バスの方が安い時は \"バスで行く\"、タクシーの方が安い時は \"タクシーで行く\"、同じ値段の時は \"どちらも同じ\" と出力してください。"
   ]
  },
  {
   "cell_type": "markdown",
   "metadata": {},
   "source": [
    "### 制約\n",
    "$ 2 \\leq　N \\leq　4 $   \n",
    "$ 1 \\leq　C_{taxi} \\leq　2500 $   \n",
    "$ 1 \\leq　C_{bus} \\leq　660 $   \n",
    "$ N $、$ C_{taxi} $、$ C_{bus} $ はそれぞれ整数"
   ]
  },
  {
   "cell_type": "markdown",
   "metadata": {},
   "source": [
    "### 入力\n",
    "入力は以下の形式で標準入力から与えられます\n",
    "\n",
    "---\n",
    "$\n",
    "N \\quad C_{taxi} \\quad C_{bus} \\\\\n",
    "$\n",
    "\n",
    "---"
   ]
  },
  {
   "cell_type": "markdown",
   "metadata": {},
   "source": [
    "### 出力\n",
    "\n",
    "---\n",
    "\"バスで行く\" or \"タクシーで行く\" or \"どちらも同じ\"\n",
    "\n",
    "---\n",
    "\n",
    "バスで行くのかタクシーで行くのか、それともどちらも同じ金額かを出力してください。"
   ]
  },
  {
   "cell_type": "markdown",
   "metadata": {},
   "source": [
    "### 入力例1\n",
    "```python\n",
    "3 2500 660\n",
    "```\n",
    "\n",
    "### 出力例1\n",
    "```python\n",
    "バスで行く\n",
    "```\n",
    "- バスのほうが金額が安いため、”バスで行く”と出力してください。"
   ]
  },
  {
   "cell_type": "markdown",
   "metadata": {},
   "source": [
    "----\n",
    "----\n",
    "\n",
    "### 入力例2\n",
    "```python\n",
    "4 1600 550\n",
    "```\n",
    "\n",
    "### 出力例2\n",
    "```python\n",
    "タクシーで行く\n",
    "```\n",
    "- タクシーのほうが金額が安いため、”タクシーで行く”と出力してください。"
   ]
  },
  {
   "cell_type": "markdown",
   "metadata": {},
   "source": [
    "----\n",
    "----\n",
    "\n",
    "### 入力例3\n",
    "```python\n",
    "2 1200 600\n",
    "```\n",
    "\n",
    "### 出力例3\n",
    "```python\n",
    "どちらも同じ\n",
    "```\n",
    "- どちらも同じ金額のため、”どちらも同じ”と出力してください。"
   ]
  },
  {
   "cell_type": "markdown",
   "metadata": {},
   "source": [
    "---- \n",
    "----\n",
    "### ここ↓にPythonコードを記述してください"
   ]
  },
  {
   "cell_type": "code",
   "execution_count": 7,
   "metadata": {},
   "outputs": [
    {
     "name": "stdout",
     "output_type": "stream",
     "text": [
      "3 2500 660\n",
      "バスで行く\n"
     ]
    }
   ],
   "source": [
    "N, taxi, bus = map(int,input().split())\n",
    "bus_total = bus * N\n",
    "if taxi > bus_total:\n",
    "    print(\"バスで行く\")\n",
    "elif taxi < bus_total:\n",
    "    print(\"タクシーで行く\")\n",
    "else:\n",
    "    print(\"どちらも同じ\")"
   ]
  },
  {
   "cell_type": "markdown",
   "metadata": {},
   "source": [
    "----\n",
    "----\n",
    "----\n",
    "----\n",
    "----\n",
    "----\n",
    "----\n",
    "----"
   ]
  }
 ],
 "metadata": {
  "colab": {
   "authorship_tag": "ABX9TyMOtB7OiTVLb+yu2KoVwjto",
   "include_colab_link": true,
   "provenance": []
  },
  "kernelspec": {
   "display_name": "Python 3 (ipykernel)",
   "language": "python",
   "name": "python3"
  },
  "language_info": {
   "codemirror_mode": {
    "name": "ipython",
    "version": 3
   },
   "file_extension": ".py",
   "mimetype": "text/x-python",
   "name": "python",
   "nbconvert_exporter": "python",
   "pygments_lexer": "ipython3",
   "version": "3.10.13"
  }
 },
 "nbformat": 4,
 "nbformat_minor": 1
}
