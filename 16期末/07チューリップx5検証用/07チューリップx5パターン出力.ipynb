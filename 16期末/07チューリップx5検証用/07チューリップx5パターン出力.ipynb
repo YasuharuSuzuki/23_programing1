{
 "cells": [
  {
   "cell_type": "markdown",
   "id": "e0f811d1",
   "metadata": {},
   "source": [
    "# 指定パターン数を出力する"
   ]
  },
  {
   "cell_type": "code",
   "execution_count": 53,
   "id": "fe146162",
   "metadata": {},
   "outputs": [
    {
     "name": "stdout",
     "output_type": "stream",
     "text": [
      "len(ALL_PATTERN)= 3125\n"
     ]
    }
   ],
   "source": [
    "import random\n",
    "import json\n",
    "import lzma\n",
    "\n",
    "COLORS_LIST = ['赤','白','黄','桃','紫']\n",
    "COLORS_SET = set(COLORS_LIST)\n",
    "ALL_PATTERN = [f\"{a} {b} {c} {d} {e}\" for a in COLORS_LIST for b in COLORS_LIST for c in COLORS_LIST for d in COLORS_LIST for e in COLORS_LIST]\n",
    "print(\"len(ALL_PATTERN)=\",len(ALL_PATTERN))\n",
    "COLORS_COUNT_OF_SAMPLES = 999"
   ]
  },
  {
   "cell_type": "code",
   "execution_count": 54,
   "id": "bc212ada",
   "metadata": {},
   "outputs": [
    {
     "data": {
      "text/plain": [
       "'黄 白 赤 白 赤'"
      ]
     },
     "execution_count": 54,
     "metadata": {},
     "output_type": "execute_result"
    }
   ],
   "source": [
    "def get_random_colors(not_list=[]):\n",
    "    enables = list(set(ALL_PATTERN)-set(not_list))\n",
    "    return random.choice(enables)\n",
    "    \n",
    "get_random_colors()"
   ]
  },
  {
   "cell_type": "code",
   "execution_count": 55,
   "id": "ba123bf7",
   "metadata": {},
   "outputs": [
    {
     "name": "stdout",
     "output_type": "stream",
     "text": [
      "白 白 桃 白 桃 ['紫と黄と赤が欲しいなぁ〜']\n"
     ]
    }
   ],
   "source": [
    "def tulip_x5(input_str):\n",
    "    output_list = []\n",
    "    input_set1 = set(input_str.split())\n",
    "    if len(input_set1) == 1:\n",
    "        output_list.append(f'全部{input_set1.pop()}！')\n",
    "    elif len(input_set1) == 5:\n",
    "        output_list.append('キレイだなぁ〜')\n",
    "    else:\n",
    "        output_list.append('{}が欲しいなぁ〜'.format(\"と\".join(list(COLORS_SET - input_set1))))\n",
    "    return output_list\n",
    "\n",
    "random_colors = get_random_colors()\n",
    "output_list = tulip_x5(random_colors)\n",
    "print(random_colors, output_list)"
   ]
  },
  {
   "cell_type": "code",
   "execution_count": 56,
   "id": "428e0925",
   "metadata": {},
   "outputs": [],
   "source": [
    "def output_json_xz(xz_filename, json_data):\n",
    "    # JSONデータを整形して文字列として取得\n",
    "    # ensure_ascii=False すると日本語がエスケープされなくなるためjsonの可読性はあがりますが互換性は低くなります。注意。\n",
    "    json_str = json.dumps(json_data, indent=4, sort_keys=True, ensure_ascii=False)\n",
    "\n",
    "    # JSONファイルをXZ形式で圧縮する\n",
    "    with lzma.open(xz_filename, 'wb') as xz_out:\n",
    "        xz_out.write(json_str.encode('utf-8'))"
   ]
  },
  {
   "cell_type": "code",
   "execution_count": 80,
   "id": "b34f8bc4",
   "metadata": {},
   "outputs": [],
   "source": [
    "def output_all(out_xz_filename, pattern):\n",
    "    pattern_keta = len(str(pattern)) # 桁数を数える（文字列に変換後、文字列長で取得できる）\n",
    "    output_index = 0\n",
    "    all_inputs = []\n",
    "    json_data = {}\n",
    "\n",
    "    # 全部同じ色が出るケースは稀にしか存在しないので予め作成\n",
    "    all_same_color_count = max(1+pattern//200, len(COLORS_LIST)) # 200個に一個は全部同色の文字列を入れる\n",
    "    all_same_color_list = COLORS_LIST.copy()\n",
    "    random.shuffle(all_same_color_list)\n",
    "    for answer_id in range(1,all_same_color_count+1):\n",
    "        input_list = []\n",
    "\n",
    "        # チューリップｘ５の解答を求める\n",
    "        color = all_same_color_list[answer_id-1]\n",
    "        input_str = f\"{color} {color} {color} {color} {color}\"\n",
    "        input_list.append(input_str)\n",
    "        all_inputs.append(input_str)\n",
    "        output_list = tulip_x5(input_str)\n",
    "\n",
    "        # 入力と出力をJSONに詰める\n",
    "        answer_key = f\"answer{answer_id:0{pattern_keta}}\"\n",
    "        json_data[answer_key] = [input_list, output_list]\n",
    "        \n",
    "    # 残りはランダムで入れる\n",
    "    for answer_id in range(all_same_color_count+1, pattern+1):\n",
    "        input_list = []\n",
    "\n",
    "        # randomで入力文字列を取得する\n",
    "        input_str = get_random_colors(all_inputs)\n",
    "        input_list.append(input_str)\n",
    "        all_inputs.append(input_str)\n",
    "\n",
    "        # チューリップｘ５の解答を求める\n",
    "        output_list = tulip_x5(input_str)\n",
    "\n",
    "        # 入力と出力をJSONに詰める\n",
    "        answer_key = f\"answer{answer_id:0{pattern_keta}}\"\n",
    "        json_data[answer_key] = [input_list, output_list]\n",
    "\n",
    "    # jsonファイルをxz出力する\n",
    "    output_json_xz(out_xz_filename, json_data)\n",
    "\n",
    "    # 重複がなければpatternと一致するはず\n",
    "    print('all_inputs count=',len(set(all_inputs)))"
   ]
  },
  {
   "cell_type": "code",
   "execution_count": 81,
   "id": "0262501a",
   "metadata": {},
   "outputs": [
    {
     "name": "stdout",
     "output_type": "stream",
     "text": [
      "all_inputs count= 999\n"
     ]
    }
   ],
   "source": [
    "output_all(\"data/answer.json.xz\", COLORS_COUNT_OF_SAMPLES)"
   ]
  },
  {
   "cell_type": "code",
   "execution_count": null,
   "id": "9d71596a",
   "metadata": {},
   "outputs": [],
   "source": []
  },
  {
   "cell_type": "markdown",
   "id": "a18db8e0",
   "metadata": {},
   "source": [
    "#### 赤と紫が欲しいなぁ / 紫と赤が欲しいなぁ など、組み合わせの表示順が違うケースを考慮して正解判定を行う"
   ]
  },
  {
   "cell_type": "code",
   "execution_count": 89,
   "id": "ad842f37",
   "metadata": {},
   "outputs": [
    {
     "name": "stdout",
     "output_type": "stream",
     "text": [
      "Counter({'黄': 1, '赤': 1, '紫': 1})\n",
      "Counter({'紫': 1, '赤': 1, '黄': 1})\n"
     ]
    },
    {
     "data": {
      "text/plain": [
       "True"
      ]
     },
     "execution_count": 89,
     "metadata": {},
     "output_type": "execute_result"
    }
   ],
   "source": [
    "from collections import Counter\n",
    "\n",
    "def tulip_judge_answer_colors(answer_text, input_text):\n",
    "    pos1 = answer_text.find(\"が欲しいなぁ\")\n",
    "    pos2 = input_text.find(\"が欲しいなぁ\")\n",
    "    if pos1 >= 0 and pos2 >= 0 and pos1 == pos2:\n",
    "        answers = answer_text[:pos1].split(\"と\")\n",
    "        inputs = input_text[:pos2].split(\"と\")\n",
    "        print(Counter(answers))\n",
    "        print(Counter(inputs))\n",
    "        return Counter(answers) == Counter(inputs)\n",
    "    return False\n",
    "\n",
    "#tulip_judge_answer_colors('赤と紫が欲しいなぁ','紫と赤が欲しいなぁ')\n",
    "#tulip_judge_answer_colors('赤が欲しいなぁ','紫と赤が欲しいなぁ')\n",
    "#tulip_judge_answer_colors('赤と紫が欲しいなぁ','紫と赤と黄が欲しいなぁ')\n",
    "tulip_judge_answer_colors('黄と赤と紫が欲しいなぁ','紫と赤と黄が欲しいなぁ')"
   ]
  },
  {
   "cell_type": "code",
   "execution_count": null,
   "id": "4f8cc94d",
   "metadata": {},
   "outputs": [],
   "source": []
  }
 ],
 "metadata": {
  "kernelspec": {
   "display_name": "Python 3 (ipykernel)",
   "language": "python",
   "name": "python3"
  },
  "language_info": {
   "codemirror_mode": {
    "name": "ipython",
    "version": 3
   },
   "file_extension": ".py",
   "mimetype": "text/x-python",
   "name": "python",
   "nbconvert_exporter": "python",
   "pygments_lexer": "ipython3",
   "version": "3.10.13"
  }
 },
 "nbformat": 4,
 "nbformat_minor": 5
}
