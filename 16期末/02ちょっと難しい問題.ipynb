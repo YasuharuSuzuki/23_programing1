{
 "cells": [
  {
   "cell_type": "markdown",
   "metadata": {
    "colab_type": "text",
    "id": "view-in-github"
   },
   "source": [
    "<a href=\"https://colab.research.google.com/github/YasuharuSuzuki/23_programing1/blob/main/\" target=\"_parent\"><img src=\"https://colab.research.google.com/assets/colab-badge.svg\" alt=\"Open In Colab\"/></a>"
   ]
  },
  {
   "cell_type": "markdown",
   "metadata": {},
   "source": [
    "### 問題5\n",
    "# 秀・優・良・不可 (13点)\n",
    "- ゆるるくんは”プログラミングX”の科目を受けています。\n",
    "- この科目では、課題の平均点数を $ E $ 、期末試験の点数$ F $ とすると、$ E*5 + F/2 $が成績の点数$ R $となります。\n",
    "- 成績の点数$ R $ ごとの成績は、90点以上の場合は\"秀\"、80点以上の場合は\"優\"、60点以上の場合は\"良\"、60点未満の場合は”不可”となります。\n",
    "- ゆるるくんの成績を文字列で出力してください。"
   ]
  },
  {
   "cell_type": "markdown",
   "metadata": {},
   "source": [
    "### 制約\n",
    "\n",
    "$\n",
    "0 \\leqq E \\leqq 10 \\qquad ※Eは浮動小数点数。有効桁数は小数点第２位までです \\\\\n",
    "0 \\leqq F \\leqq 100 \\qquad ※Fは整数 \\\\\n",
    "0 \\leqq R \\leqq 100 \\qquad ※Rは整数 \n",
    "$"
   ]
  },
  {
   "cell_type": "markdown",
   "metadata": {},
   "source": [
    "### 入力\n",
    "入力は以下の形式で標準入力から与えられます\n",
    "\n",
    "---\n",
    "$ E \\quad F $\n",
    "\n",
    "---\n",
    "\n",
    "※空白区切りです"
   ]
  },
  {
   "cell_type": "markdown",
   "metadata": {},
   "source": [
    "### 出力\n",
    "ゆるるくんの成績を”秀”、\"優\"、”良”、”不可”のいずれかで出力してください。"
   ]
  },
  {
   "cell_type": "markdown",
   "metadata": {},
   "source": [
    "----\n",
    "----\n",
    "\n",
    "### 入力例1\n",
    "```python\n",
    "7.68  45\n",
    "```\n",
    "\n",
    "\n",
    "### 出力例1\n",
    "```python\n",
    "良\n",
    "```\n",
    "- 8.68*5 + 45/2 を計算すると 60.9 となるため、”良”と出力します。"
   ]
  },
  {
   "cell_type": "markdown",
   "metadata": {},
   "source": [
    "----\n",
    "----\n",
    "\n",
    "### 入力例2\n",
    "```python\n",
    "9.88  85\n",
    "```\n",
    "\n",
    "\n",
    "### 出力例2\n",
    "```python\n",
    "秀\n",
    "```\n",
    "- 9.88*5 + 85/2 を計算すると 91.9 となるため、”秀”と出力します。"
   ]
  },
  {
   "cell_type": "markdown",
   "metadata": {},
   "source": [
    "----\n",
    "----\n",
    "\n",
    "### 入力例3\n",
    "```python\n",
    "5.32  62\n",
    "```\n",
    "\n",
    "\n",
    "### 出力例3\n",
    "```python\n",
    "不可\n",
    "```\n",
    "- 5.32*5 + 62/2 を計算すると 57.6 となるため、”不可”と出力します。"
   ]
  },
  {
   "cell_type": "markdown",
   "metadata": {},
   "source": [
    "----\n",
    "----\n",
    "\n",
    "### 入力例4\n",
    "```python\n",
    "9.45 75\n",
    "```\n",
    "\n",
    "\n",
    "### 出力例4\n",
    "```python\n",
    "優\n",
    "```\n",
    "- 9.45*5 + 75/2 を計算すると 84.75 となるため、”優”と出力します。"
   ]
  },
  {
   "cell_type": "markdown",
   "metadata": {},
   "source": [
    "----\n",
    "----\n",
    "### ここ↓にPythonコードを記述してください"
   ]
  },
  {
   "cell_type": "code",
   "execution_count": 4,
   "metadata": {
    "scrolled": true
   },
   "outputs": [
    {
     "name": "stdout",
     "output_type": "stream",
     "text": [
      "7.68  45\n",
      "良\n"
     ]
    }
   ],
   "source": [
    "\n",
    "\n",
    "\n"
   ]
  },
  {
   "cell_type": "markdown",
   "metadata": {},
   "source": [
    "----\n",
    "----\n",
    "----\n",
    "----\n",
    "----\n",
    "----\n",
    "----\n",
    "----"
   ]
  },
  {
   "cell_type": "markdown",
   "metadata": {},
   "source": [
    "### 問題6\n",
    "# 干支 (13点)\n",
    "- 干支は子丑寅卯辰巳午未申酉戌亥の順に12年で一巡りします。\n",
    "- 西暦2000年の干支は辰年です。\n",
    "- 西暦が $ Y $ で与えられた時、その年の干支を出力するプログラムを作成して下さい。"
   ]
  },
  {
   "cell_type": "markdown",
   "metadata": {},
   "source": [
    "### 制約\n",
    "\n",
    "$\n",
    "1582 \\leqq Y \\leqq 9999 \\qquad ※Yは整数 \n",
    "$"
   ]
  },
  {
   "cell_type": "markdown",
   "metadata": {},
   "source": [
    "### 入力\n",
    "入力は以下の形式で標準入力から与えられます\n",
    "\n",
    "---\n",
    "$ Y $\n",
    "\n",
    "---\n"
   ]
  },
  {
   "cell_type": "markdown",
   "metadata": {},
   "source": [
    "### 出力\n",
    "干支を漢字１文字で出力してください。"
   ]
  },
  {
   "cell_type": "markdown",
   "metadata": {},
   "source": [
    "----\n",
    "----\n",
    "\n",
    "### 入力例1\n",
    "```python\n",
    "1996\n",
    "```\n",
    "\n",
    "\n",
    "### 出力例1\n",
    "```python\n",
    "子\n",
    "```\n",
    "- 西暦1996年の干支は”子”です"
   ]
  },
  {
   "cell_type": "markdown",
   "metadata": {},
   "source": [
    "----\n",
    "----\n",
    "\n",
    "### 入力例2\n",
    "```python\n",
    "1999\n",
    "```\n",
    "\n",
    "\n",
    "### 出力例2\n",
    "```python\n",
    "卯\n",
    "```\n",
    "- 西暦1999年の干支は”卯”です"
   ]
  },
  {
   "cell_type": "markdown",
   "metadata": {},
   "source": [
    "----\n",
    "----\n",
    "\n",
    "### 入力例3\n",
    "```python\n",
    "2024\n",
    "```\n",
    "\n",
    "\n",
    "### 出力例3\n",
    "```python\n",
    "辰\n",
    "```\n",
    "- 西暦2024年の干支は”辰”です"
   ]
  },
  {
   "cell_type": "markdown",
   "metadata": {},
   "source": [
    "----\n",
    "----\n",
    "### ここ↓にPythonコードを記述してください"
   ]
  },
  {
   "cell_type": "code",
   "execution_count": 7,
   "metadata": {},
   "outputs": [
    {
     "name": "stdout",
     "output_type": "stream",
     "text": [
      "1999\n",
      "卯\n"
     ]
    }
   ],
   "source": [
    "\n",
    "\n"
   ]
  },
  {
   "cell_type": "markdown",
   "metadata": {},
   "source": [
    "----\n",
    "----\n",
    "----\n",
    "----\n",
    "----\n",
    "----\n",
    "----\n",
    "----"
   ]
  },
  {
   "cell_type": "markdown",
   "metadata": {},
   "source": [
    "### 問題7\n",
    "# チューリップｘ5 (13点)\n",
    "- ゆるるくんは、花壇に5本のチューリップの球根を植えました。色は赤、白、黄、桃、紫のいずれかです。\n",
    "- 球根の状態から購入したのですが、またもや何色かを気にせずに購入してしまったため、咲いてみるまで色がわかりません。\n",
    "- 実際に咲いたときの色に応じたゆるるくんの感想を出力してください。\n",
    "- 色の値が漢字で入力されます。入力は $ C_1 \\quad C_2 \\quad C_3 \\quad C_4 \\quad C_5 $ で与えられます。\n",
    "- 5本とも同じ色の場合は全部同じ色であることを出力してください。\n",
    "  - 例：全部赤の場合は「全部赤！」\n",
    "- すべての色が異なる場合は「キレイだなぁ〜」と出力してください。\n",
    "- 全て同じ色でもなく、かつ全て違う色でもない場合は、購入していない色を出力してください。\n",
    "  - 例：白と黄を購入していない場合は「白と黄が欲しいなぁ〜」"
   ]
  },
  {
   "cell_type": "markdown",
   "metadata": {},
   "source": [
    "### 制約\n",
    "$ Ci $は'赤','白','黄','桃','紫'のいずれかからなる文字"
   ]
  },
  {
   "cell_type": "markdown",
   "metadata": {},
   "source": [
    "### 入力\n",
    "入力は以下の形式で標準入力から与えられます\n",
    "\n",
    "---\n",
    "$ C_1 \\quad C_2 \\quad C_3 \\quad C_4 \\quad C_5 $\n",
    "\n",
    "---\n",
    "\n",
    "チューリップの色 $ C_i $ を受け取ります"
   ]
  },
  {
   "cell_type": "markdown",
   "metadata": {},
   "source": [
    "### 出力\n",
    "\n",
    "全て同じ色のときは「全部$ C_i $！」と出力せよ。  \n",
    "全て違う色のときは「キレイだなぁ〜」と出力せよ。  \n",
    "全て同じ色でもなく、かつ全て違う色でもない場合\n",
    "- 購入していない色が1つの場合($ C_{n} $)は「$ C_{n} $が欲しいなぁ〜」と出力せよ。  \n",
    "- 購入していない色が2つの場合($ C_{n1}, C_{n2} $)は「$ C_{n1} $と$ C_{n2} $が欲しいなぁ〜」と出力せよ。  \n",
    "- 購入していない色が3つの場合($ C_{n1}, C_{n2}, C_{n3} $)は「$ C_{n1} $と$ C_{n2} $と$ C_{n3} $が欲しいなぁ〜」と出力せよ。  "
   ]
  },
  {
   "cell_type": "markdown",
   "metadata": {},
   "source": [
    "----\n",
    "----\n",
    "\n",
    "### 入力例1\n",
    "```python\n",
    "赤　赤　赤　赤　赤　\n",
    "```\n",
    "\n",
    "### 出力例1\n",
    "```python\n",
    "全部赤！\n",
    "```\n",
    "- 全て同じ色のため「全部赤！」と出力してください。"
   ]
  },
  {
   "cell_type": "markdown",
   "metadata": {},
   "source": [
    "----\n",
    "----\n",
    "\n",
    "### 入力例2\n",
    "```python\n",
    "赤 白 黄 桃 紫\n",
    "```\n",
    "\n",
    "### 出力例2\n",
    "```python\n",
    "キレイだなぁ〜\n",
    "```\n",
    "- 全て違う色のため「キレイだなぁ〜」と出力してください。"
   ]
  },
  {
   "cell_type": "markdown",
   "metadata": {},
   "source": [
    "----\n",
    "----\n",
    "\n",
    "### 入力例3\n",
    "```python\n",
    "赤 白 白 桃 紫\n",
    "```\n",
    "\n",
    "### 出力例3\n",
    "```python\n",
    "黄が欲しいなぁ〜\n",
    "```\n",
    "- 全て同じ色でもなく、かつ全て違う色でもないため、未購入の色（黄）を用いて「黄が欲しいなぁ〜」と出力してください。"
   ]
  },
  {
   "cell_type": "markdown",
   "metadata": {},
   "source": [
    "----\n",
    "----\n",
    "\n",
    "### 入力例4\n",
    "```python\n",
    "赤 白 白 桃 桃\n",
    "```\n",
    "\n",
    "### 出力例4\n",
    "```python\n",
    "黄と紫が欲しいなぁ〜\n",
    "```\n",
    "- 全て同じ色でもなく、かつ全て違う色でもないため、未購入の色（黄、紫）を用いて「黄と紫が欲しいなぁ〜」と出力してください。"
   ]
  },
  {
   "cell_type": "markdown",
   "metadata": {},
   "source": [
    "----\n",
    "----\n",
    "\n",
    "### 入力例5\n",
    "```python\n",
    "紫 白 紫 白 白\n",
    "```\n",
    "\n",
    "### 出力例5\n",
    "```python\n",
    "赤と黄と桃が欲しいなぁ〜\n",
    "```\n",
    "- 全て同じ色でもなく、かつ全て違う色でもないため、未購入の色（赤、黄、桃）を用いて「赤と黄と桃が欲しいなぁ〜」と出力してください。"
   ]
  },
  {
   "cell_type": "markdown",
   "metadata": {},
   "source": [
    "----\n",
    "----\n",
    "### ここ↓にPythonコードを記述してください"
   ]
  },
  {
   "cell_type": "code",
   "execution_count": 15,
   "metadata": {},
   "outputs": [
    {
     "name": "stdout",
     "output_type": "stream",
     "text": [
      "紫 白 紫 白 白\n",
      "赤と桃と黄が欲しいなぁ〜\n"
     ]
    }
   ],
   "source": [
    "\n",
    "\n",
    "\n"
   ]
  },
  {
   "cell_type": "markdown",
   "metadata": {},
   "source": [
    "----\n",
    "----\n",
    "----\n",
    "----\n",
    "----\n",
    "----\n",
    "----\n",
    "----"
   ]
  },
  {
   "cell_type": "markdown",
   "metadata": {},
   "source": [
    "### 問題8\n",
    "# オリンピックカウント (13点)"
   ]
  },
  {
   "cell_type": "markdown",
   "metadata": {},
   "source": [
    "- 近代オリンピックは、1896年以降戦争による中止および新型コロナウイルスによる延期を除いて４年毎に実施されています。\n",
    "- 西暦の開始年を　$ Y_s $  終了年を $ Y_e $ で与えられる時、合計のオリンピック開催回数を求めて出力してください。\n",
    "\n",
    "#### 夏季オリンピックの開催年について\n",
    "- 以下の年は世界大戦の影響で夏季オリンピック未開催です\n",
    "  - 第一次世界大戦 1916年\n",
    "  - 第二次世界大戦 1940年、1944年\n",
    "- また、以下の年は夏季オリンピックが翌年に延期されています\n",
    "  - 2020年　東京オリンピック\n",
    "\n",
    "#### オリンピックの開催回数について\n",
    "- 対象は夏季オリンピックのみとします。\n",
    "- 西暦は1582年〜9999年で与えられることとします。\n",
    "- 未来の夏季オリンピックについては、未開催や延期はされない前提とします。"
   ]
  },
  {
   "cell_type": "markdown",
   "metadata": {},
   "source": [
    "### 制約\n",
    "\n",
    "$\n",
    "1582 \\leqq Y_s \\leqq 9999 \\qquad ※Y_s は整数  \\\\\n",
    "1582 \\leqq Y_e \\leqq 9999 \\qquad ※Y_e は整数  \\\\\n",
    "Y_s < Y_e \\qquad ※Y_e は必ず Y_s より大きい  \\\\\n",
    "$"
   ]
  },
  {
   "cell_type": "markdown",
   "metadata": {},
   "source": [
    "### 入力\n",
    "入力は以下の形式で標準入力から与えられます\n",
    "\n",
    "---\n",
    "$ Y_s \\quad Y_e $\n",
    "\n",
    "---\n"
   ]
  },
  {
   "cell_type": "markdown",
   "metadata": {},
   "source": [
    "### 出力\n",
    "\n",
    "---\n",
    "合計の開催回数\n",
    "\n",
    "---\n",
    "合計の開催回数を求めて出力してください。"
   ]
  },
  {
   "cell_type": "markdown",
   "metadata": {},
   "source": [
    "----\n",
    "----\n",
    "\n",
    "### 入力例1\n",
    "```python\n",
    "1582 2023\n",
    "\n",
    "```\n",
    "\n",
    "\n",
    "### 出力例1\n",
    "```python\n",
    "29\n",
    "\n",
    "```\n",
    "- オリンピックは2023年まで29回開催されているため、29と出力します。"
   ]
  },
  {
   "cell_type": "markdown",
   "metadata": {},
   "source": [
    "----\n",
    "----\n",
    "\n",
    "### 入力例2\n",
    "```python\n",
    "1582 2024\n",
    "\n",
    "```\n",
    "\n",
    "\n",
    "### 出力例2\n",
    "```python\n",
    "30\n",
    "\n",
    "```\n",
    "- オリンピックは2024年に開催予定のため、今年を含めると30となります。"
   ]
  },
  {
   "cell_type": "markdown",
   "metadata": {},
   "source": [
    "----\n",
    "----\n",
    "\n",
    "### 入力例3\n",
    "```python\n",
    "1937 1947\n",
    "\n",
    "```\n",
    "\n",
    "\n",
    "### 出力例3\n",
    "```python\n",
    "0\n",
    "\n",
    "```\n",
    "- 第二次世界大戦の影響でこの10年間はまったく開催されていないため、0となります。"
   ]
  },
  {
   "cell_type": "markdown",
   "metadata": {},
   "source": [
    "----\n",
    "----\n",
    "\n",
    "### 入力例4\n",
    "```python\n",
    "1582 1900\n",
    "\n",
    "```\n",
    "\n",
    "\n",
    "### 出力例4\n",
    "```python\n",
    "2\n",
    "\n",
    "```\n",
    "- 近代オリンピックは、1896年以降から開催されているため、1582年〜1900年の開催回数は2回となります"
   ]
  },
  {
   "cell_type": "markdown",
   "metadata": {},
   "source": [
    "----\n",
    "----\n",
    "\n",
    "### ここ↓にPythonコードを記述してください"
   ]
  },
  {
   "cell_type": "code",
   "execution_count": 23,
   "metadata": {},
   "outputs": [
    {
     "name": "stdout",
     "output_type": "stream",
     "text": [
      "1582 2024\n",
      "30\n"
     ]
    }
   ],
   "source": [
    "\n",
    "\n",
    "\n"
   ]
  },
  {
   "cell_type": "markdown",
   "metadata": {},
   "source": [
    "----\n",
    "----\n",
    "----\n",
    "----\n",
    "----\n",
    "----\n",
    "----\n",
    "----"
   ]
  },
  {
   "cell_type": "code",
   "execution_count": null,
   "metadata": {},
   "outputs": [],
   "source": []
  }
 ],
 "metadata": {
  "colab": {
   "authorship_tag": "ABX9TyMOtB7OiTVLb+yu2KoVwjto",
   "include_colab_link": true,
   "provenance": []
  },
  "kernelspec": {
   "display_name": "Python 3 (ipykernel)",
   "language": "python",
   "name": "python3"
  },
  "language_info": {
   "codemirror_mode": {
    "name": "ipython",
    "version": 3
   },
   "file_extension": ".py",
   "mimetype": "text/x-python",
   "name": "python",
   "nbconvert_exporter": "python",
   "pygments_lexer": "ipython3",
   "version": "3.10.13"
  }
 },
 "nbformat": 4,
 "nbformat_minor": 1
}
