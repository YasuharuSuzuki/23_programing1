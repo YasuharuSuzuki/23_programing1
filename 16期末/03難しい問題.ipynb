{
 "cells": [
  {
   "cell_type": "markdown",
   "metadata": {
    "colab_type": "text",
    "id": "view-in-github"
   },
   "source": [
    "<a href=\"https://colab.research.google.com/github/YasuharuSuzuki/23_programing1/blob/main/\" target=\"_parent\"><img src=\"https://colab.research.google.com/assets/colab-badge.svg\" alt=\"Open In Colab\"/></a>"
   ]
  },
  {
   "cell_type": "markdown",
   "metadata": {},
   "source": [
    "### 問題9\n",
    "# 駄菓子屋100 (20点)\n",
    "- ゆるるくんは100円だけたくさん持って駄菓子屋へ行きました。\n",
    "- 雑多に置かれた駄菓子を $ N $ 個掴みましたが、そのうちの $ S $ 番目〜 $ E $ 番目までを買うことにしました。\n",
    "- 各駄菓子の値段が $ D_1 $ 〜 $ D_N $ で表される時、駄菓子を購入するのに必要な100円玉の枚数 $ A $ と、お釣りの金額 $ R$ を出力せよ"
   ]
  },
  {
   "cell_type": "markdown",
   "metadata": {},
   "source": [
    "### 制約\n",
    "$ 1 \\leq　N \\leq　10 $   \n",
    "$ 1 \\leq　S \\leq　N $   \n",
    "$ S \\leq　E \\leq　N $   \n",
    "$ 5 \\leq　D_i \\leq　100 $   \n",
    "$ 1 \\leq　A \\leq　10 $   \n",
    "$ 0 \\leq　R \\leq　99 $   \n",
    "$ N $、$ S $、$ E $ 、$ D_i $ 、$ A $ 、$ R $ はそれぞれ整数  "
   ]
  },
  {
   "cell_type": "markdown",
   "metadata": {},
   "source": [
    "### 入力\n",
    "入力は以下の形式で標準入力から与えられます\n",
    "\n",
    "---\n",
    "$\n",
    "N \\quad S \\quad E \\\\\n",
    "D_1 \\quad D_2 \\quad ... \\quad D_N \\\\\n",
    "$\n",
    "\n",
    "---\n",
    "\n",
    "１行目で掴んだ駄菓子の個数$ N $、買うことにした範囲（$ S $、$ E $）を受け取ります。  \n",
    "２行目では各駄菓子の値段 $ D_1 $ 〜 $ D_N $ を受け取ります。  "
   ]
  },
  {
   "cell_type": "markdown",
   "metadata": {},
   "source": [
    "### 出力\n",
    "\n",
    "---\n",
    "$ A \\quad　R $   \n",
    "  \n",
    "---\n",
    "\n",
    "駄菓子を購入するのに必要な100円玉の枚数 $ A $ と、おつり $ R $ を出力してください。"
   ]
  },
  {
   "cell_type": "markdown",
   "metadata": {},
   "source": [
    "----\n",
    "----\n",
    "\n",
    "### 入力例1\n",
    "```python\n",
    "10 2 9\n",
    "50 60 70 80 90 100 80 90 70 60\n",
    "```\n",
    "- １行目で掴んだ駄菓子の個数$ N=10 $、買うことにした範囲（$ S=2 $、$ E=9 $）を受け取ります。  \n",
    "- ２行目では各駄菓子の値段 $ D_1=50 $ 〜 $ D_{10}=60 $ を受け取ります。  \n",
    "\n",
    "### 出力例1\n",
    "```python\n",
    "7 60\n",
    "```\n",
    "- $ D_2 $ 〜 $ D_{9} $ の合計値は $ 640 $です。\n",
    "  - $ 60+70+80+90+100+80+90+70 = 640 $\n",
    "- 合計値を100円で割り算し、必要な個数を求めると答えは$ 7 $となります。\n",
    "- おつりは $ 60 $ です。"
   ]
  },
  {
   "cell_type": "markdown",
   "metadata": {},
   "source": [
    "----\n",
    "----\n",
    "\n",
    "### 入力例2\n",
    "```python\n",
    "6 2 5\n",
    "50 60 70 80 90 100\n",
    "```\n",
    "- １行目で掴んだ駄菓子の個数$ N=6 $、買うことにした範囲（$ S=2 $、$ E=5 $）を受け取ります。  \n",
    "- ２行目では各駄菓子の値段 $ D_1=50 $ 〜 $ D_{6}=100 $ を受け取ります。  \n",
    "\n",
    "### 出力例2\n",
    "```python\n",
    "3 0\n",
    "```\n",
    "- $ D_2 $ 〜 $ D_{5} $ の合計値は $ 300 $です。\n",
    "  - $ 60+70+80+90 = 300 $\n",
    "- 合計値を100円で割り算し、必要な個数を求めると答えは$ 3 $となります。\n",
    "- おつりは $ 0 $ です。"
   ]
  },
  {
   "cell_type": "markdown",
   "metadata": {},
   "source": [
    "----\n",
    "----\n",
    "\n",
    "### ここ↓にPythonコードを記述してください"
   ]
  },
  {
   "cell_type": "code",
   "execution_count": 2,
   "metadata": {},
   "outputs": [
    {
     "name": "stdout",
     "output_type": "stream",
     "text": [
      "6 2 5\n",
      "50 60 70 80 90 100\n",
      "3 0\n"
     ]
    }
   ],
   "source": [
    "\n",
    "\n"
   ]
  },
  {
   "cell_type": "markdown",
   "metadata": {},
   "source": [
    "----\n",
    "----\n",
    "----\n",
    "----\n",
    "----\n",
    "----\n",
    "----\n",
    "----"
   ]
  },
  {
   "cell_type": "markdown",
   "metadata": {},
   "source": [
    "### 問題10\n",
    "# 回転数 (20点)\n",
    "フィギュアスケートでは４回転までの回転数と６種類のジャンプをあわせて演技構成を表記します。  \n",
    "例えば\"3T\"は、3回転のトウループであることを示しています。  \n",
    "\n",
    "６種類のジャンプそれぞれの表記は以下のように決まっています。  \n",
    "- アクセル(A)\n",
    "- ルッツ(Lz)\n",
    "- フリップ(F)\n",
    "- ループ(Lo)\n",
    "- サルコウ(S)\n",
    "- トウループ(T)\n",
    "\n",
    "また、コンビネーションジャンプという２つまたは３つ連続で飛ぶジャンプがあり、各ジャンプをプラス記号を組み合わせて表記します。  \n",
    "例えば、\"4T+3T\"は4回転トウループと3回転トウループのコンビネーションジャンプとなります。  \n",
    "３連続のコンビネーションジャンプではオイラージャンプというジャンプが入ることがあり、以下のように表記します  \n",
    "- オイラー(Eu)  \n",
    "もともとループジャンプの一種ですが、国際スケート連盟の表記で上記のように別記することになっています。  \n",
    "  \n",
    "2023年現在、フリー演技のジャンプは７つまでと決まっています。  \n",
    "各ジャンプの文字列が上記ルールで与えられる時、フリー演技の回転数の合計値を求めて出力してください。  \n",
    "ただしアクセルジャンプのみ前向きにジャンプして後ろ向きに着地するため、回転数は+0.5として計算してください。  "
   ]
  },
  {
   "cell_type": "markdown",
   "metadata": {},
   "source": [
    "### 制約\n",
    "$\n",
    "回転数は正の実数（小数部は小数点第一位までとし、第二位以下は切り捨てとする） \\\\\n",
    "$"
   ]
  },
  {
   "cell_type": "markdown",
   "metadata": {},
   "source": [
    "### 入力\n",
    "入力は以下の形式で標準入力から与えられます\n",
    "\n",
    "---\n",
    "$\n",
    "S_1  \\\\\n",
    "S_2  \\\\\n",
    "  :  \\\\\n",
    "S_7  \\\\\n",
    "$\n",
    "\n",
    "---\n",
    "\n",
    "ジャンプの文字列を７つ受け取ります。"
   ]
  },
  {
   "cell_type": "markdown",
   "metadata": {},
   "source": [
    "### 出力\n",
    "\n",
    "---\n",
    "$\n",
    "R  \\\\\n",
    "$\n",
    "\n",
    "---\n",
    "求めた回転数を出力してください。"
   ]
  },
  {
   "cell_type": "markdown",
   "metadata": {},
   "source": [
    "----\n",
    "----\n",
    "\n",
    "### 入力例 1\n",
    "\n",
    "```python\n",
    "4S\n",
    "4T+3T\n",
    "4T\n",
    "3A+1Eu+3S\n",
    "3A\n",
    "3F+2A\n",
    "3Lz\n",
    "\n",
    "```\n",
    "\n",
    "### 出力例 1\n",
    "\n",
    "```python\n",
    "34.5\n",
    "```\n",
    "- 4回転ジャンプが３回、３回転ジャンプが6回、2回転と1回転がそれぞれ1回ずつあり、ここまでを足し合わせると33回転となります。\n",
    "- さらにアクセルジャンプが３回あるため 0.5x3=1.5 を足し合わせて34.5回転となります"
   ]
  },
  {
   "cell_type": "markdown",
   "metadata": {},
   "source": [
    "----\n",
    "----\n",
    "\n",
    "### 入力例 2\n",
    "\n",
    "```python\n",
    "4Lz\n",
    "4T+3T\n",
    "3A+1Eu+3S\n",
    "4T\n",
    "3A\n",
    "3F+2T\n",
    "3Lo\n",
    "\n",
    "```\n",
    "\n",
    "### 出力例 2\n",
    "\n",
    "```python\n",
    "34.0\n",
    "```\n",
    "- 4回転ジャンプが３回、３回転ジャンプが6回、2回転と1回転がそれぞれ1回ずつあり、ここまでを足し合わせると33回転となります。\n",
    "- さらにアクセルジャンプが３回あるため 0.5x2=1.0 を足し合わせて34.0回転となります"
   ]
  },
  {
   "cell_type": "markdown",
   "metadata": {},
   "source": [
    "----\n",
    "----\n",
    "\n",
    "### 入力例 3\n",
    "\n",
    "```python\n",
    "4A\n",
    "4S\n",
    "3A+3Lo\n",
    "3F\n",
    "4T+3T\n",
    "4T+1Eu+3S\n",
    "3A\n",
    "\n",
    "```\n",
    "\n",
    "### 出力例 3\n",
    "\n",
    "```python\n",
    "36.5\n",
    "```\n",
    "- 4回転ジャンプが4回、３回転ジャンプが6回、1回転が1回あり、ここまでを足し合わせると35回転となります。\n",
    "- さらにアクセルジャンプが３回あるため 0.5x3=1.5 を足し合わせて36.5回転となります"
   ]
  },
  {
   "cell_type": "markdown",
   "metadata": {},
   "source": [
    "----\n",
    "----\n",
    "\n",
    "### ここ↓にPythonコードを記述してください"
   ]
  },
  {
   "cell_type": "code",
   "execution_count": 3,
   "metadata": {},
   "outputs": [
    {
     "name": "stdout",
     "output_type": "stream",
     "text": [
      "4A\n",
      "4S\n",
      "3A+3Lo\n",
      "3F\n",
      "4T+3T\n",
      "4T+1Eu+3S\n",
      "3A\n",
      "36.5\n"
     ]
    }
   ],
   "source": [
    "\n",
    "\n",
    "\n"
   ]
  },
  {
   "cell_type": "markdown",
   "metadata": {},
   "source": [
    "----\n",
    "----\n",
    "----\n",
    "----\n",
    "----\n",
    "----\n",
    "----\n",
    "----"
   ]
  }
 ],
 "metadata": {
  "colab": {
   "authorship_tag": "ABX9TyMOtB7OiTVLb+yu2KoVwjto",
   "include_colab_link": true,
   "provenance": []
  },
  "kernelspec": {
   "display_name": "Python 3 (ipykernel)",
   "language": "python",
   "name": "python3"
  },
  "language_info": {
   "codemirror_mode": {
    "name": "ipython",
    "version": 3
   },
   "file_extension": ".py",
   "mimetype": "text/x-python",
   "name": "python",
   "nbconvert_exporter": "python",
   "pygments_lexer": "ipython3",
   "version": "3.10.13"
  }
 },
 "nbformat": 4,
 "nbformat_minor": 1
}
