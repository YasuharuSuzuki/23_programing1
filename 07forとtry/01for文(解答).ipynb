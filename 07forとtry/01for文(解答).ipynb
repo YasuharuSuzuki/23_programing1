{
 "cells": [
  {
   "cell_type": "markdown",
   "metadata": {
    "colab_type": "text",
    "id": "view-in-github"
   },
   "source": [
    "<a href=\"https://colab.research.google.com/github/YasuharuSuzuki/23_programing1/blob/main/\" target=\"_parent\"><img src=\"https://colab.research.google.com/assets/colab-badge.svg\" alt=\"Open In Colab\"/></a>"
   ]
  },
  {
   "cell_type": "markdown",
   "metadata": {},
   "source": [
    "# Section 5-3 for文(教科書P.121)\n",
    "処理を繰り返す"
   ]
  },
  {
   "cell_type": "markdown",
   "metadata": {},
   "source": [
    "## for文 参考サイト\n",
    "## [参考サイト1 【Python早見表】 for文（反復処理）](https://chokkan.github.io/python/03control.html#for)\n",
    "- for文、continue文、break文、for-else文が簡単にわかりやすく説明されています。\n",
    "\n",
    "## [参考サイト2 【Python入門】for文による繰り返し](https://utokyo-ipp.github.io/3/3-2.html#for%E6%96%87%E3%81%AB%E3%82%88%E3%82%8B%E7%B9%B0%E3%82%8A%E8%BF%94%E3%81%97)\n",
    "- こちらはfor文を中心に解説されているのでfor文を学んでから見ると良いでしょう。練習問題もあります。"
   ]
  },
  {
   "cell_type": "markdown",
   "metadata": {},
   "source": [
    "## 5-3-1 for文\n",
    "- 条件に応じて繰り返し処理を実行するにはfor文を使います。（教科書と例題が違うので注意）\n",
    "- [Python早見表の説明](https://chokkan.github.io/python/03control.html#for)\n",
    "- 前回学んだwhile文も同じ繰り返し処理ですが、私はfor文の方が使用回数は多いと思います。\n",
    "  - 使った回数をカウントしたわけではありませんが、繰り返し回数が明確になっていない処理ではwhileを使用することが多い気がします。\n",
    "  - 逆に繰り返し回数が明確になっている処理（AIの学習用画像の一括読み込みや、AIの学習処理など）はfor文を使うことが多いです。"
   ]
  },
  {
   "cell_type": "markdown",
   "metadata": {},
   "source": [
    "### サンプルプログラム1\n",
    "countを0で初期化し、5回繰り返すプログラム"
   ]
  },
  {
   "cell_type": "code",
   "execution_count": 1,
   "metadata": {},
   "outputs": [
    {
     "name": "stdout",
     "output_type": "stream",
     "text": [
      "for開始！\n",
      "for繰り返し中！ (count=0)\n",
      "for繰り返し中！ (count=1)\n",
      "for繰り返し中！ (count=2)\n",
      "for繰り返し中！ (count=3)\n",
      "for繰り返し中！ (count=4)\n",
      "for終了！\n"
     ]
    }
   ],
   "source": [
    "print(\"for開始！\")\n",
    "for count in range(5):\n",
    "    print(f\"for繰り返し中！ (count={count})\")\n",
    "print(\"for終了！\")"
   ]
  },
  {
   "cell_type": "markdown",
   "metadata": {},
   "source": [
    "### 説明\n",
    "- \"for開始!\"でプログラムを開始しています\n",
    "- countが5になるまでの間、\"for繰り返し中！\"が実行されます。\n",
    "- countが5になると条件が満たされなくなり、forループを抜けて\"for終了！\"と表示されます\n",
    "- while文と比較するとだいぶスッキリ書けます"
   ]
  },
  {
   "cell_type": "markdown",
   "metadata": {},
   "source": [
    "### 練習プログラム1 (0.5点)\n",
    "- input()でループ回数を数字で受け取り、その回数分ループするプログラムを作成しましょう\n",
    "- サンプルプログラム１をベースに開始や繰り返し中、終了などを表示します"
   ]
  },
  {
   "cell_type": "code",
   "execution_count": 2,
   "metadata": {},
   "outputs": [
    {
     "name": "stdout",
     "output_type": "stream",
     "text": [
      "7\n",
      "for開始！ (loop_count=7)\n",
      "for繰り返し中！ (count=0)\n",
      "for繰り返し中！ (count=1)\n",
      "for繰り返し中！ (count=2)\n",
      "for繰り返し中！ (count=3)\n",
      "for繰り返し中！ (count=4)\n",
      "for繰り返し中！ (count=5)\n",
      "for繰り返し中！ (count=6)\n",
      "for終了！\n"
     ]
    }
   ],
   "source": [
    "loop_count = int(input())\n",
    "print(f\"for開始！ (loop_count={loop_count})\")\n",
    "for count in range(loop_count):\n",
    "    print(f\"for繰り返し中！ (count={count})\")\n",
    "print(\"for終了！\")"
   ]
  },
  {
   "cell_type": "markdown",
   "metadata": {},
   "source": [
    "### 動作確認\n",
    "- 最初にinputでループ回数を取得します。\n",
    "- \"for開始!\"でプログラムを開始します。その時にループ回数も表示しましょう\n",
    "- countがループ回数になるまでの間、\"for繰り返し中！\"が実行されます。\n",
    "- countがループ回数に達すると条件が満たされなくなり、forループを抜けて\"for終了！\"と表示されます\n",
    "- マイナス値を入力すると１回も実行されないことも確認してみましょう\n",
    "- 1万など大きな値を入力すると実行に時間がかかることも確認しましょう（計算量を意識しましょう）"
   ]
  },
  {
   "cell_type": "markdown",
   "metadata": {},
   "source": [
    "### 練習プログラム2 (0.5点)\n",
    "- for文では in の後ろにリストを渡すと、そのリストが終わるまでループすることが出来ます\n",
    "- [\"blue\",\"pink\",\"green\",\"red\"]というリストを宣言し、サンプルプログラム１をベースに開始や繰り返し中、終了などを表示してみましょう"
   ]
  },
  {
   "cell_type": "code",
   "execution_count": 5,
   "metadata": {},
   "outputs": [
    {
     "name": "stdout",
     "output_type": "stream",
     "text": [
      "for開始！\n",
      "for繰り返し中！ (color=blue)\n",
      "for繰り返し中！ (color=pink)\n",
      "for繰り返し中！ (color=green)\n",
      "for繰り返し中！ (color=red)\n",
      "for終了！\n"
     ]
    }
   ],
   "source": [
    "colors = [\"blue\",\"pink\",\"green\",\"red\"]\n",
    "print(\"for開始！\")\n",
    "for color in colors:\n",
    "    print(f\"for繰り返し中！ (color={color})\")\n",
    "print(\"for終了！\")"
   ]
  },
  {
   "cell_type": "markdown",
   "metadata": {},
   "source": [
    "## 5-2-2 break文(教科書P.125)\n",
    "- while文同様にfor文による繰り返し実行中にbreak文を実行すると、以降の処理を実行せずに繰り返しを終了します。（教科書と例題が違うので注意）\n",
    "- 終了条件をループ文中に好きなだけ追加できるため、比較的よく使用します。"
   ]
  },
  {
   "cell_type": "markdown",
   "metadata": {},
   "source": [
    "### サンプルプログラム2\n",
    "countが3になるとbreak文を実行し、繰り返しを終了します。"
   ]
  },
  {
   "cell_type": "code",
   "execution_count": 6,
   "metadata": {},
   "outputs": [
    {
     "name": "stdout",
     "output_type": "stream",
     "text": [
      "for開始！\n",
      "for繰り返し中！ (count=0)\n",
      "for繰り返し中！ (count=1)\n",
      "for繰り返し中！ (count=2)\n",
      "for繰り返し中！ (count=3)\n",
      "break実行！ループを抜けます (count=3)\n",
      "for終了！\n"
     ]
    }
   ],
   "source": [
    "print(\"for開始！\")\n",
    "for count in range(9):\n",
    "    print(f\"for繰り返し中！ (count={count})\")\n",
    "    if count >= 3:\n",
    "        print(f\"break実行！ループを抜けます (count={count})\")\n",
    "        break\n",
    "print(\"for終了！\")"
   ]
  },
  {
   "cell_type": "markdown",
   "metadata": {},
   "source": [
    "### 説明\n",
    "- \"for開始!\"でプログラムを開始しています\n",
    "- countが3になるまでの間、\"for繰り返し中！\"が実行されます。\n",
    "- countが3になるとif文の中が実行され、\"break実行！ループを抜けます\"と表示したあと<b>break文を実行</b>してループを抜けます。\n",
    "- forループを抜けたあと\"for終了！\"と表示します。"
   ]
  },
  {
   "cell_type": "markdown",
   "metadata": {},
   "source": [
    "### 練習プログラム3 (0.5点)\n",
    "input()で初期値、ループ回数、break番号を空白区切りで受け取り、サンプルプログラム２のように表示するプログラムを作成してみましょう"
   ]
  },
  {
   "cell_type": "code",
   "execution_count": 8,
   "metadata": {},
   "outputs": [
    {
     "name": "stdout",
     "output_type": "stream",
     "text": [
      "0 5 9\n",
      "for繰り返し中！ (count=0)\n",
      "for繰り返し中！ (count=1)\n",
      "for繰り返し中！ (count=2)\n",
      "for繰り返し中！ (count=3)\n",
      "for繰り返し中！ (count=4)\n",
      "for終了！\n"
     ]
    }
   ],
   "source": [
    "init_num, loop_count, break_num = map(int,input().split())\n",
    "for count in range(init_num, init_num+loop_count):\n",
    "    print(f\"for繰り返し中！ (count={count})\")\n",
    "    if count >= break_num:\n",
    "        print(f\"break実行！ループを抜けます (count={count})\")\n",
    "        break\n",
    "\n",
    "print(\"for終了！\")"
   ]
  },
  {
   "cell_type": "markdown",
   "metadata": {},
   "source": [
    "## 説明\n",
    "- 初期値 < ループ回数　かつ　break番号 < ループ回数 の場合に（break番号-初期値)分ループが繰り返され、breakが実行されます。\n",
    "- 初期値 >= ループ回数の場合、一度もループは実行されません。"
   ]
  },
  {
   "cell_type": "markdown",
   "metadata": {},
   "source": [
    "## 5-2-3 continue文(教科書P.127)\n",
    "- while文同様にfor文による繰り返し実行中にcontinue文を実行すると、以降の処理を実行せずに繰り返し処理を継続します。（教科書と例題が違うので注意）\n",
    "- 比較的複雑なループ文で使うことが多いですかね"
   ]
  },
  {
   "cell_type": "markdown",
   "metadata": {},
   "source": [
    "### サンプルプログラム3\n",
    "- for文中でcountが3の倍数の場合は\"continue実行！\"と表示して<b>continue文を実行</b>し、繰り返し処理を継続します。\n",
    "- countが3倍数以外の時は\"for繰り返し中！\"と表示します。（通常のループ処理を実行)"
   ]
  },
  {
   "cell_type": "code",
   "execution_count": 9,
   "metadata": {},
   "outputs": [
    {
     "name": "stdout",
     "output_type": "stream",
     "text": [
      "for開始！\n",
      "continue実行！ (count=0)\n",
      "for繰り返し中！ (count=1)\n",
      "for繰り返し中！ (count=2)\n",
      "continue実行！ (count=3)\n",
      "for繰り返し中！ (count=4)\n",
      "for繰り返し中！ (count=5)\n",
      "continue実行！ (count=6)\n",
      "for繰り返し中！ (count=7)\n",
      "for繰り返し中！ (count=8)\n",
      "for終了！\n"
     ]
    }
   ],
   "source": [
    "print(\"for開始！\")\n",
    "for count in range(9):\n",
    "    if (count%3) == 0:\n",
    "        print(f\"continue実行！ (count={count})\")\n",
    "        continue\n",
    "    print(f\"for繰り返し中！ (count={count})\")\n",
    "print(\"for終了！\")"
   ]
  },
  {
   "cell_type": "markdown",
   "metadata": {},
   "source": [
    "### 練習プログラム4 (0.5点)\n",
    "input()で初期値、ループ回数、continue倍数を空白区切りで受け取り、サンプルプログラム３のように表示するプログラムを作成してみましょう"
   ]
  },
  {
   "cell_type": "code",
   "execution_count": 10,
   "metadata": {},
   "outputs": [
    {
     "name": "stdout",
     "output_type": "stream",
     "text": [
      "1 8 4\n",
      "for開始！\n",
      "for繰り返し中！ (count=1)\n",
      "for繰り返し中！ (count=2)\n",
      "for繰り返し中！ (count=3)\n",
      "continue実行！ (count=4)\n",
      "for繰り返し中！ (count=5)\n",
      "for繰り返し中！ (count=6)\n",
      "for繰り返し中！ (count=7)\n",
      "continue実行！ (count=8)\n",
      "for終了！\n"
     ]
    }
   ],
   "source": [
    "init_num, loop_count, continue_pow = map(int,input().split())\n",
    "print(\"for開始！\")\n",
    "for count in range(init_num, init_num+loop_count):\n",
    "    if (count%continue_pow) == 0:\n",
    "        print(f\"continue実行！ (count={count})\")\n",
    "        continue\n",
    "    print(f\"for繰り返し中！ (count={count})\")\n",
    "print(\"for終了！\")"
   ]
  },
  {
   "cell_type": "markdown",
   "metadata": {},
   "source": [
    "- continue倍の時だけcontinueが実行され、すぐに次のループを実行します。"
   ]
  },
  {
   "cell_type": "markdown",
   "metadata": {},
   "source": [
    "## 5-2-4 for 〜 else文(教科書P.130)\n",
    "- while文同様にfor文による繰り返しを終了した後で実行する処理をelseブロックにて記述することが出来ます。（教科書と例題が違うので注意）\n",
    "- break文によってループを中断した時はelseブロックは実行されません。\n",
    "- 普段ほとんど使用しませんが、ループを全部終わらせた時や、最初の条件に見合わない可能性がある時に使うことがあります。"
   ]
  },
  {
   "cell_type": "markdown",
   "metadata": {},
   "source": [
    "### サンプルプログラム4\n",
    "- input()でbreak番号を受け取り、サンプルプログラム２のように表示するプログラムを作成してみましょう\n",
    "- for文中でcountがbreak番号以上の場合は\"break実行！ループを抜けます\"と表示して<b>break文を実行</b>し、繰り返し処理を終了します。\n",
    "- breakしない間は\"for繰り返し中！\"と表示します。（通常のループ処理を実行)\n",
    "- breakせずにループを終了した場合は\"for 〜 elseブロック実行！\"と表示します"
   ]
  },
  {
   "cell_type": "code",
   "execution_count": 12,
   "metadata": {},
   "outputs": [
    {
     "name": "stdout",
     "output_type": "stream",
     "text": [
      "4\n",
      "for開始！\n",
      "for繰り返し中！ (count=0)\n",
      "for繰り返し中！ (count=1)\n",
      "for繰り返し中！ (count=2)\n",
      "for繰り返し中！ (count=3)\n",
      "break実行！ループを抜けます (count=4)\n",
      "for終了！\n"
     ]
    }
   ],
   "source": [
    "break_num = int(input())\n",
    "print(\"for開始！\")\n",
    "for count in range(5):\n",
    "    if count >= break_num:\n",
    "        print(f\"break実行！ループを抜けます (count={count})\")\n",
    "        break\n",
    "    print(f\"for繰り返し中！ (count={count})\")\n",
    "else:\n",
    "    print(\"for 〜 elseブロック実行！\")\n",
    "print(\"for終了！\")"
   ]
  },
  {
   "cell_type": "markdown",
   "metadata": {},
   "source": [
    "### 説明\n",
    "- input()にてbreak番号を受け取り、break_numに格納します。\n",
    "- \"for開始!\"でループを開始します\n",
    "- countが5になるまでの間、\"for繰り返し中！\"が実行されます。\n",
    "- break番号が5より小さい場合\n",
    "  - countがbreak番号になるとif文の中が実行され、\"break実行！ループを抜けます\"と表示したあと<b>break文を実行</b>してループを抜けます。\n",
    "  - この時は<b>for 〜 elseブロックが実行されない</b>\n",
    "- break番号が5以上の場合\n",
    "  - この時はbreakが実行されないため<b>for 〜 elseブロックが実行</b>され、\"for 〜 elseブロック実行！\"と表示します。\n",
    "- forループを抜けたあと\"for終了！\"と表示します。"
   ]
  },
  {
   "cell_type": "markdown",
   "metadata": {},
   "source": [
    "### 練習プログラム5 (1.0点)\n",
    "- input()でループ回数、倍数A、倍数Bを空白区切りのint値で受け取ります。\n",
    "- 受け取った各値をprint文で表示します。\n",
    "- countは初期値1から開始し、倍数Aの倍数になった時はFizz、倍数Bの倍数になった時はBuzz、倍数Aと倍数B両方の倍数になった時はFizzBuzzと表示します\n",
    "  - どちらの倍数にもならない場合は\"for繰り返し中！\"と表示します。\n",
    "- FizzBuzzの表示回数をカウントし、5回に達した時は\"break実行！ループを抜けます\"と表示後にbreak文を実行してループを抜けます\n",
    "- break文を実行せずにループを終了した場合は \"for 〜 elseブロック実行！\" と表示します。"
   ]
  },
  {
   "cell_type": "code",
   "execution_count": 16,
   "metadata": {
    "scrolled": true
   },
   "outputs": [
    {
     "name": "stdout",
     "output_type": "stream",
     "text": [
      "60 5 3\n",
      "for開始！ (loop_count=60、pow1=5、pow2=3)\n",
      "for繰り返し中！ (count=1)\n",
      "for繰り返し中！ (count=2)\n",
      "Buzz！ (count=3)\n",
      "for繰り返し中！ (count=4)\n",
      "Fizz！ (count=5)\n",
      "Buzz！ (count=6)\n",
      "for繰り返し中！ (count=7)\n",
      "for繰り返し中！ (count=8)\n",
      "Buzz！ (count=9)\n",
      "Fizz！ (count=10)\n",
      "for繰り返し中！ (count=11)\n",
      "Buzz！ (count=12)\n",
      "for繰り返し中！ (count=13)\n",
      "for繰り返し中！ (count=14)\n",
      "FizzBuzz！ (count=15、fizz_buzz_count=1)\n",
      "for繰り返し中！ (count=16)\n",
      "for繰り返し中！ (count=17)\n",
      "Buzz！ (count=18)\n",
      "for繰り返し中！ (count=19)\n",
      "Fizz！ (count=20)\n",
      "Buzz！ (count=21)\n",
      "for繰り返し中！ (count=22)\n",
      "for繰り返し中！ (count=23)\n",
      "Buzz！ (count=24)\n",
      "Fizz！ (count=25)\n",
      "for繰り返し中！ (count=26)\n",
      "Buzz！ (count=27)\n",
      "for繰り返し中！ (count=28)\n",
      "for繰り返し中！ (count=29)\n",
      "FizzBuzz！ (count=30、fizz_buzz_count=2)\n",
      "for繰り返し中！ (count=31)\n",
      "for繰り返し中！ (count=32)\n",
      "Buzz！ (count=33)\n",
      "for繰り返し中！ (count=34)\n",
      "Fizz！ (count=35)\n",
      "Buzz！ (count=36)\n",
      "for繰り返し中！ (count=37)\n",
      "for繰り返し中！ (count=38)\n",
      "Buzz！ (count=39)\n",
      "Fizz！ (count=40)\n",
      "for繰り返し中！ (count=41)\n",
      "Buzz！ (count=42)\n",
      "for繰り返し中！ (count=43)\n",
      "for繰り返し中！ (count=44)\n",
      "FizzBuzz！ (count=45、fizz_buzz_count=3)\n",
      "for繰り返し中！ (count=46)\n",
      "for繰り返し中！ (count=47)\n",
      "Buzz！ (count=48)\n",
      "for繰り返し中！ (count=49)\n",
      "Fizz！ (count=50)\n",
      "Buzz！ (count=51)\n",
      "for繰り返し中！ (count=52)\n",
      "for繰り返し中！ (count=53)\n",
      "Buzz！ (count=54)\n",
      "Fizz！ (count=55)\n",
      "for繰り返し中！ (count=56)\n",
      "Buzz！ (count=57)\n",
      "for繰り返し中！ (count=58)\n",
      "for繰り返し中！ (count=59)\n",
      "FizzBuzz！ (count=60、fizz_buzz_count=4)\n",
      "for 〜 elseブロック実行！\n",
      "for終了！\n"
     ]
    }
   ],
   "source": [
    "count = 1\n",
    "fizz_buzz_count = 0\n",
    "loop_count, powA, powB = map(int,input().split())\n",
    "powAxB = powA * powB\n",
    "print(f\"for開始！ (loop_count={loop_count}、pow1={powA}、pow2={powB})\")\n",
    "for count in range(count,count+loop_count):\n",
    "    if (count%powAxB) == 0:\n",
    "        fizz_buzz_count += 1\n",
    "        print(f\"FizzBuzz！ (count={count}、fizz_buzz_count={fizz_buzz_count})\")\n",
    "        if fizz_buzz_count == 5:\n",
    "            print(f\"break実行！ループを抜けます (count={count})\")\n",
    "            break\n",
    "    elif (count%powA) == 0:\n",
    "        print(f\"Fizz！ (count={count})\")\n",
    "    elif (count%powB) == 0:\n",
    "        print(f\"Buzz！ (count={count})\")\n",
    "    else:\n",
    "        print(f\"for繰り返し中！ (count={count})\")\n",
    "    count += 1\n",
    "else:\n",
    "    print(\"for 〜 elseブロック実行！\")\n",
    "print(\"for終了！\")"
   ]
  },
  {
   "cell_type": "markdown",
   "metadata": {},
   "source": [
    "## 5-2-5 for文のネスト(教科書ちょっと戻ってP.123)\n",
    "- for文の中にfor文を書くと2重ループのプログラムを書くことが出来ます。"
   ]
  },
  {
   "cell_type": "markdown",
   "metadata": {},
   "source": [
    "### サンプルプログラム5\n",
    "- 2重のリストを表示するプログラムを作成してみます"
   ]
  },
  {
   "cell_type": "code",
   "execution_count": 30,
   "metadata": {},
   "outputs": [
    {
     "name": "stdout",
     "output_type": "stream",
     "text": [
      "list1の1番目の要素（リスト）の1番目の要素 =a\n",
      "list1の1番目の要素（リスト）の2番目の要素 =b\n",
      "list1の1番目の要素（リスト）の3番目の要素 =c\n",
      "list1の2番目の要素（リスト）の1番目の要素 =d\n",
      "list1の2番目の要素（リスト）の2番目の要素 =e\n",
      "list1の2番目の要素（リスト）の3番目の要素 =f\n",
      "list1の3番目の要素（リスト）の1番目の要素 =g\n",
      "list1の3番目の要素（リスト）の2番目の要素 =h\n",
      "list1の3番目の要素（リスト）の3番目の要素 =i\n",
      "list1の4番目の要素（リスト）の1番目の要素 =j\n",
      "list1の4番目の要素（リスト）の2番目の要素 =k\n",
      "list1の4番目の要素（リスト）の3番目の要素 =l\n"
     ]
    }
   ],
   "source": [
    "list1 = [['a', 'b', 'c'], ['d', 'e', 'f'], ['g', 'h', 'i'], ['j', 'k', 'l']]\n",
    "\n",
    "for y in range(4):\n",
    "    for x in range(3):\n",
    "        print(f'list1の{y+1}番目の要素（リスト）の{x+1}番目の要素 = {list1[y][x]}')"
   ]
  },
  {
   "cell_type": "markdown",
   "metadata": {},
   "source": [
    "### 練習プログラム6 (1.0点)\n",
    "- 2重ループを使って”突然の死”ジェネレータを作ってみましょう\n",
    "- [突然の死とは](https://dic.nicovideo.jp/a/%E7%AA%81%E7%84%B6%E3%81%AE%E6%AD%BB)(興味ある方だけ)"
   ]
  },
  {
   "cell_type": "markdown",
   "metadata": {},
   "source": [
    "サンプル「突然の死」"
   ]
  },
  {
   "cell_type": "markdown",
   "metadata": {},
   "source": [
    "＿人人人人人人＿   \n",
    "＞　突然の死　＜   \n",
    "￣Y^Y^Y^Y^Y^￣   "
   ]
  },
  {
   "cell_type": "markdown",
   "metadata": {},
   "source": [
    "- 「突然の死」の部分はinput()で文字列を受け取り、好きな文字を入れることが出来るように作りましょう。\n",
    "- 文字数に応じて上下の文字も増やして表示しましょう\n",
    "- 2重ループを使うために1文字ずつ出力してみましょう"
   ]
  },
  {
   "cell_type": "code",
   "execution_count": 18,
   "metadata": {},
   "outputs": [],
   "source": [
    "# 受け取った文字列のうち、全角文字を2、半角文字を1としてカウントして返す関数\n",
    "# 関数の作成については後の章で学びますので、こちらのプログラムは何も考えずに実行しておいてください\n",
    "import unicodedata\n",
    "\n",
    "def get_east_asian_width_count(text):\n",
    "    count = 0\n",
    "    for char1 in text:\n",
    "        if unicodedata.east_asian_width(char1) in 'FWA':\n",
    "            count += 2\n",
    "        else:\n",
    "            count += 1\n",
    "    return count"
   ]
  },
  {
   "cell_type": "code",
   "execution_count": 31,
   "metadata": {},
   "outputs": [
    {
     "name": "stdout",
     "output_type": "stream",
     "text": [
      "突然の死！\n",
      "＿人人人人人人人＿\n",
      "＞　　　突然の死！　　　＜\n",
      "￣Y^Y^Y^Y^Y^Y^￣\n"
     ]
    }
   ],
   "source": [
    "input_text = input()\n",
    "text_zenkaku_width = (get_east_asian_width_count(input_text) + 1) // 2\n",
    "output_text = [\n",
    "    \"＿人\" + (\"人\"*text_zenkaku_width+2) + \"人＿\",\n",
    "    \"＞　　　\" + input_text + \"　　　＜\",\n",
    "    \"￣Y^\" + (\"Y^\"*text_zenkaku_width+2) + \"￣\"\n",
    "]\n",
    "\n",
    "# 2重ループを使って1文字ずつ出力してみます(for文ひとつでも書けますが、2重ループを使って書いてみましょう)\n",
    "for line1 in output_text:\n",
    "    for char1 in line1:\n",
    "        print(char1,end=\"\") # endを空文字にすることで改行しないようにする\n",
    "    print(\"\") # 1行出力が終わったら改行する"
   ]
  },
  {
   "cell_type": "code",
   "execution_count": null,
   "metadata": {},
   "outputs": [],
   "source": []
  }
 ],
 "metadata": {
  "colab": {
   "authorship_tag": "ABX9TyMOtB7OiTVLb+yu2KoVwjto",
   "include_colab_link": true,
   "provenance": []
  },
  "kernelspec": {
   "display_name": "Python 3 (ipykernel)",
   "language": "python",
   "name": "python3"
  },
  "language_info": {
   "codemirror_mode": {
    "name": "ipython",
    "version": 3
   },
   "file_extension": ".py",
   "mimetype": "text/x-python",
   "name": "python",
   "nbconvert_exporter": "python",
   "pygments_lexer": "ipython3",
   "version": "3.10.12"
  }
 },
 "nbformat": 4,
 "nbformat_minor": 1
}
