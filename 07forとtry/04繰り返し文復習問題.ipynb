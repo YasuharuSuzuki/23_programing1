{
 "cells": [
  {
   "cell_type": "markdown",
   "metadata": {
    "colab_type": "text",
    "id": "view-in-github"
   },
   "source": [
    "<a href=\"https://colab.research.google.com/github/YasuharuSuzuki/22-2nd_programing1/blob/main/09try%E6%96%87/03%E7%B9%B0%E3%82%8A%E8%BF%94%E3%81%97%E6%96%87%E5%BE%A9%E7%BF%92%E5%95%8F%E9%A1%8C.ipynb\" target=\"_parent\"><img src=\"https://colab.research.google.com/assets/colab-badge.svg\" alt=\"Open In Colab\"/></a>"
   ]
  },
  {
   "cell_type": "markdown",
   "metadata": {},
   "source": [
    "# 繰り返し文の復習問題 (1点)\n",
    "- ゆるるくんは”プログラミングNeo”の科目を受けています。\n",
    "- この科目では、期末試験の点数Aの0.5倍(小数点以下切り捨て)が成績Rに反映されます。\n",
    "- また、授業の回数が15回あり、そのうちn回課題提出があります。各課題の点数Hは0〜11点の点数が与えられ、各授業ごとの平均点数 $ \\times 5 $ (小数点以下切り捨て)が成績Rに反映されます。\n",
    "- $ \\frac{\\sum_{i=0}^{n} H_i}{n} \\times 5 $ が50を超えることがありますが、成績Rにはそのまま加点され、Rが100を超えた場合はR=100に丸められます\n",
    "- 成績の点数Rが60点以上の場合は2単位取得でき、60点未満の場合は取得単位は0単位となります。\n",
    "- ゆるるくんが取得した単位数を求めてください。"
   ]
  },
  {
   "cell_type": "markdown",
   "metadata": {},
   "source": [
    "### 制約\n",
    "$$\n",
    "0 \\leqq A \\leqq 100 \\\\ \n",
    "10 \\leqq N \\leqq 15 \\\\\n",
    "0 \\leqq H_i \\leqq 11 \\\\\n",
    "0 \\leqq R \\leqq 100 \\\\\n",
    "$$"
   ]
  },
  {
   "cell_type": "markdown",
   "metadata": {},
   "source": [
    "### 入力\n",
    "入力は以下の形式で標準入力から与えられます\n",
    "\n",
    "---\n",
    "$\n",
    "A \\quad N \\\\\n",
    "H_1 \\quad H_2 \\quad ... \\quad H_N \\\\\n",
    "$\n",
    "\n",
    "---\n",
    "\n",
    "※各値は空白区切りです"
   ]
  },
  {
   "cell_type": "markdown",
   "metadata": {},
   "source": [
    "### 出力\n",
    "ゆるるくんが取得した単位数を出力してください。"
   ]
  },
  {
   "cell_type": "markdown",
   "metadata": {},
   "source": [
    "### 入力例 1\n",
    "\n",
    "| 入力 | 58 12 <br> 9 9 0 8 8 9 0 9 9 8 0 7 |\n",
    "| :--- | :--- |\n",
    "| 出力 | 2 |"
   ]
  },
  {
   "cell_type": "markdown",
   "metadata": {},
   "source": [
    "- 期末試験58点、各課題が9点、9点、0点、8点、8点、9点、0点、9点、9点、8点、0点、7点のゆるるくんは、2単位もらえます"
   ]
  },
  {
   "cell_type": "markdown",
   "metadata": {},
   "source": [
    "### 入力例 2\n",
    "\n",
    "| 入力 | 57 12 <br> 9 9 0 8 8 9 0 9 9 8 0 7 |\n",
    "| :--- | :--- |\n",
    "| 出力 | 0 |"
   ]
  },
  {
   "cell_type": "markdown",
   "metadata": {},
   "source": [
    "- 期末試験57点、各課題が9点、9点、0点、8点、8点、9点、0点、9点、9点、8点、0点、7点のゆるるくんは、単位がもらえず０単位となります"
   ]
  },
  {
   "cell_type": "code",
   "execution_count": 17,
   "metadata": {},
   "outputs": [
    {
     "name": "stdout",
     "output_type": "stream",
     "text": [
      "58 12\n",
      "9 9 0 8 8 9 0 9 9 8 0 7\n",
      "2\n"
     ]
    }
   ],
   "source": []
  },
  {
   "cell_type": "code",
   "execution_count": null,
   "metadata": {},
   "outputs": [],
   "source": []
  }
 ],
 "metadata": {
  "colab": {
   "authorship_tag": "ABX9TyMOtB7OiTVLb+yu2KoVwjto",
   "include_colab_link": true,
   "provenance": []
  },
  "kernelspec": {
   "display_name": "Python 3 (ipykernel)",
   "language": "python",
   "name": "python3"
  },
  "language_info": {
   "codemirror_mode": {
    "name": "ipython",
    "version": 3
   },
   "file_extension": ".py",
   "mimetype": "text/x-python",
   "name": "python",
   "nbconvert_exporter": "python",
   "pygments_lexer": "ipython3",
   "version": "3.10.12"
  }
 },
 "nbformat": 4,
 "nbformat_minor": 1
}
