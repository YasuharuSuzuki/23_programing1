{
 "cells": [
  {
   "cell_type": "markdown",
   "id": "e0f811d1",
   "metadata": {},
   "source": [
    "# 全パターンを出力する"
   ]
  },
  {
   "cell_type": "code",
   "execution_count": 1,
   "id": "b34f8bc4",
   "metadata": {},
   "outputs": [],
   "source": [
    "def output_all(in_file_name, out_file_name):\n",
    "    output_index = 0\n",
    "    gcp = \"GCP\"\n",
    "    Aの勝ち=[\"G C\",\"C P\",\"P G\"]\n",
    "    for a in gcp:\n",
    "        for b in gcp:\n",
    "            input_list = []\n",
    "            output_list = []\n",
    "            ab = f\"{a} {b}\"\n",
    "            input_list.append(ab)\n",
    "            if a == b:\n",
    "                output_list.append(f\"あいこ\")\n",
    "            elif ab in Aの勝ち:\n",
    "                output_list.append(\"Aさんの勝ち\")\n",
    "            else:\n",
    "                output_list.append(\"Bさんの勝ち\")\n",
    "\n",
    "            # ファイル出力\n",
    "            output_index+=1\n",
    "            with open(in_file_name.format(output_index),\"w\") as f_in:\n",
    "                f_in.writelines(input_list)\n",
    "            with open(out_file_name.format(output_index),\"w\") as f_out:\n",
    "                f_out.writelines(output_list)"
   ]
  },
  {
   "cell_type": "code",
   "execution_count": 2,
   "id": "0262501a",
   "metadata": {},
   "outputs": [],
   "source": [
    "output_all(\"data/in{:02}.txt\", \"data/out{:02}.txt\")"
   ]
  },
  {
   "cell_type": "code",
   "execution_count": null,
   "id": "e62e7ce6",
   "metadata": {},
   "outputs": [],
   "source": []
  }
 ],
 "metadata": {
  "kernelspec": {
   "display_name": "Python 3 (ipykernel)",
   "language": "python",
   "name": "python3"
  },
  "language_info": {
   "codemirror_mode": {
    "name": "ipython",
    "version": 3
   },
   "file_extension": ".py",
   "mimetype": "text/x-python",
   "name": "python",
   "nbconvert_exporter": "python",
   "pygments_lexer": "ipython3",
   "version": "3.10.13"
  }
 },
 "nbformat": 4,
 "nbformat_minor": 5
}
