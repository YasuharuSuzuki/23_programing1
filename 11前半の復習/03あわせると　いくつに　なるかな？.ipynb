{
 "cells": [
  {
   "cell_type": "markdown",
   "metadata": {
    "colab_type": "text",
    "id": "view-in-github"
   },
   "source": [
    "<a href=\"https://colab.research.google.com/github/YasuharuSuzuki/23_programing1/blob/main/\" target=\"_parent\"><img src=\"https://colab.research.google.com/assets/colab-badge.svg\" alt=\"Open In Colab\"/></a>"
   ]
  },
  {
   "cell_type": "markdown",
   "metadata": {},
   "source": [
    "# あわせると　いくつに　なるかな？ (2点)\n",
    "- ゆるるくんは小学生向けの問題を作成しています。\n",
    "- 和が10以内の2つの数を足した結果を自動的に求めるプログラムを作成し、小学生に見せたいと思っています。\n",
    "- ２つの値のうち、最初の値は2と決めました。\n",
    "- もう一つの値 $ B $ は1〜7の値が入力されます。\n",
    "- $2+ B $ の結果を$ R $とし、「$2+B=R$」「こたえは $ R $ です」と２行で表示してください。"
   ]
  },
  {
   "cell_type": "markdown",
   "metadata": {},
   "source": [
    "### 制約\n",
    "$ 1 <= B <= 7 $"
   ]
  },
  {
   "cell_type": "markdown",
   "metadata": {},
   "source": [
    "### 入力\n",
    "入力は以下の形式で標準入力から与えられます\n",
    "\n",
    "---\n",
    "$ B $\n",
    "\n",
    "---\n",
    "\n",
    "足す値 $ B $ を受け取ります"
   ]
  },
  {
   "cell_type": "markdown",
   "metadata": {},
   "source": [
    "### 出力\n",
    "\n",
    "---\n",
    "```python\n",
    "2 + B = R\n",
    "こたえは R です\n",
    "```\n",
    "---\n",
    "\n",
    "2と足し算した結果を出力してください。"
   ]
  },
  {
   "cell_type": "markdown",
   "metadata": {},
   "source": [
    "---"
   ]
  },
  {
   "cell_type": "markdown",
   "metadata": {},
   "source": [
    "### 入力例1\n",
    "```python\n",
    "3\n",
    "```\n",
    "\n",
    "### 出力例1\n",
    "```python\n",
    "2 + 3 = 5\n",
    "こたえは 5 です\n",
    "```\n",
    "※ 式とこたえを出力してください。"
   ]
  },
  {
   "cell_type": "markdown",
   "metadata": {},
   "source": [
    "---"
   ]
  },
  {
   "cell_type": "markdown",
   "metadata": {},
   "source": [
    "### 入力例2\n",
    "```python\n",
    "5\n",
    "```\n",
    "\n",
    "### 出力例2\n",
    "```python\n",
    "2 + 5 = 7\n",
    "こたえは 7 です\n",
    "```\n",
    "※ 式とこたえを出力してください。"
   ]
  },
  {
   "cell_type": "markdown",
   "metadata": {},
   "source": [
    "---"
   ]
  },
  {
   "cell_type": "markdown",
   "metadata": {},
   "source": [
    "### ここ↓にPythonコードを記述してください"
   ]
  },
  {
   "cell_type": "code",
   "execution_count": 1,
   "metadata": {},
   "outputs": [
    {
     "name": "stdout",
     "output_type": "stream",
     "text": [
      "5\n",
      "2+5=7\n",
      "こたえは 7 です\n"
     ]
    }
   ],
   "source": [
    "b = int(input())\n",
    "r = 2 + b\n",
    "\n",
    "print(f\"2+{b}={r}\")\n",
    "print(f\"こたえは {r} です\")"
   ]
  },
  {
   "cell_type": "code",
   "execution_count": null,
   "metadata": {},
   "outputs": [],
   "source": []
  }
 ],
 "metadata": {
  "colab": {
   "authorship_tag": "ABX9TyMOtB7OiTVLb+yu2KoVwjto",
   "include_colab_link": true,
   "provenance": []
  },
  "kernelspec": {
   "display_name": "Python 3 (ipykernel)",
   "language": "python",
   "name": "python3"
  },
  "language_info": {
   "codemirror_mode": {
    "name": "ipython",
    "version": 3
   },
   "file_extension": ".py",
   "mimetype": "text/x-python",
   "name": "python",
   "nbconvert_exporter": "python",
   "pygments_lexer": "ipython3",
   "version": "3.10.13"
  }
 },
 "nbformat": 4,
 "nbformat_minor": 1
}
