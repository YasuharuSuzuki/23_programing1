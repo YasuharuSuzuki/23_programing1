{
 "cells": [
  {
   "cell_type": "markdown",
   "id": "e0f811d1",
   "metadata": {},
   "source": [
    "# 全パターンを出力する"
   ]
  },
  {
   "cell_type": "code",
   "execution_count": 3,
   "id": "9577d095",
   "metadata": {},
   "outputs": [],
   "source": [
    "import random"
   ]
  },
  {
   "cell_type": "code",
   "execution_count": 9,
   "id": "b34f8bc4",
   "metadata": {
    "scrolled": false
   },
   "outputs": [],
   "source": [
    "def output_all(in_file_name, out_file_name):\n",
    "    \n",
    "    OUTPUT_PATTERN = 20\n",
    "    NUMBER_OF_ROUNDS = 5 # 5回戦のため\n",
    "    Aの勝ち=[\"G C\",\"C P\",\"P G\"]\n",
    "    Bの勝ち=[\"C G\",\"P C\",\"G P\"]\n",
    "    GCP = \"GCP\"\n",
    "    \n",
    "    output_index = 0\n",
    "    \n",
    "    for pattern in range(OUTPUT_PATTERN):\n",
    "        a_win = 0\n",
    "        b_win = 0\n",
    "        input_list = []\n",
    "        output_list = []\n",
    "\n",
    "        for number in range(NUMBER_OF_ROUNDS):\n",
    "            a, b = random.choices(GCP, k=2)\n",
    "            ab = f\"{a} {b}\"\n",
    "            input_list.append(ab)\n",
    "            if ab in Aの勝ち:\n",
    "                a_win += 1\n",
    "            elif ab in Bの勝ち:\n",
    "                b_win += 1\n",
    "\n",
    "        output_list.append(f\"{a_win} {b_win}\")\n",
    "\n",
    "        # ファイル出力\n",
    "        output_index+=1\n",
    "        with open(in_file_name.format(output_index),\"w\") as f_in:\n",
    "            f_in.writelines(\"\\n\".join(input_list))\n",
    "        with open(out_file_name.format(output_index),\"w\") as f_out:\n",
    "            f_out.writelines(output_list)\n",
    "\n",
    "output_all(\"data/in{:02}.txt\", \"data/out{:02}.txt\")"
   ]
  },
  {
   "cell_type": "code",
   "execution_count": 2,
   "id": "0262501a",
   "metadata": {},
   "outputs": [],
   "source": [
    "output_all(\"data/in{:02}.txt\", \"data/out{:02}.txt\")"
   ]
  },
  {
   "cell_type": "code",
   "execution_count": null,
   "id": "e62e7ce6",
   "metadata": {},
   "outputs": [],
   "source": []
  }
 ],
 "metadata": {
  "kernelspec": {
   "display_name": "Python 3 (ipykernel)",
   "language": "python",
   "name": "python3"
  },
  "language_info": {
   "codemirror_mode": {
    "name": "ipython",
    "version": 3
   },
   "file_extension": ".py",
   "mimetype": "text/x-python",
   "name": "python",
   "nbconvert_exporter": "python",
   "pygments_lexer": "ipython3",
   "version": "3.10.13"
  }
 },
 "nbformat": 4,
 "nbformat_minor": 5
}
