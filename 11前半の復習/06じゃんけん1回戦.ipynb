{
 "cells": [
  {
   "cell_type": "markdown",
   "metadata": {
    "colab_type": "text",
    "id": "view-in-github"
   },
   "source": [
    "<a href=\"https://colab.research.google.com/github/YasuharuSuzuki/23_programing1/blob/main/\" target=\"_parent\"><img src=\"https://colab.research.google.com/assets/colab-badge.svg\" alt=\"Open In Colab\"/></a>"
   ]
  },
  {
   "cell_type": "markdown",
   "metadata": {},
   "source": [
    "# じゃんけん１回戦 (2点)\n",
    "- AさんとBさんがじゃんけんをします。\n",
    "- じゃんけんでグーを出したときには'G'、チョキを出したときには'C'、パーを出したときには'P'の文字がそれぞれ与えられます。\n",
    "- Aさんが勝ったときには\"Aさんの勝ち\"、Bさんが勝ったときには\"Bさんの勝ち\"、あいこのときには\"あいこ\"と表示してください。"
   ]
  },
  {
   "cell_type": "markdown",
   "metadata": {},
   "source": [
    "### 制約\n",
    "- $ S_i $は``G``、``C``、``P``のいずれか\n",
    "- $ | S | = 1 $"
   ]
  },
  {
   "cell_type": "markdown",
   "metadata": {},
   "source": [
    "### 入力\n",
    "入力は以下の形式で標準入力から与えられます\n",
    "\n",
    "---\n",
    "$ S_A \\quad S_B $\n",
    "\n",
    "---\n",
    "\n",
    "AさんとBさんそれぞれが出したじゃんけんの値 $ S_A, S_B $ を受け取ります"
   ]
  },
  {
   "cell_type": "markdown",
   "metadata": {},
   "source": [
    "### 出力\n",
    "\n",
    "\"Aさんの勝ち\"、\"Bさんの勝ち\"、または\"あいこ\"のいずれかを出力してください。"
   ]
  },
  {
   "cell_type": "markdown",
   "metadata": {},
   "source": [
    "---"
   ]
  },
  {
   "cell_type": "markdown",
   "metadata": {},
   "source": [
    "### 入力例1\n",
    "```python\n",
    "G C\n",
    "```\n",
    "\n",
    "### 出力例1\n",
    "```python\n",
    "Aさんの勝ち\n",
    "```\n",
    "- グーとチョキではグーが強いので\"Aさんの勝ち\"と表示します。"
   ]
  },
  {
   "cell_type": "markdown",
   "metadata": {},
   "source": [
    "---"
   ]
  },
  {
   "cell_type": "markdown",
   "metadata": {},
   "source": [
    "### 入力例2\n",
    "```python\n",
    "P P\n",
    "```\n",
    "\n",
    "### 出力例2\n",
    "```python\n",
    "あいこ\n",
    "```\n",
    "- 両方パーを出したときには\"あいこ\"と表示してください"
   ]
  },
  {
   "cell_type": "markdown",
   "metadata": {},
   "source": [
    "---"
   ]
  },
  {
   "cell_type": "markdown",
   "metadata": {},
   "source": [
    "### 入力例3\n",
    "```python\n",
    "G P\n",
    "```\n",
    "\n",
    "### 出力例3\n",
    "```python\n",
    "Bさんの勝ち\n",
    "```\n",
    "- グーとパーではパーが強いので\"Bさんの勝ち\"と表示します。"
   ]
  },
  {
   "cell_type": "markdown",
   "metadata": {},
   "source": [
    "---"
   ]
  },
  {
   "cell_type": "markdown",
   "metadata": {},
   "source": [
    "### ここ↓にPythonコードを記述してください"
   ]
  },
  {
   "cell_type": "code",
   "execution_count": 14,
   "metadata": {},
   "outputs": [
    {
     "name": "stdout",
     "output_type": "stream",
     "text": [
      "G C\n",
      "Aさんの勝ち\n"
     ]
    }
   ],
   "source": [
    "\n",
    "\n",
    "\n",
    "\n"
   ]
  },
  {
   "cell_type": "code",
   "execution_count": null,
   "metadata": {},
   "outputs": [],
   "source": []
  }
 ],
 "metadata": {
  "colab": {
   "authorship_tag": "ABX9TyMOtB7OiTVLb+yu2KoVwjto",
   "include_colab_link": true,
   "provenance": []
  },
  "kernelspec": {
   "display_name": "Python 3 (ipykernel)",
   "language": "python",
   "name": "python3"
  },
  "language_info": {
   "codemirror_mode": {
    "name": "ipython",
    "version": 3
   },
   "file_extension": ".py",
   "mimetype": "text/x-python",
   "name": "python",
   "nbconvert_exporter": "python",
   "pygments_lexer": "ipython3",
   "version": "3.10.13"
  }
 },
 "nbformat": 4,
 "nbformat_minor": 1
}
