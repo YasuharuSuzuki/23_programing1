{
 "cells": [
  {
   "cell_type": "markdown",
   "metadata": {
    "colab_type": "text",
    "id": "view-in-github"
   },
   "source": [
    "<a href=\"https://colab.research.google.com/github/YasuharuSuzuki/23_programing1/blob/main/\" target=\"_parent\"><img src=\"https://colab.research.google.com/assets/colab-badge.svg\" alt=\"Open In Colab\"/></a>"
   ]
  },
  {
   "cell_type": "markdown",
   "metadata": {},
   "source": [
    "# じゃんけん5回戦 (2点)\n",
    "- AさんとBさんが５回じゃんけんをします。\n",
    "- じゃんけんでグーを出したときには'G'、チョキを出したときには'C'、パーを出したときには'P'の文字がそれぞれ与えられます。\n",
    "- Aさんが勝ったときにはAさんの勝利数をカウントし、Bさんが勝ったときにはBさんの勝利数をカウントします。\n",
    "- あいこのときにはどちらの勝利数もカウントしません。\n",
    "- ５回戦ったAさんとBさんの勝利数を出力してください。"
   ]
  },
  {
   "cell_type": "markdown",
   "metadata": {},
   "source": [
    "### 制約\n",
    "- $ S_{ij} $は``G``、``C``、``P``のいずれか\n",
    "- $ | S | = 1 $"
   ]
  },
  {
   "cell_type": "markdown",
   "metadata": {},
   "source": [
    "### 入力\n",
    "入力は以下の形式で標準入力から与えられます\n",
    "\n",
    "---\n",
    "$ S_{A1} \\quad S_{B1} $  \n",
    "$ S_{A2} \\quad S_{B2} $  \n",
    "$ S_{A3} \\quad S_{B3} $  \n",
    "$ S_{A4} \\quad S_{B4} $  \n",
    "$ S_{A5} \\quad S_{B5} $  \n",
    "\n",
    "---\n",
    "\n",
    "Aさんの手を$ S_{Ai}$ Bさんの手を$ S_{Bi} $で受け取ります"
   ]
  },
  {
   "cell_type": "markdown",
   "metadata": {},
   "source": [
    "### 出力\n",
    "$ Aさんの勝利数 \\quad Bさんの勝利数  $"
   ]
  },
  {
   "cell_type": "markdown",
   "metadata": {},
   "source": [
    "- それぞれの勝利数をスペース区切りで、かつ一行で出力してください"
   ]
  },
  {
   "cell_type": "markdown",
   "metadata": {},
   "source": [
    "---"
   ]
  },
  {
   "cell_type": "markdown",
   "metadata": {},
   "source": [
    "### 入力例1\n",
    "```python\n",
    "G C\n",
    "C G\n",
    "P P\n",
    "P C\n",
    "C G\n",
    "```\n",
    "\n",
    "### 出力例1\n",
    "```python\n",
    "1 3\n",
    "```\n",
    "- Aさんの1勝、Bさんの3勝のため、1 3 と出力します"
   ]
  },
  {
   "cell_type": "markdown",
   "metadata": {},
   "source": [
    "---"
   ]
  },
  {
   "cell_type": "markdown",
   "metadata": {},
   "source": [
    "### 入力例2\n",
    "```python\n",
    "G G\n",
    "C C\n",
    "P P\n",
    "C C\n",
    "G G\n",
    "```\n",
    "\n",
    "### 出力例2\n",
    "```python\n",
    "0 0\n",
    "```\n",
    "- すべてあいこの場合は 0 0 と出力します"
   ]
  },
  {
   "cell_type": "markdown",
   "metadata": {},
   "source": [
    "---"
   ]
  },
  {
   "cell_type": "markdown",
   "metadata": {},
   "source": [
    "### 入力例3\n",
    "```python\n",
    "P G\n",
    "G C\n",
    "C P\n",
    "G C\n",
    "P G\n",
    "```\n",
    "\n",
    "### 出力例3\n",
    "```python\n",
    "5 0\n",
    "```\n",
    "- Aさんの5勝、Bさんの0勝のため、5 0 と出力します"
   ]
  },
  {
   "cell_type": "markdown",
   "metadata": {},
   "source": [
    "---"
   ]
  },
  {
   "cell_type": "markdown",
   "metadata": {},
   "source": [
    "### ここ↓にPythonコードを記述してください"
   ]
  },
  {
   "cell_type": "code",
   "execution_count": 1,
   "metadata": {},
   "outputs": [
    {
     "name": "stdout",
     "output_type": "stream",
     "text": [
      "G C\n",
      "C G\n",
      "P P\n",
      "P C\n",
      "C G\n",
      "1 3\n"
     ]
    }
   ],
   "source": [
    "a_win = b_win = 0\n",
    "for i in range(5):\n",
    "    a, b = input().split()\n",
    "    ab = a + b\n",
    "    if a == b:\n",
    "        pass\n",
    "    elif ab=='GC' or ab=='PG' or ab=='CP':\n",
    "        a_win += 1\n",
    "    else:\n",
    "        b_win += 1\n",
    "print(f\"{a_win} {b_win}\")"
   ]
  },
  {
   "cell_type": "code",
   "execution_count": null,
   "metadata": {},
   "outputs": [],
   "source": []
  }
 ],
 "metadata": {
  "colab": {
   "authorship_tag": "ABX9TyMOtB7OiTVLb+yu2KoVwjto",
   "include_colab_link": true,
   "provenance": []
  },
  "kernelspec": {
   "display_name": "Python 3 (ipykernel)",
   "language": "python",
   "name": "python3"
  },
  "language_info": {
   "codemirror_mode": {
    "name": "ipython",
    "version": 3
   },
   "file_extension": ".py",
   "mimetype": "text/x-python",
   "name": "python",
   "nbconvert_exporter": "python",
   "pygments_lexer": "ipython3",
   "version": "3.10.13"
  }
 },
 "nbformat": 4,
 "nbformat_minor": 1
}
