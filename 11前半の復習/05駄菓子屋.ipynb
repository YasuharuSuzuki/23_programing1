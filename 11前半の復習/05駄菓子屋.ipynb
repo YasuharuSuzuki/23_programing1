{
 "cells": [
  {
   "cell_type": "markdown",
   "metadata": {
    "colab_type": "text",
    "id": "view-in-github"
   },
   "source": [
    "<a href=\"https://colab.research.google.com/github/YasuharuSuzuki/23_programing1/blob/main/\" target=\"_parent\"><img src=\"https://colab.research.google.com/assets/colab-badge.svg\" alt=\"Open In Colab\"/></a>"
   ]
  },
  {
   "cell_type": "markdown",
   "metadata": {},
   "source": [
    "# 駄菓子屋 (2点)\n",
    "- ゆるるくんは駄菓子屋へ行きました。\n",
    "- 雑多に置かれた駄菓子を $ N $ 個掴みましたが、そのうちの $ S $ 番目〜 $ E $ 番目までを買うことにしました。\n",
    "- 各駄菓子の値段が $ D_1 $ 〜 $ D_N $ で表される時、合計金額はいくらになりますか？"
   ]
  },
  {
   "cell_type": "markdown",
   "metadata": {},
   "source": [
    "### 制約\n",
    "$ 1 \\leq　N \\leq　10 $   \n",
    "$ 1 \\leq　S \\leq　N $   \n",
    "$ S \\leq　E \\leq　N $   \n",
    "$ 5 \\leq　D_i \\leq　100 $   \n",
    "$ N $、$ S $、$ E $ 、$ D_i $ はそれぞれ整数"
   ]
  },
  {
   "cell_type": "markdown",
   "metadata": {},
   "source": [
    "### 入力\n",
    "入力は以下の形式で標準入力から与えられます\n",
    "\n",
    "---\n",
    "$\n",
    "N \\quad S \\quad E \\\\\n",
    "D_1 \\quad D_2 \\quad ... \\quad D_N \\\\\n",
    "$\n",
    "\n",
    "---\n",
    "\n",
    "- 掴んだ駄菓子の個数$ N $、買うことにした範囲（ $ S $、 $ E $）、各駄菓子の値段 $ D_1 $ 〜 $ D_N $ を受け取ります。\n",
    "- 2行の文字列ですのでinput()2回で受け取りましょう"
   ]
  },
  {
   "cell_type": "markdown",
   "metadata": {},
   "source": [
    "### 出力\n",
    "\n",
    "---\n",
    "合計金額\n",
    "\n",
    "---\n",
    "\n",
    "合計金額を数値で出力してください。"
   ]
  },
  {
   "cell_type": "markdown",
   "metadata": {},
   "source": [
    "---"
   ]
  },
  {
   "cell_type": "markdown",
   "metadata": {},
   "source": [
    "### 入力例1\n",
    "```python\n",
    "10 1 5\n",
    "5 10 15 20 25 30 35 40 45 50\n",
    "```\n",
    "\n",
    "### 出力例1\n",
    "```python\n",
    "75\n",
    "```\n",
    "※ 掴んだ駄菓子の合計金額を出力してください。  \n",
    "※上記の例では、$D_1$ 〜 $D_5$ がそれぞれ5,10,15,20,25のため、合計金額は75となります"
   ]
  },
  {
   "cell_type": "markdown",
   "metadata": {},
   "source": [
    "---"
   ]
  },
  {
   "cell_type": "markdown",
   "metadata": {},
   "source": [
    "### 入力例2\n",
    "```python\n",
    "5 4 5\n",
    "60 70 80 90 100\n",
    "```\n",
    "\n",
    "### 出力例2\n",
    "```python\n",
    "190\n",
    "```\n",
    "※ 掴んだ駄菓子の合計金額を出力してください。  \n",
    "※上記の例では、$D_4$、$D_5$ がそれぞれ 90, 100 のため、合計金額は 190 となります"
   ]
  },
  {
   "cell_type": "markdown",
   "metadata": {},
   "source": [
    "---"
   ]
  },
  {
   "cell_type": "markdown",
   "metadata": {},
   "source": [
    "### ここ↓にPythonコードを記述してください"
   ]
  },
  {
   "cell_type": "code",
   "execution_count": 2,
   "metadata": {},
   "outputs": [
    {
     "name": "stdout",
     "output_type": "stream",
     "text": [
      "10 1 5\n",
      "5 10 15 20 25 30 35 40 45 50\n",
      "75\n"
     ]
    }
   ],
   "source": [
    "\n",
    "\n"
   ]
  },
  {
   "cell_type": "code",
   "execution_count": null,
   "metadata": {},
   "outputs": [],
   "source": []
  }
 ],
 "metadata": {
  "colab": {
   "authorship_tag": "ABX9TyMOtB7OiTVLb+yu2KoVwjto",
   "include_colab_link": true,
   "provenance": []
  },
  "kernelspec": {
   "display_name": "Python 3 (ipykernel)",
   "language": "python",
   "name": "python3"
  },
  "language_info": {
   "codemirror_mode": {
    "name": "ipython",
    "version": 3
   },
   "file_extension": ".py",
   "mimetype": "text/x-python",
   "name": "python",
   "nbconvert_exporter": "python",
   "pygments_lexer": "ipython3",
   "version": "3.10.13"
  }
 },
 "nbformat": 4,
 "nbformat_minor": 1
}
